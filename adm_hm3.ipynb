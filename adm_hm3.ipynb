{
 "cells": [
  {
   "cell_type": "markdown",
   "metadata": {},
   "source": [
    "# Homework 3 - What is the best anime in the world?"
   ]
  },
  {
   "cell_type": "code",
   "execution_count": 1,
   "metadata": {
    "id": "1vpHmGKKVr3y"
   },
   "outputs": [],
   "source": [
    "import requests\n",
    "from bs4 import BeautifulSoup as bs\n",
    "import os\n",
    "import pickle\n",
    "import numpy as np\n",
    "import time\n",
    "import re\n",
    "import datetime as dt \n",
    "import csv\n",
    "import pandas as pd\n",
    "import nltk\n",
    "from nltk.corpus import stopwords\n",
    "import string"
   ]
  },
  {
   "cell_type": "markdown",
   "metadata": {},
   "source": [
    "## 1. Data collection\n",
    "\n",
    "### 1.1. Get the list of animes"
   ]
  },
  {
   "cell_type": "code",
   "execution_count": 2,
   "metadata": {
    "id": "05q7ZZuI-GDE"
   },
   "outputs": [],
   "source": [
    "def take_n_urls(n):\n",
    "\n",
    "    main_url = \"https://myanimelist.net/topanime.php\"\n",
    "\n",
    "    # this list will contain all the urls we'll retrieve\n",
    "    urls = [] \n",
    "\n",
    "    # each page shows 50 elements and we can retrieve each page by manipulating the \"limit\" query\n",
    "    for limit in range(0, n, 50): \n",
    "        content = requests.get(main_url,\n",
    "                               params={\"limit\": limit})\n",
    "        if content.status_code == 404:\n",
    "            print(f\"Page with limit {limit} was not found. Interrumpting and returning pages found\")\n",
    "            break\n",
    "        soup = bs(content.content, \"html.parser\")\n",
    "\n",
    "        # from the content of each page we retrieve the portions that contain the urls\n",
    "        results = soup.find_all(\"a\", \n",
    "                                class_= \"hoverinfo_trigger fl-l ml12 mr8\")\n",
    "\n",
    "        # finally, we take the string containing each url by taking the attribute href,\n",
    "        # and we append them in the urls list\n",
    "        for result in results:\n",
    "            url = result[\"href\"]\n",
    "            if url not in urls:  # check for duplicates\n",
    "                urls.append(url)\n",
    "\n",
    "    return urls"
   ]
  },
  {
   "cell_type": "code",
   "execution_count": 3,
   "metadata": {
    "colab": {
     "base_uri": "https://localhost:8080/"
    },
    "id": "pdJbPl0CWPPq",
    "outputId": "b98b3450-05af-4830-d7dc-e08e66c56092"
   },
   "outputs": [
    {
     "name": "stdout",
     "output_type": "stream",
     "text": [
      "Loading urls...\n",
      "Done!\n"
     ]
    }
   ],
   "source": [
    "if \"urls.txt\" not in os.listdir():\n",
    "    urls = take_n_urls(20000)\n",
    "    # Since the output of this step has to be a txt file, here we write one with each\n",
    "    # url separated by a newline\n",
    "    with open(\"urls.txt\", \"w\") as file:\n",
    "        file.write(\"\\n\".join(urls_str))\n",
    "else:\n",
    "    with open(\"urls.txt\", \"r\", encoding=\"utf8\") as file:\n",
    "        print(\"Loading urls...\")\n",
    "        urls = file.read().split(\"\\n\")\n",
    "        print(\"Done!\")"
   ]
  },
  {
   "cell_type": "code",
   "execution_count": 4,
   "metadata": {
    "colab": {
     "base_uri": "https://localhost:8080/"
    },
    "id": "BIe7cbwc_zOt",
    "outputId": "268a24bd-5649-4cce-ff7d-5e9cdf87d09a"
   },
   "outputs": [
    {
     "name": "stdout",
     "output_type": "stream",
     "text": [
      "19130\n",
      "https://myanimelist.net/anime/30839/Big_X_Episode_0\n"
     ]
    }
   ],
   "source": [
    "# we end up with 19131 urls. \n",
    "# I added a check that tells us when we have exceeded the length of the ranking list and returns what has been found\n",
    "# up until that moment (so to avoid losing any more time with get requests that point to nothing)\n",
    "# I know in the assignment they said 20000 but I'm fairly sure that's all the entries. \n",
    "# This is easy to see if we manually set the limit in the url and check the results. \n",
    "# For example: https://myanimelist.net/topanime.php?limit=15000 contains rankings 15001-15050. The first entry is\n",
    "# Big X Episode 0. If we check our list with urls[15000] (remember that our list is 0-indexed) we obtain the same result.\n",
    "# This to me seems to point to a correct behavior from the function, but let me know what you think.\n",
    "\n",
    "print(len(urls)) \n",
    "print(urls[15000])\n",
    "urls_str = list(map(str, urls))"
   ]
  },
  {
   "cell_type": "markdown",
   "metadata": {},
   "source": [
    "### 1.2. Crawl animes"
   ]
  },
  {
   "cell_type": "markdown",
   "metadata": {},
   "source": [
    "Attention: the index of article start with 0 and not 1 so all ranks are shifted by 1 position"
   ]
  },
  {
   "cell_type": "code",
   "execution_count": 27,
   "metadata": {},
   "outputs": [],
   "source": [
    "# Here we create the directory where the html pages will be stored\n",
    "if \"html_pages\" not in os.listdir():\n",
    "    os.mkdir(\"html_pages\")"
   ]
  },
  {
   "cell_type": "code",
   "execution_count": 39,
   "metadata": {
    "id": "t-HVU_RiAfYf",
    "scrolled": true
   },
   "outputs": [],
   "source": [
    "def save_html_pages(urls):\n",
    "    if \"counter_pages\" not in os.listdir():\n",
    "        start = 0\n",
    "    else:\n",
    "        with open(\"counter_pages\", \"rb\") as counter_file:\n",
    "            start = pickle.load(counter_file) + 1\n",
    "\n",
    "    print(f\"Starting from anime #{start}\")\n",
    "    n = len(urls)\n",
    "    for i in range(start, n):\n",
    "        ranking_page = str(int(np.floor(i/50)))\n",
    "        if i % 50 == 0 or f\"ranking_page_{ranking_page}\" not in os.listdir(\"./html_pages\"):\n",
    "            os.mkdir(f\"html_pages/ranking_page_{ranking_page}\")\n",
    "        html_page = requests.get(urls[i])\n",
    "        sleep_timer = 60\n",
    "        while html_page.status_code != 200: # if the status_code is not 200, we've exceeded the number of requests and have to wait\n",
    "            print(f\"Exceeded number of requests while retrieving page #{i}.\\nWaiting {sleep_timer} seconds\")\n",
    "            html_page.close()\n",
    "            time.sleep(sleep_timer)\n",
    "            html_page = requests.get(urls[i])\n",
    "            sleep_timer += 10\n",
    "        with open (f\"html_pages/ranking_page_{ranking_page}/article_{i}.html\", \"w\", encoding=\"utf-8\") as file:\n",
    "            file.write(html_page.text)\n",
    "        with open (\"counter_pages\", \"wb\") as counter_file:\n",
    "            pickle.dump(i, counter_file)\n"
   ]
  },
  {
   "cell_type": "code",
   "execution_count": 98,
   "metadata": {},
   "outputs": [
    {
     "name": "stdout",
     "output_type": "stream",
     "text": [
      "Starting from anime #18306\n",
      "Exceeded number of requests while retrieving page #18512.\n",
      "Waiting 60 seconds\n",
      "Exceeded number of requests while retrieving page #18512.\n",
      "Waiting 70 seconds\n",
      "Exceeded number of requests while retrieving page #18512.\n",
      "Waiting 80 seconds\n",
      "Exceeded number of requests while retrieving page #18512.\n",
      "Waiting 90 seconds\n",
      "Exceeded number of requests while retrieving page #18725.\n",
      "Waiting 60 seconds\n",
      "Exceeded number of requests while retrieving page #18725.\n",
      "Waiting 70 seconds\n",
      "Exceeded number of requests while retrieving page #18725.\n",
      "Waiting 80 seconds\n",
      "Exceeded number of requests while retrieving page #18725.\n",
      "Waiting 90 seconds\n",
      "Exceeded number of requests while retrieving page #18905.\n",
      "Waiting 60 seconds\n",
      "Exceeded number of requests while retrieving page #18905.\n",
      "Waiting 70 seconds\n",
      "Exceeded number of requests while retrieving page #18905.\n",
      "Waiting 80 seconds\n",
      "Exceeded number of requests while retrieving page #18905.\n",
      "Waiting 90 seconds\n",
      "Exceeded number of requests while retrieving page #19109.\n",
      "Waiting 60 seconds\n",
      "Exceeded number of requests while retrieving page #19109.\n",
      "Waiting 70 seconds\n",
      "Exceeded number of requests while retrieving page #19109.\n",
      "Waiting 80 seconds\n",
      "Exceeded number of requests while retrieving page #19109.\n",
      "Waiting 90 seconds\n"
     ]
    }
   ],
   "source": [
    "save_html_pages(urls)"
   ]
  },
  {
   "cell_type": "markdown",
   "metadata": {},
   "source": [
    "### 1.3 Parse downloaded pages\n",
    "\n",
    "At this point, you should have all the html documents about the animes of interest and you can start to extract the animes informations. The list of information we desire for each anime and their format is the following:\n",
    "\n",
    "1. Anime Name (to save as `animeTitle`): String\n",
    "2. Anime Type (to save as `animeType`): String\n",
    "3. Number of episode (to save as `animeNumEpisode`): Integer\n",
    "4. Release and End Dates of anime (to save as `releaseDate` and `endDate`): Convert both release and end date into datetime format.\n",
    "5. Number of members (to save as `animeNumMembers`): Integer\n",
    "6. Score (to save as `animeScore`): Float\n",
    "7. Users (to save as `animeUsers`): Integer\n",
    "8. Rank (to save as `animeRank`): Integer\n",
    "9. Popularity (to save as `animePopularity`): Integer\n",
    "10. Synopsis (to save as `animeDescription`): String\n",
    "11. Related Anime (to save as `animeRelated`): Extract all the related animes, but only keep unique values and those that have a hyperlink associated to them. List of strings.\n",
    "12. Characters (to save as `animeCharacters`): List of strings.\n",
    "13. Voices (to save as `animeVoices`): List of strings\n",
    "14. Staff (to save as `animeStaff`): Include the staff name and their responsibility/task in a list of lists.\n"
   ]
  },
  {
   "cell_type": "code",
   "execution_count": 316,
   "metadata": {},
   "outputs": [],
   "source": [
    "# Here we create the directory where the tsv files will be stored\n",
    "if \"tsv_files\" not in os.listdir():\n",
    "    os.mkdir(\"tsv_files\")"
   ]
  },
  {
   "cell_type": "code",
   "execution_count": 31,
   "metadata": {},
   "outputs": [],
   "source": [
    "path_ex ='C:/Users/aurel/OneDrive/Bureau/IMT/3ème année IMT/0_Cours Sapienza/ADM/Homework/Homework 3'\n",
    "\n",
    "\n",
    "def collect_info(num_article, folder='tsv_files'):\n",
    "    ranking_page = str(int(np.floor(num_article/50)))\n",
    "    article=f'{path_ex}/html_pages/ranking_page_{ranking_page}/article_{num_article}.html'\n",
    "    with open(article, \"r\", encoding=\"utf-8\") as file:\n",
    "        art= bs(file.read(), 'html.parser')\n",
    "    \n",
    "    #animeTitle\n",
    "    animeTitle = art.find('h1', {'class':\"title-name h1_bold_none\"}).string\n",
    "    #print('animeTitle :',animeTitle)\n",
    "    \n",
    "    \n",
    "    #animeType\n",
    "    animeType = art.find('span', {'class':\"information type\"}).string\n",
    "    #print('animeType :',animeType)\n",
    "    \n",
    "    \n",
    "    #animeNumEpisode and Dates (there is not specific name for those two info)\n",
    "    #list lines with tag <div class=\"spaceit_pad\">\n",
    "    lines = art.find_all('div', {'class':\"spaceit_pad\"})\n",
    "    for line in lines :\n",
    "        #for each div tag there is one span, so here we look for the span tag with 'Episodes:' and 'Aired'\n",
    "        sp= line.find('span', {'class':\"dark_text\"})\n",
    "        # to avoid error if there is no span\n",
    "        if sp is not None :\n",
    "            #for span 'Episodes' (and the div tag which corresponds)\n",
    "            if sp.string == 'Episodes:' :\n",
    "                #extract the content of the right div tag and take the third line which correspond to the number of episodes\n",
    "                if line.contents[2] != '\\n  Unknown\\n  ' :\n",
    "                    animeNumEpisode = int(line.contents[2])\n",
    "                    #animeNumEpisode = int(re.findall(r'-?\\d+\\.?\\d*', str(line))[0])           #if we want to use regex  \n",
    "                else :\n",
    "                    animeNumEpisode = ''\n",
    "            #for span 'Aired' (and the div tag which corresponds)\n",
    "            if sp.string == 'Aired:' :\n",
    "                str_dates = line.contents[2].split('\\n  ')[1]\n",
    "                #if \"Status: Finished Airing\" (there is a endDate)\n",
    "                if ('to' in str_dates) and ('?' not in str_dates):\n",
    "                    #extract the content of the right div tag and take the third line which correspond to the dates (fix the issue of '\\n')\n",
    "                    str_releaseDate, str_endDate = str_dates.split(' to ')\n",
    "                    #convert into a datetime\n",
    "                    date_format = \"%b %d, %Y\"\n",
    "                    releaseDate, endDate = dt.datetime.strptime(str_releaseDate, date_format), dt.datetime.strptime(str_endDate, date_format)\n",
    "                else :\n",
    "                    str_releaseDate = str_dates.split(' to ')[0]\n",
    "                    #convert into a datetime\n",
    "                    date_format = \"%b %d, %Y\"\n",
    "                    releaseDate = dt.datetime.strptime(str_releaseDate, date_format)\n",
    "                    endDate=''\n",
    "    #print('animeNumEpisode :',animeNumEpisode)\n",
    "    #print('releaseDate :',releaseDate)\n",
    "    #print('endDate :',endDate)\n",
    "    \n",
    "    \n",
    "    #animeNumMembers\n",
    "    animeNumMembers = int(art.find('span', {'class':\"numbers members\"}).contents[1].string.replace(',',''))\n",
    "    #print('animeNumMembers :',animeNumMembers)\n",
    "    \n",
    "    \n",
    "    #animeScore\n",
    "    animeScore = float(art.find('div', {'class':\"score-label\"}).string)\n",
    "    #print('animeScore :',animeScore)\n",
    "    \n",
    "    \n",
    "    #animeUsers\n",
    "    animeUsers = int(art.find('span', {'itemprop':\"ratingCount\"}).string)\n",
    "    #print('animeUsers :',animeUsers)\n",
    "    \n",
    "    \n",
    "    #animeRank\n",
    "    animeRank = int(art.find('span', {'class':\"numbers ranked\"}).contents[1].string.replace('#',''))\n",
    "    #print('animeRank :',animeRank)\n",
    "    \n",
    "    \n",
    "    #animePopularity\n",
    "    animePopularity = int(art.find('span', {'class':\"numbers popularity\"}).contents[1].string.replace('#',''))\n",
    "    #print('animePopularity :',animePopularity)\n",
    "    \n",
    "    \n",
    "    #animeDescription\n",
    "    desc = art.find('p', {'itemprop':\"description\"}).contents\n",
    "    animeDescription=''\n",
    "    #remove <br/> Tag and '\\n'\n",
    "    for ele in desc :\n",
    "        #delete tags with regex \n",
    "        ele = re.sub(re.compile('<.*?>'),'', str(ele))\n",
    "        animeDescription += ele\n",
    "        animeDescription = animeDescription.replace('\\n','')\n",
    "    #print('animeDescription :',animeDescription.replace('\\n',''))\n",
    "    \n",
    "    \n",
    "    #animeRelated\n",
    "    animeRelated = []\n",
    "    #store the table which contain related animes\n",
    "    table = art.find('table', {'class':\"anime_detail_related_anime\"})\n",
    "    if table is not None :\n",
    "        #store all links/anime related with 'a' Tag\n",
    "        links = table.find_all('a')\n",
    "        for link in links :\n",
    "            # check if there is a hyperlink and add it in the list if yes \n",
    "            if (link.get('href') is not None) and (link.string is not None):\n",
    "                animeRelated += [link.string]\n",
    "        animeRelated=list(set(animeRelated))\n",
    "    else :\n",
    "        animeRelated=''\n",
    "    #print('animeRelated :',animeRelated)\n",
    "\n",
    "    \n",
    "    #animeCharacters\n",
    "    animeCharacters = art.find_all('h3', {'class':\"h3_characters_voice_actors\"})\n",
    "    animeCharacters = [char.string for char in animeCharacters]\n",
    "    #print('animeCharacters :',animeCharacters)\n",
    "    \n",
    "    \n",
    "    #animeVoices\n",
    "    td_Voices = art.find_all('td', {'class':\"va-t ar pl4 pr4\"})\n",
    "    animeVoices = [voice.find('a').string for voice in td_Voices]\n",
    "    #print('animeVoices :',animeVoices)\n",
    "    \n",
    "    \n",
    "    #animeStaff\n",
    "    #if there is a staff, the div which correspond to the table Staff is the second one (there are div with {'class':\"detail-characters-list clearfix\"})\n",
    "    if len(art.find_all('div', {'class':\"detail-characters-list clearfix\"}))>1 :\n",
    "        div_staff = art.find_all('div', {'class':\"detail-characters-list clearfix\"})[1] \n",
    "        td_staff = div_staff.find_all('td', {'class':\"borderClass\"})\n",
    "        animeStaff=[]\n",
    "        for td in td_staff :\n",
    "            if td.get('width') == None:\n",
    "                animeStaff.append([td.find('a').string,td.find('small').string])\n",
    "    #if there is not staff\n",
    "    else :\n",
    "        animeStaff = ''\n",
    "    #print('animeStaff :',animeStaff)\n",
    "    \n",
    "    #create a .tsv file with attributes\n",
    "    with open(f'{folder}/anime_{num_article}', 'wt', encoding=\"utf8\") as out_file:\n",
    "        tsv_writer = csv.writer(out_file, delimiter='\\t')\n",
    "        tsv_writer.writerow([animeTitle, animeType, animeNumEpisode, releaseDate, endDate, animeNumMembers, \\\n",
    "                            animeScore, animeUsers, animeRank, animePopularity, animeDescription, animeRelated, \\\n",
    "                            animeCharacters, animeVoices, animeStaff])\n",
    "    "
   ]
  },
  {
   "cell_type": "code",
   "execution_count": 32,
   "metadata": {
    "scrolled": false
   },
   "outputs": [
    {
     "ename": "AttributeError",
     "evalue": "'NoneType' object has no attribute 'string'",
     "output_type": "error",
     "traceback": [
      "\u001b[1;31m---------------------------------------------------------------------------\u001b[0m",
      "\u001b[1;31mAttributeError\u001b[0m                            Traceback (most recent call last)",
      "\u001b[1;32m<ipython-input-32-4724ccb12d70>\u001b[0m in \u001b[0;36m<module>\u001b[1;34m\u001b[0m\n\u001b[0;32m      1\u001b[0m \u001b[1;32mfor\u001b[0m \u001b[0mi\u001b[0m \u001b[1;32min\u001b[0m \u001b[0mrange\u001b[0m\u001b[1;33m(\u001b[0m\u001b[0mlen\u001b[0m\u001b[1;33m(\u001b[0m\u001b[0murls\u001b[0m\u001b[1;33m)\u001b[0m\u001b[1;33m)\u001b[0m\u001b[1;33m:\u001b[0m\u001b[1;33m\u001b[0m\u001b[1;33m\u001b[0m\u001b[0m\n\u001b[1;32m----> 2\u001b[1;33m     \u001b[0mcollect_info\u001b[0m\u001b[1;33m(\u001b[0m\u001b[0mi\u001b[0m\u001b[1;33m)\u001b[0m\u001b[1;33m\u001b[0m\u001b[1;33m\u001b[0m\u001b[0m\n\u001b[0m",
      "\u001b[1;32m<ipython-input-31-58ccf039380a>\u001b[0m in \u001b[0;36mcollect_info\u001b[1;34m(num_article, folder)\u001b[0m\n\u001b[0;32m      9\u001b[0m \u001b[1;33m\u001b[0m\u001b[0m\n\u001b[0;32m     10\u001b[0m     \u001b[1;31m#animeTitle\u001b[0m\u001b[1;33m\u001b[0m\u001b[1;33m\u001b[0m\u001b[1;33m\u001b[0m\u001b[0m\n\u001b[1;32m---> 11\u001b[1;33m     \u001b[0manimeTitle\u001b[0m \u001b[1;33m=\u001b[0m \u001b[0mart\u001b[0m\u001b[1;33m.\u001b[0m\u001b[0mfind\u001b[0m\u001b[1;33m(\u001b[0m\u001b[1;34m'h1'\u001b[0m\u001b[1;33m,\u001b[0m \u001b[1;33m{\u001b[0m\u001b[1;34m'class'\u001b[0m\u001b[1;33m:\u001b[0m\u001b[1;34m\"title-name h1_bold_none\"\u001b[0m\u001b[1;33m}\u001b[0m\u001b[1;33m)\u001b[0m\u001b[1;33m.\u001b[0m\u001b[0mstring\u001b[0m\u001b[1;33m\u001b[0m\u001b[1;33m\u001b[0m\u001b[0m\n\u001b[0m\u001b[0;32m     12\u001b[0m     \u001b[1;31m#print('animeTitle :',animeTitle)\u001b[0m\u001b[1;33m\u001b[0m\u001b[1;33m\u001b[0m\u001b[1;33m\u001b[0m\u001b[0m\n\u001b[0;32m     13\u001b[0m \u001b[1;33m\u001b[0m\u001b[0m\n",
      "\u001b[1;31mAttributeError\u001b[0m: 'NoneType' object has no attribute 'string'"
     ]
    }
   ],
   "source": [
    "for i in range(len(urls)):\n",
    "    collect_info(i)\n"
   ]
  },
  {
   "cell_type": "code",
   "execution_count": 33,
   "metadata": {
    "scrolled": true
   },
   "outputs": [
    {
     "data": {
      "text/plain": [
       "278"
      ]
     },
     "execution_count": 33,
     "metadata": {},
     "output_type": "execute_result"
    }
   ],
   "source": [
    "i"
   ]
  },
  {
   "cell_type": "markdown",
   "metadata": {},
   "source": [
    "## 2. Search Engine"
   ]
  },
  {
   "cell_type": "markdown",
   "metadata": {},
   "source": [
    "### 2.0. Pre-processing\n",
    "\n",
    "1. Removing stopwords\n",
    "2. Removing punctuation\n",
    "3. Stemming\n",
    "4. Anything else you think it's needed"
   ]
  },
  {
   "cell_type": "code",
   "execution_count": 26,
   "metadata": {},
   "outputs": [
    {
     "name": "stderr",
     "output_type": "stream",
     "text": [
      "[nltk_data] Downloading package stopwords to\n",
      "[nltk_data]     C:\\Users\\aurel\\AppData\\Roaming\\nltk_data...\n",
      "[nltk_data]   Package stopwords is already up-to-date!\n",
      "[nltk_data] Downloading package punkt to\n",
      "[nltk_data]     C:\\Users\\aurel\\AppData\\Roaming\\nltk_data...\n",
      "[nltk_data]   Unzipping tokenizers\\punkt.zip.\n"
     ]
    },
    {
     "data": {
      "text/plain": [
       "True"
      ]
     },
     "execution_count": 26,
     "metadata": {},
     "output_type": "execute_result"
    }
   ],
   "source": [
    "nltk.download('stopwords')\n",
    "nltk.download('punkt')"
   ]
  },
  {
   "cell_type": "code",
   "execution_count": 14,
   "metadata": {},
   "outputs": [],
   "source": [
    "# For stemming\n",
    "porter = nltk.stem.PorterStemmer()\n",
    "lancaster = nltk.stem.LancasterStemmer()\n",
    "\n",
    "# For identifying the stop words\n",
    "eng_stopwords = stopwords.words(\"english\")"
   ]
  },
  {
   "cell_type": "code",
   "execution_count": 80,
   "metadata": {},
   "outputs": [
    {
     "data": {
      "text/plain": [
       "['a',\n",
       " 'about',\n",
       " 'above',\n",
       " 'after',\n",
       " 'again',\n",
       " 'against',\n",
       " 'ain',\n",
       " 'all',\n",
       " 'am',\n",
       " 'an',\n",
       " 'and',\n",
       " 'any',\n",
       " 'are',\n",
       " 'aren',\n",
       " \"aren't\",\n",
       " 'as',\n",
       " 'at',\n",
       " 'be',\n",
       " 'because',\n",
       " 'been',\n",
       " 'before',\n",
       " 'being',\n",
       " 'below',\n",
       " 'between',\n",
       " 'both',\n",
       " 'but',\n",
       " 'by',\n",
       " 'can',\n",
       " 'couldn',\n",
       " \"couldn't\",\n",
       " 'd',\n",
       " 'did',\n",
       " 'didn',\n",
       " \"didn't\",\n",
       " 'do',\n",
       " 'does',\n",
       " 'doesn',\n",
       " \"doesn't\",\n",
       " 'doing',\n",
       " 'don',\n",
       " \"don't\",\n",
       " 'down',\n",
       " 'during',\n",
       " 'each',\n",
       " 'few',\n",
       " 'for',\n",
       " 'from',\n",
       " 'further',\n",
       " 'had',\n",
       " 'hadn',\n",
       " \"hadn't\",\n",
       " 'has',\n",
       " 'hasn',\n",
       " \"hasn't\",\n",
       " 'have',\n",
       " 'haven',\n",
       " \"haven't\",\n",
       " 'having',\n",
       " 'he',\n",
       " 'her',\n",
       " 'here',\n",
       " 'hers',\n",
       " 'herself',\n",
       " 'him',\n",
       " 'himself',\n",
       " 'his',\n",
       " 'how',\n",
       " 'i',\n",
       " 'if',\n",
       " 'in',\n",
       " 'into',\n",
       " 'is',\n",
       " 'isn',\n",
       " \"isn't\",\n",
       " 'it',\n",
       " \"it's\",\n",
       " 'its',\n",
       " 'itself',\n",
       " 'just',\n",
       " 'll',\n",
       " 'm',\n",
       " 'ma',\n",
       " 'me',\n",
       " 'mightn',\n",
       " \"mightn't\",\n",
       " 'more',\n",
       " 'most',\n",
       " 'mustn',\n",
       " \"mustn't\",\n",
       " 'my',\n",
       " 'myself',\n",
       " 'needn',\n",
       " \"needn't\",\n",
       " 'no',\n",
       " 'nor',\n",
       " 'not',\n",
       " 'now',\n",
       " 'o',\n",
       " 'of',\n",
       " 'off',\n",
       " 'on',\n",
       " 'once',\n",
       " 'only',\n",
       " 'or',\n",
       " 'other',\n",
       " 'our',\n",
       " 'ours',\n",
       " 'ourselves',\n",
       " 'out',\n",
       " 'over',\n",
       " 'own',\n",
       " 're',\n",
       " 's',\n",
       " 'same',\n",
       " 'shan',\n",
       " \"shan't\",\n",
       " 'she',\n",
       " \"she's\",\n",
       " 'should',\n",
       " \"should've\",\n",
       " 'shouldn',\n",
       " \"shouldn't\",\n",
       " 'so',\n",
       " 'some',\n",
       " 'such',\n",
       " 't',\n",
       " 'than',\n",
       " 'that',\n",
       " \"that'll\",\n",
       " 'the',\n",
       " 'their',\n",
       " 'theirs',\n",
       " 'them',\n",
       " 'themselves',\n",
       " 'then',\n",
       " 'there',\n",
       " 'these',\n",
       " 'they',\n",
       " 'this',\n",
       " 'those',\n",
       " 'through',\n",
       " 'to',\n",
       " 'too',\n",
       " 'under',\n",
       " 'until',\n",
       " 'up',\n",
       " 've',\n",
       " 'very',\n",
       " 'was',\n",
       " 'wasn',\n",
       " \"wasn't\",\n",
       " 'we',\n",
       " 'were',\n",
       " 'weren',\n",
       " \"weren't\",\n",
       " 'what',\n",
       " 'when',\n",
       " 'where',\n",
       " 'which',\n",
       " 'while',\n",
       " 'who',\n",
       " 'whom',\n",
       " 'why',\n",
       " 'will',\n",
       " 'with',\n",
       " 'won',\n",
       " \"won't\",\n",
       " 'wouldn',\n",
       " \"wouldn't\",\n",
       " 'y',\n",
       " 'you',\n",
       " \"you'd\",\n",
       " \"you'll\",\n",
       " \"you're\",\n",
       " \"you've\",\n",
       " 'your',\n",
       " 'yours',\n",
       " 'yourself',\n",
       " 'yourselves']"
      ]
     },
     "execution_count": 80,
     "metadata": {},
     "output_type": "execute_result"
    }
   ],
   "source": [
    "sorted(eng_stopwords)\n"
   ]
  },
  {
   "cell_type": "code",
   "execution_count": 16,
   "metadata": {},
   "outputs": [],
   "source": [
    "def process_text(text):\n",
    "    try:\n",
    "        tokenized = nltk.word_tokenize(text)\n",
    "        stemmed = [porter.stem(word) for word in tokenized if ((word.lower() not in eng_stopwords) and (word not in string.punctuation))]\n",
    "    except TypeError as e:\n",
    "        print(text)\n",
    "        raise TypeError\n",
    "    return stemmed"
   ]
  },
  {
   "cell_type": "code",
   "execution_count": 118,
   "metadata": {},
   "outputs": [],
   "source": [
    "def merge_tsvs(path, colnames):\n",
    "    files = sorted(os.listdir(path))\n",
    "    df = pd.read_csv(path+files[0],\n",
    "                     names=colnames,\n",
    "                     sep=\"\\t\", engine='python')\n",
    "    for file_name in files[1:]:\n",
    "        df2 = pd.read_csv(path+file_name,\n",
    "                          names=colnames,\n",
    "                          sep=\"\\t\", engine='python')\n",
    "        df = pd.concat([df, df2], ignore_index=True)\n",
    "    return df"
   ]
  },
  {
   "cell_type": "code",
   "execution_count": 119,
   "metadata": {},
   "outputs": [],
   "source": [
    "path = \"./tsv_files/\"\n",
    "colnames = [\"animeTitle\", \"animeType\", \"animeNumEpisode\", \"releaseDate\", \"endDate\", \"animeNumMembers\",\n",
    "            \"animeScore\", \"animeUsers\", \"animeRank\", \"animePopularity\", \"animeDescription\", \"animeRelated\",\n",
    "            \"animeCharacters\", \"animeVoices\", \"animeStaff\"]\n",
    "df = merge_tsvs(path, colnames)\n",
    "\n",
    "# Save our df in csv format\n",
    "df.to_csv(\"./html_df.csv\", index=False)"
   ]
  },
  {
   "cell_type": "code",
   "execution_count": 120,
   "metadata": {},
   "outputs": [],
   "source": [
    "# create a copy of our dataframe with an extra column containing the preprocessed synopsis\n",
    "df_new = df.assign(tokenized_desc=df[\"animeDescription\"].apply(lambda x: process_text(x)))"
   ]
  },
  {
   "cell_type": "code",
   "execution_count": 121,
   "metadata": {},
   "outputs": [
    {
     "name": "stdout",
     "output_type": "stream",
     "text": [
      "<class 'pandas.core.frame.DataFrame'>\n",
      "RangeIndex: 31 entries, 0 to 30\n",
      "Data columns (total 16 columns):\n",
      " #   Column            Non-Null Count  Dtype  \n",
      "---  ------            --------------  -----  \n",
      " 0   animeTitle        31 non-null     object \n",
      " 1   animeType         31 non-null     object \n",
      " 2   animeNumEpisode   31 non-null     int64  \n",
      " 3   releaseDate       31 non-null     object \n",
      " 4   endDate           24 non-null     object \n",
      " 5   animeNumMembers   31 non-null     int64  \n",
      " 6   animeScore        31 non-null     float64\n",
      " 7   animeUsers        31 non-null     int64  \n",
      " 8   animeRank         31 non-null     int64  \n",
      " 9   animePopularity   31 non-null     int64  \n",
      " 10  animeDescription  31 non-null     object \n",
      " 11  animeRelated      30 non-null     object \n",
      " 12  animeCharacters   31 non-null     object \n",
      " 13  animeVoices       31 non-null     object \n",
      " 14  animeStaff        30 non-null     object \n",
      " 15  tokenized_desc    31 non-null     object \n",
      "dtypes: float64(1), int64(5), object(10)\n",
      "memory usage: 4.0+ KB\n"
     ]
    }
   ],
   "source": [
    "df_new.info()"
   ]
  },
  {
   "cell_type": "code",
   "execution_count": 125,
   "metadata": {},
   "outputs": [],
   "source": [
    "with open(\"df_with_tokens.p\", \"wb\") as file:\n",
    "    pickle.dump(df_new, file)"
   ]
  },
  {
   "cell_type": "markdown",
   "metadata": {},
   "source": [
    "### 2.1. Conjunctive query\n",
    "#### 2.1.1) Create your index!\n",
    "\n",
    "Before building the index, \n",
    "* Create a file named `vocabulary`, in the format you prefer, that maps each word to an integer (`term_id`).\n",
    "\n",
    "Then, the first brick of your homework is to create the Inverted Index. It will be a dictionary of this format:\n",
    "\n",
    "```\n",
    "{\n",
    "term_id_1:[document_1, document_2, document_4],\n",
    "term_id_2:[document_1, document_3, document_5, document_6],\n",
    "...}\n",
    "```\n",
    "where _document\\_i_ is the *id* of a document that contains the word.\n"
   ]
  },
  {
   "cell_type": "code",
   "execution_count": 37,
   "metadata": {},
   "outputs": [],
   "source": [
    "# First i chose to create the vocabulary file as a DataFrame store as a .csv file \n",
    "\n",
    "def create_vocabulary(corpus):\n",
    "    voc = set()\n",
    "    for doc in corpus :\n",
    "        voc = voc.union(set(doc))\n",
    "    \n",
    "    df_voc = pd.DataFrame({'term_id': range(len(voc)), 'term': sorted(voc)})\n",
    "    df_voc.to_csv('vocabulary.csv')\n",
    "    return df_voc"
   ]
  },
  {
   "cell_type": "code",
   "execution_count": 38,
   "metadata": {},
   "outputs": [],
   "source": [
    "#example\n",
    "L=['A','C', 'B', 'A', 'E']\n",
    "corpus=[L]+[['B','D']]\n",
    "s=create_vocabulary(corpus)"
   ]
  },
  {
   "cell_type": "code",
   "execution_count": 45,
   "metadata": {},
   "outputs": [],
   "source": [
    "def inverted_index(corpus,voc):\n",
    "    #create a inverted_index \"empty\", i.e. only with term_id of vocabulary\n",
    "    inverted_index = dict()\n",
    "    for term_id in voc['term_id'] :\n",
    "        inverted_index[term_id]=set()\n",
    "        #inverted_index['term_id_'+str(term_id)]=set()\n",
    "\n",
    "    for doc, num_doc in zip(corpus,range(len(corpus))) :\n",
    "        for word in doc :\n",
    "            term_id = voc[voc.term==word].reset_index()['term_id'][0]\n",
    "            inverted_index[term_id]=inverted_index[term_id].union(set([num_doc]))\n",
    "            #inverted_index['term_id_'+str(term_id)]=inverted_index['term_id_'+str(term_id)].union(set(['document_'+str(num_doc)]))\n",
    "    #print(inverted_index)\n",
    "    \n",
    "    for term_id, docs in inverted_index.items() :\n",
    "        inverted_index[term_id]=list(inverted_index[term_id])\n",
    "    \n",
    "    #save the inverted_index as a .npy file \n",
    "    np.save('inverted_index.npy', inverted_index)"
   ]
  },
  {
   "cell_type": "code",
   "execution_count": 46,
   "metadata": {},
   "outputs": [
    {
     "name": "stdout",
     "output_type": "stream",
     "text": [
      "{0: [0], 1: [0, 1], 2: [0], 3: [1], 4: [0]}\n"
     ]
    }
   ],
   "source": [
    "#test\n",
    "voc = pd.read_csv('vocabulary.csv')\n",
    "inverted_index(corpus,voc)\n",
    "\n",
    "new_dict = np.load('inverted_index.npy', allow_pickle='TRUE')\n",
    "print(new_dict)"
   ]
  },
  {
   "cell_type": "code",
   "execution_count": 67,
   "metadata": {},
   "outputs": [],
   "source": [
    "#test\n",
    "#df_synopsis = pd.read_csv(\"./temporary.csv\")\n",
    "#df_synopsis['tokenized_desc'][0] #['tokenized_desc'][0]\n",
    "\n",
    "corpus = list(df_new['tokenized_desc'])\n",
    "voc = create_vocabulary(corpus)"
   ]
  },
  {
   "cell_type": "code",
   "execution_count": 72,
   "metadata": {},
   "outputs": [
    {
     "name": "stdout",
     "output_type": "stream",
     "text": [
      "{0: [0, 2, 3, 259, 261, 263, 13, 14, 15, 270, 271, 273, 275, 33, 35, 37, 39, 46, 49, 51, 57, 58, 64, 65, 72, 74, 76, 88, 90, 93, 95, 102, 105, 111, 112, 114, 116, 118, 121, 124, 125, 133, 138, 141, 142, 145, 147, 148, 151, 153, 165, 170, 171, 177, 185, 187, 189, 201, 202, 204, 206, 209, 210, 218, 221, 230, 235, 236, 239, 240, 242, 244, 245, 248, 250, 255], 1: [105], 2: [208, 244, 276], 3: [227, 149], 4: [0, 1, 2, 3, 5, 7, 8, 10, 11, 12, 14, 15, 16, 17, 18, 22, 25, 26, 28, 32, 33, 34, 35, 36, 37, 38, 42, 43, 44, 45, 46, 47, 48, 49, 50, 51, 52, 55, 57, 58, 59, 60, 61, 62, 63, 64, 65, 67, 68, 70, 71, 72, 73, 74, 75, 79, 81, 83, 85, 89, 90, 91, 93, 94, 95, 96, 98, 101, 102, 103, 105, 106, 107, 109, 110, 111, 112, 113, 114, 115, 116, 117, 118, 119, 120, 121, 124, 126, 127, 128, 130, 132, 133, 134, 135, 141, 142, 143, 144, 146, 147, 148, 149, 151, 152, 153, 157, 160, 161, 162, 163, 164, 165, 168, 169, 170, 171, 173, 179, 180, 183, 184, 185, 187, 188, 189, 190, 191, 192, 195, 196, 197, 198, 199, 200, 202, 204, 205, 206, 207, 208, 209, 210, 211, 213, 214, 216, 218, 219, 222, 224, 227, 228, 229, 230, 231, 232, 233, 234, 235, 236, 238, 240, 241, 242, 243, 245, 247, 248, 249, 250, 251, 257, 258, 259, 260, 261, 262, 265, 267, 268, 269, 271, 273, 274, 275, 276, 277], 5: [26], 6: [192, 1, 233, 108, 205, 142, 273, 244, 121, 27, 126], 7: [114], 8: [201, 202], 9: [211], 10: [145], 11: [207], 12: [30], 13: [105], 14: [221, 109], 15: [136, 78], 16: [116], 17: [124, 47], 18: [122, 195], 19: [146, 250], 20: [7], 21: [168], 22: [148], 23: [102], 24: [14], 25: [248, 198, 70], 26: [84], 27: [122], 28: [125], 29: [19], 30: [276], 31: [84], 32: [24], 33: [177], 34: [20], 35: [125], 36: [60], 37: [266], 38: [25, 60], 39: [149], 40: [2, 274, 165, 91, 269, 30], 41: [29], 42: [19], 43: [105], 44: [221], 45: [113], 46: [170], 47: [210], 48: [171], 49: [102], 50: [101], 51: [68], 52: [13], 53: [135], 54: [124, 125], 55: [274, 93], 56: [41, 2, 245], 57: [227], 58: [11], 59: [183], 60: [81], 61: [105], 62: [137], 63: [264], 64: [116], 65: [80], 66: [253], 67: [275, 149], 68: [3], 69: [80], 70: [136], 71: [234], 72: [170], 73: [40], 74: [49, 10], 75: [240], 76: [170, 273, 58], 77: [113], 78: [17, 23], 79: [171], 80: [236, 143], 81: [248], 82: [11], 83: [13], 84: [24, 265], 85: [160], 86: [241], 87: [187, 211], 88: [142], 89: [212, 31], 90: [211], 91: [120], 92: [138], 93: [184], 94: [211], 95: [13], 96: [40], 97: [149], 98: [56], 99: [156], 100: [176], 101: [212], 102: [212, 31], 103: [0, 2, 3, 259, 261, 263, 13, 14, 15, 270, 271, 273, 275, 33, 35, 37, 39, 46, 49, 51, 57, 58, 64, 65, 72, 74, 76, 88, 90, 93, 95, 102, 105, 111, 112, 114, 116, 118, 121, 124, 125, 133, 138, 141, 142, 145, 146, 147, 148, 150, 151, 153, 165, 170, 171, 177, 185, 187, 189, 201, 202, 204, 206, 209, 210, 217, 218, 221, 230, 235, 236, 239, 240, 242, 244, 245, 248, 250, 254, 255], 104: [6, 103, 173, 46, 207, 48, 119, 185, 124, 158, 127], 105: [136, 125], 106: [130, 67, 69, 263, 72, 75, 204, 254, 33, 249, 38, 103, 242, 180, 53, 181, 247, 121, 250, 189, 62], 107: [258, 195, 68, 69, 260, 204, 142, 143, 270, 209, 82, 276, 221, 158, 95, 97, 170, 249, 61, 254], 108: [210, 172, 102], 109: [277], 110: [239], 111: [68], 112: [251, 93], 113: [96, 110, 271], 114: [31], 115: [92], 116: [208, 89, 2], 117: [160, 147, 124, 221], 118: [219], 119: [34], 120: [42, 146, 39], 121: [48, 189], 122: [265, 118], 123: [224, 113, 223], 124: [223], 125: [88], 126: [11, 203, 271], 127: [175, 82, 136, 234, 107, 109, 270, 79], 128: [227], 129: [68, 136, 200, 143, 16, 19, 83, 214, 151, 161, 99, 228, 235, 109, 111, 61, 245, 251, 189, 190], 130: [78], 131: [132, 100, 125, 271], 132: [22], 133: [3, 243, 133, 122, 43], 134: [259, 229, 233, 271, 240, 145, 54, 184, 92, 222, 31], 135: [26, 197, 216, 186, 11, 142], 136: [168, 105, 269], 137: [195], 138: [125], 139: [52, 237], 140: [37, 150, 202, 154, 61, 175], 141: [249, 186], 142: [175], 143: [6, 200, 137, 11, 204, 13, 274, 83, 148, 93, 31, 96, 228, 232, 52, 53, 116, 117, 244, 62], 144: [277], 145: [68], 146: [64, 177, 199, 171, 140, 12], 147: [97, 50], 148: [3, 259, 203, 273, 148, 85, 86, 24, 90, 158, 248, 225, 48, 242, 51, 244, 184, 188, 191], 149: [16, 273, 183, 216, 215, 59, 203], 150: [32, 3, 37, 139, 18, 210, 22, 86, 120, 214, 219, 124], 151: [276], 152: [8], 153: [144, 217, 181, 25, 59, 188], 154: [41], 155: [137, 183], 156: [16, 183, 139, 93], 157: [25, 255, 61, 247], 158: [62], 159: [152, 63], 160: [264, 100, 93, 246], 161: [16, 160, 52, 165, 238, 55, 40, 174], 162: [210, 35, 84, 8, 74, 15], 163: [211], 164: [240], 165: [93], 166: [229, 75, 93, 271], 167: [136], 168: [75, 174, 79], 169: [240, 277, 70, 151, 255], 170: [73], 171: [226], 172: [24, 19, 100, 203], 173: [43], 174: [114], 175: [124, 21, 23, 170, 58, 171, 28, 175], 176: [160, 211, 172, 125], 177: [84], 178: [6, 263, 205, 78, 17, 18, 210, 22, 153, 184, 224, 248, 165, 233, 172, 236, 177, 242, 181, 56], 179: [245], 180: [175], 181: [242, 187, 36, 44], 182: [152, 211, 62], 183: [154], 184: [198], 185: [19], 186: [48], 187: [72, 153, 139, 36], 188: [81, 21], 189: [275], 190: [72, 139, 214], 191: [118], 192: [5], 193: [243], 194: [119], 195: [141, 239], 196: [262], 197: [229], 198: [255], 199: [2], 200: [182], 201: [222], 202: [33, 100, 198, 78, 179, 55, 248, 122, 188], 203: [19], 204: [98, 84], 205: [172], 206: [68, 61], 207: [4, 6, 200, 174, 46, 238, 19, 277, 183, 89, 125], 208: [95], 209: [162, 163, 5, 231, 106, 176, 276, 22, 62], 210: [167], 211: [96, 49, 83, 19, 111], 212: [176], 213: [23], 214: [98, 68, 165, 103, 7, 8, 74, 113, 114, 210, 84, 25, 126], 215: [102], 216: [13], 217: [89], 218: [160, 231, 232, 137, 107, 78, 46, 19, 244, 53, 26], 219: [81], 220: [49], 221: [42], 222: [139, 229, 262, 23], 223: [3], 224: [90, 172], 225: [72], 226: [154, 275], 227: [101], 228: [21, 13, 70], 229: [252], 230: [112], 231: [99, 41, 91], 232: [35], 233: [3, 36], 234: [106], 235: [60], 236: [154], 237: [13], 238: [264, 257, 4, 93], 239: [110], 240: [136], 241: [205], 242: [205], 243: [1], 244: [87], 245: [86], 246: [0], 247: [0, 84], 248: [0, 84], 249: [162, 59], 250: [17], 251: [118], 252: [205], 253: [13], 254: [13], 255: [1, 97, 54, 102, 184, 46], 256: [5], 257: [12], 258: [220, 71, 202, 92, 237, 79], 259: [97, 130, 247, 266, 251, 76], 260: [192], 261: [200, 82], 262: [107], 263: [176], 264: [249], 265: [224], 266: [163], 267: [163], 268: [65, 185, 164, 5, 10, 235, 12, 141, 14, 215, 57, 218, 191], 269: [112, 204, 7], 270: [0, 69, 262, 266, 237, 78, 176, 58, 158], 271: [31], 272: [65], 273: [261], 274: [186, 170, 134], 275: [65, 129, 163, 135, 73, 92, 17, 179, 244, 55, 156], 276: [261, 199, 8, 263, 10, 140, 269, 78, 207, 274, 147, 20, 277, 24, 154, 218, 156, 102, 46, 49, 244, 117, 183, 61], 277: [257, 2, 195, 260, 101, 229, 231, 107, 173, 109, 174, 79, 239, 151], 278: [259], 279: [0], 280: [101, 72, 79, 55, 23, 27, 63, 222, 95], 281: [257, 7, 264, 10, 270, 16, 146, 24, 152, 165, 39, 169, 43, 176, 52, 58, 187, 59, 189, 62, 63, 70, 198, 200, 73, 74, 77, 78, 205, 214, 90, 92, 231, 105, 106, 107, 243, 244, 117, 245, 121], 282: [164], 283: [17, 3, 174, 142], 284: [22], 285: [1], 286: [161, 162, 8, 75, 239, 48, 112, 52, 54, 55, 220, 255], 287: [94], 288: [129, 4, 200, 267, 146, 216, 224, 163, 168, 174, 179, 244, 54, 55, 121, 252], 289: [17], 290: [17], 291: [121], 292: [27, 54], 293: [236], 294: [200, 137], 295: [216, 148, 116], 296: [96, 84, 244, 71, 202], 297: [50, 19, 84, 93, 267, 188, 29, 111], 298: [10, 235], 299: [247], 300: [155], 301: [197], 302: [32], 303: [108, 36], 304: [24, 14], 305: [121, 18, 246, 7], 306: [144, 178, 21, 214, 218, 157, 46, 191], 307: [185, 171, 207], 308: [248, 142, 70], 309: [172], 310: [207], 311: [51], 312: [107], 313: [48], 314: [257], 315: [87], 316: [128, 145, 185, 57, 46, 239], 317: [65], 318: [241], 319: [124, 126, 151], 320: [81], 321: [185], 322: [40, 137, 105, 43, 168, 264, 48, 243, 244, 250, 93], 323: [105], 324: [40, 167], 325: [223], 326: [196], 327: [160, 81, 205, 168], 328: [271, 95], 329: [189], 330: [16], 331: [195, 133, 139, 15, 146, 22, 86, 216, 25, 100, 165, 106, 251, 240, 50, 179, 252, 119, 187, 124, 61], 332: [120], 333: [98, 67, 258, 170, 45, 46, 87, 120, 185], 334: [230], 335: [267], 336: [68], 337: [261], 338: [261], 339: [42], 340: [160], 341: [122], 342: [73, 267], 343: [153], 344: [50, 274, 101, 72, 139], 345: [192, 256, 66, 3, 69, 165, 216, 12], 346: [231, 75, 175], 347: [137, 188], 348: [258, 93], 349: [136], 350: [201], 351: [266], 352: [1, 70, 134, 233, 106, 266, 61, 29, 95], 353: [24], 354: [126], 355: [119], 356: [174], 357: [92], 358: [173], 359: [259, 163, 199], 360: [208, 87, 44, 207], 361: [251], 362: [66, 5, 199, 16, 208, 146, 277, 23, 89, 92, 221, 94, 223, 30, 95, 224, 37, 233, 44], 363: [76], 364: [197], 365: [107], 366: [19], 367: [211], 368: [46, 119], 369: [65, 241], 370: [13], 371: [251], 372: [257, 229, 10, 107, 43, 208, 275, 150, 57], 373: [229], 374: [13, 165], 375: [273, 58], 376: [34, 103, 44, 208, 85, 87, 249, 186], 377: [26, 71], 378: [33, 153], 379: [214], 380: [131, 212, 246], 381: [67], 382: [127], 383: [233], 384: [120], 385: [165], 386: [231], 387: [36], 388: [221, 109], 389: [44], 390: [55], 391: [229], 392: [197, 245, 7, 152, 261, 265, 127], 393: [149], 394: [149], 395: [149], 396: [2, 277], 397: [0, 228, 135, 45, 113, 145, 212, 182, 221], 398: [112, 211, 164, 141, 94, 191], 399: [2, 277], 400: [0, 245, 30], 401: [0], 402: [196, 71, 8, 267, 268, 144, 17, 18, 83, 208, 85, 150, 209, 274, 153, 29, 35, 168, 42, 238, 47, 116, 53, 120, 250, 187, 63], 403: [20], 404: [66, 67, 260, 70, 81, 20, 85, 276, 156, 57, 224, 97, 98, 226, 228, 44, 50, 182, 119, 121, 188, 191], 405: [74, 235], 406: [162, 116, 213, 74, 251], 407: [114], 408: [239], 409: [33, 93, 264, 74, 252, 125], 410: [188], 411: [66], 412: [136, 243], 413: [92, 197], 414: [18], 415: [14], 416: [109], 417: [264, 93], 418: [264], 419: [228], 420: [164, 142, 230], 421: [49], 422: [7, 143, 113, 82, 275, 117, 216, 252, 190], 423: [218], 424: [14], 425: [179], 426: [265, 267, 78, 239, 271, 93, 251, 189, 223], 427: [12], 428: [161, 68, 11, 12, 209, 114, 54, 219, 158], 429: [69], 430: [102], 431: [146], 432: [20, 77], 433: [241, 22, 14, 264, 126], 434: [266, 27, 276, 151], 435: [53], 436: [82, 101, 146], 437: [15], 438: [81, 266], 439: [121], 440: [270], 441: [19], 442: [268, 126], 443: [273], 444: [13], 445: [208, 116, 37], 446: [41], 447: [68], 448: [264], 449: [270], 450: [4], 451: [161, 164, 228, 103, 231, 12, 28, 141, 77, 239, 156, 270, 182, 55, 124], 452: [48, 133, 6, 197, 152, 78, 175], 453: [0, 263, 143, 146, 147, 275, 150, 151, 27, 29, 32, 33, 37, 44, 176, 181, 187, 68, 74, 203, 204, 210, 213, 216, 221, 222, 225, 100, 228, 103, 231, 107, 112, 118, 121, 252], 454: [176, 247, 200], 455: [245, 162, 267, 53], 456: [158], 457: [72, 267, 53], 458: [187], 459: [23], 460: [234], 461: [240], 462: [199], 463: [122], 464: [28, 47], 465: [147], 466: [76, 236, 143], 467: [7], 468: [0], 469: [19], 470: [23], 471: [202, 252], 472: [107], 473: [244], 474: [260], 475: [227, 53, 262], 476: [262, 23], 477: [84], 478: [73, 275, 36, 229], 479: [224, 49, 249, 57, 234, 255], 480: [144, 100, 136, 120, 141, 60], 481: [48, 259], 482: [74, 84, 277], 483: [2, 258, 4, 36, 228, 8, 73, 235, 81, 114, 121, 251, 61, 95], 484: [216, 157, 262], 485: [126], 486: [26, 71], 487: [203], 488: [114], 489: [93], 490: [110], 491: [139, 238], 492: [100, 173, 55], 493: [84], 494: [81], 495: [0, 2, 260, 8, 11, 267, 269, 272, 23, 154, 162, 164, 169, 172, 46, 174, 176, 183, 186, 64, 66, 195, 197, 72, 203, 204, 205, 206, 209, 87, 89, 96, 225, 107, 108, 242, 124, 125], 496: [171], 497: [40, 267, 29], 498: [8], 499: [243], 500: [216, 182], 501: [103], 502: [10, 164], 503: [264, 93], 504: [158], 505: [218, 210, 204, 127], 506: [107], 507: [0], 508: [3, 14], 509: [256, 65, 129, 106, 15, 51, 148, 152, 29], 510: [184], 511: [219], 512: [257], 513: [14], 514: [48, 33], 515: [74, 111], 516: [242, 151], 517: [124, 277], 518: [189], 519: [82], 520: [240, 130, 179, 243, 37, 181, 277, 143], 521: [116, 150, 200, 202, 75, 108, 63], 522: [217], 523: [2, 98, 119], 524: [267], 525: [230], 526: [147], 527: [275, 147, 204], 528: [106], 529: [213], 530: [75], 531: [30], 532: [34], 533: [273], 534: [191], 535: [116], 536: [2, 198, 7, 71, 265, 10, 202, 140, 205, 268, 145, 276, 94, 159, 96, 160, 164, 228, 38, 249, 47, 239, 49, 116, 248, 57, 124, 127], 537: [65], 538: [240, 79, 15], 539: [164], 540: [102], 541: [219, 158], 542: [97, 133, 263, 48, 124, 214, 55, 217, 220], 543: [130, 219], 544: [112, 163, 228], 545: [239], 546: [32, 204, 22], 547: [216, 182], 548: [160, 229, 167, 73, 106, 46, 146, 85, 182], 549: [210, 86], 550: [148], 551: [0, 257, 258, 4, 5, 6, 13, 269, 15, 16, 17, 19, 276, 25, 27, 28, 29, 30, 33, 38, 48, 51, 62, 63, 66, 68, 71, 73, 76, 83, 91, 93, 99, 100, 101, 102, 111, 117, 118, 121, 122, 127, 128, 129, 132, 142, 148, 161, 162, 163, 170, 171, 180, 186, 189, 198, 199, 202, 203, 205, 208, 209, 214, 218, 219, 223, 227, 232, 246, 249, 250], 552: [217], 553: [169], 554: [112], 555: [219], 556: [38, 177, 64, 6], 557: [257, 236, 277, 174], 558: [256, 257, 259, 261, 262, 264, 265, 12, 14, 15, 16, 270, 271, 273, 20, 21, 276, 31, 36, 43, 49, 51, 62, 69, 73, 82, 83, 96, 100, 106, 107, 117, 119, 120, 121, 127, 129, 130, 136, 144, 149, 158, 164, 167, 169, 173, 187, 189, 196, 198, 199, 205, 207, 208, 216, 217, 222, 225, 228, 236, 237, 238, 246, 251, 252], 559: [77], 560: [208, 273, 30], 561: [17, 141, 38, 271], 562: [67, 196, 134, 7, 135, 199, 264, 203, 265, 209, 210, 211, 212, 277, 152, 92, 29, 30, 225, 229, 41, 44, 46, 48, 50, 246, 187, 252], 563: [107], 564: [34], 565: [147, 7], 566: [18, 19, 130, 146, 134, 215, 46], 567: [246], 568: [217, 259, 133], 569: [82, 260, 215, 89, 251, 92, 255], 570: [232, 258, 180], 571: [168], 572: [8, 219], 573: [12], 574: [168], 575: [239], 576: [106], 577: [33, 55, 15], 578: [24], 579: [73], 580: [259, 132, 6, 71, 8, 137, 73, 202, 13, 271, 223, 37, 232, 241, 180, 244, 184], 581: [221], 582: [272], 583: [23], 584: [159], 585: [261, 237, 238, 16, 83, 20, 181, 243, 151, 26, 93], 586: [182], 587: [98, 4, 68, 230, 202, 267, 141, 240, 245, 214], 588: [200, 50, 91, 23], 589: [93, 255], 590: [84], 591: [160, 52, 151], 592: [56], 593: [233], 594: [0, 145, 4, 271], 595: [0], 596: [173, 271], 597: [25], 598: [124], 599: [247], 600: [234], 601: [28], 602: [181], 603: [208], 604: [42], 605: [252], 606: [83], 607: [66], 608: [192, 34, 238, 59, 206], 609: [210, 196, 118, 262, 156, 109], 610: [15], 611: [73, 275], 612: [12], 613: [11, 111], 614: [32, 272], 615: [86], 616: [250], 617: [65], 618: [73, 183], 619: [35, 53, 214, 189], 620: [32, 144], 621: [153], 622: [238], 623: [53], 624: [11, 269, 262, 231], 625: [85], 626: [67, 84, 85, 23, 25, 222], 627: [159], 628: [236], 629: [55], 630: [127, 236, 15], 631: [158], 632: [260], 633: [188], 634: [270], 635: [123], 636: [59], 637: [141], 638: [206], 639: [256, 58, 135], 640: [275], 641: [228], 642: [27, 84, 29, 199], 643: [0, 258, 71, 77, 79, 23, 89, 31, 249, 170, 111, 48, 180, 246, 120, 185, 58], 644: [161, 133, 22, 263, 235, 254], 645: [25, 74, 210], 646: [209], 647: [107], 648: [24, 102, 39], 649: [256, 4, 196, 70, 146, 20, 21, 84, 244, 89, 29, 31], 650: [224], 651: [43], 652: [224], 653: [64, 259, 133, 263, 235, 237, 254, 159], 654: [259], 655: [261], 656: [74], 657: [191], 658: [33, 35, 241, 135], 659: [242], 660: [276], 661: [32], 662: [100, 122, 136, 171, 46, 15, 239, 82, 277, 247, 218], 663: [68, 14, 151, 250, 174], 664: [271], 665: [47], 666: [84], 667: [224, 113, 223], 668: [54], 669: [250], 670: [133, 23, 122, 187, 46, 270], 671: [183], 672: [210, 11, 86], 673: [86], 674: [208], 675: [168], 676: [232, 225, 162, 258, 216, 171], 677: [216, 225, 162], 678: [20], 679: [0, 128, 129, 257, 133, 197, 263, 136, 73, 268, 78, 20, 148, 149, 219, 223, 32, 248, 163, 103, 107, 172, 47, 48, 239, 244, 54, 118, 120, 246, 250, 254], 680: [133], 681: [272, 29], 682: [144, 97, 197], 683: [98], 684: [239, 118, 6, 184, 223], 685: [223], 686: [144], 687: [72], 688: [111], 689: [277], 690: [227, 4, 69, 231, 106, 50, 275, 119, 152, 57, 27, 252], 691: [22], 692: [3], 693: [228, 30], 694: [10], 695: [190], 696: [27], 697: [233], 698: [235], 699: [243], 700: [24, 180, 112], 701: [24], 702: [34, 244], 703: [0, 191, 256, 69, 165, 229, 139, 172, 149, 87, 119, 63], 704: [185, 67], 705: [221, 109], 706: [221, 109], 707: [1], 708: [45], 709: [0, 261, 265, 174, 14, 270, 19, 118, 154], 710: [121], 711: [248, 228, 133, 142, 119, 216, 124, 29, 126], 712: [250], 713: [28], 714: [0, 37, 12, 109, 20, 277, 182, 24, 124], 715: [259, 267, 27], 716: [250], 717: [62], 718: [241, 3, 103, 227, 150, 183], 719: [76, 244], 720: [32, 100, 216], 721: [171], 722: [88, 244, 252], 723: [117], 724: [168, 123], 725: [178], 726: [139, 238], 727: [177], 728: [259], 729: [169], 730: [3, 260, 21, 203], 731: [4], 732: [124], 733: [118, 23], 734: [97], 735: [117, 120, 74, 75, 189], 736: [120], 737: [199], 738: [265], 739: [92], 740: [118], 741: [221, 109], 742: [41, 115], 743: [273], 744: [233], 745: [98], 746: [245], 747: [242, 67, 261, 23], 748: [62], 749: [256, 260, 12, 14, 142, 270, 271, 273, 148, 277, 22, 29, 160, 171, 175, 51, 55, 65, 197, 199, 77, 85, 102, 230, 232, 235, 239, 124, 241, 118, 246, 121, 252, 125], 750: [14], 751: [74], 752: [240, 42, 27, 277], 753: [272, 275], 754: [91, 220, 236], 755: [65], 756: [183], 757: [179, 195, 231, 152, 107, 269, 175], 758: [211], 759: [199], 760: [179], 761: [179], 762: [252], 763: [269], 764: [264], 765: [163], 766: [239], 767: [175], 768: [230, 135, 137, 48, 17, 241, 275, 276, 124], 769: [68, 191], 770: [275, 68, 245, 102, 150, 72, 10, 268], 771: [267], 772: [172], 773: [48, 161, 6, 22, 248, 127], 774: [137, 154, 198, 47], 775: [71], 776: [70, 75, 112, 17, 81, 51, 251, 125, 95], 777: [162, 70, 137, 139, 108, 16, 148, 21, 183, 187, 29], 778: [129, 66, 210, 257, 85, 149, 59], 779: [42, 271], 780: [225], 781: [23], 782: [146, 23, 101, 85, 55, 196, 202, 110], 783: [141], 784: [13], 785: [2], 786: [273, 170, 206, 142], 787: [1], 788: [48, 258, 165, 102, 39, 93, 207], 789: [127], 790: [233, 172], 791: [176], 792: [222, 86, 7], 793: [114], 794: [42, 136, 58, 156], 795: [99], 796: [184], 797: [235], 798: [33, 90, 124], 799: [75], 800: [23], 801: [0, 90], 802: [59, 19, 196], 803: [259, 164, 103, 236, 173, 149, 213, 55, 91, 221, 94], 804: [257, 197, 90, 233, 252, 53, 86, 214, 218, 91, 124], 805: [128], 806: [154], 807: [207], 808: [158], 809: [243, 246, 189, 234, 205], 810: [124], 811: [20, 182], 812: [20], 813: [145, 209, 150, 75, 270], 814: [164], 815: [114, 101, 149, 277, 13, 30], 816: [23], 817: [27, 190], 818: [159, 161, 225, 196, 110, 275, 22, 186, 223], 819: [218, 52], 820: [276], 821: [50, 4, 217, 8, 73, 29], 822: [73], 823: [258, 132, 196, 6, 198, 264, 202, 204, 205, 144, 215, 151, 154, 29, 227, 232, 234, 239, 116, 180, 247, 126, 62], 824: [16], 825: [232, 258, 180], 826: [180, 116, 21, 71, 204], 827: [22], 828: [195, 73, 267, 204, 17, 19, 83, 85, 223, 163, 100, 231, 106, 236, 173, 174, 47, 175, 176, 238, 252, 125, 63], 829: [5, 197, 16, 18, 146, 148, 85, 214, 276, 216, 89, 91, 156, 159, 33, 99, 101, 229, 174, 48, 248, 122, 251, 124], 830: [244], 831: [38, 265, 185, 218, 31, 14, 127], 832: [114, 215], 833: [114], 834: [68, 5, 8, 266, 46, 47, 207, 18, 212, 53, 183, 189], 835: [6], 836: [260], 837: [20], 838: [90, 189, 15], 839: [187], 840: [227, 117], 841: [133, 230, 267, 177, 146, 210, 61, 86, 29], 842: [223], 843: [169], 844: [65, 188], 845: [136, 158], 846: [176], 847: [18, 92, 142], 848: [36], 849: [187, 157], 850: [84], 851: [88], 852: [171, 5], 853: [55], 854: [26, 71], 855: [207], 856: [62], 857: [61], 858: [227, 139, 75, 78, 55, 25, 124, 125, 255], 859: [5], 860: [81], 861: [3, 7, 71, 200, 42, 235, 276, 277, 119, 248, 93, 95], 862: [188], 863: [136, 74, 174, 209, 149, 118, 247, 24, 255], 864: [136], 865: [247], 866: [173], 867: [163, 179], 868: [118], 869: [96, 161, 211], 870: [4], 871: [59], 872: [256], 873: [183], 874: [97, 259, 36, 165, 197, 16, 179, 24, 251], 875: [33, 36, 165, 197, 245, 91, 254], 876: [129], 877: [165], 878: [110], 879: [219], 880: [269, 243, 173], 881: [252], 882: [211], 883: [256, 68, 141], 884: [199], 885: [183], 886: [183], 887: [77], 888: [35], 889: [172, 220, 4, 214, 24, 41, 106, 120], 890: [256, 5, 265, 266, 12, 14, 206, 212, 86, 151, 24, 215, 156, 170, 247, 120, 185, 250, 60], 891: [170, 90, 101, 69], 892: [153], 893: [240, 68], 894: [112, 50, 144, 114], 895: [33, 258, 38, 8, 150, 151, 158, 127], 896: [209, 4, 55, 235, 28, 45, 46, 31], 897: [43], 898: [256, 67, 147, 228, 7], 899: [32, 129, 227, 103, 234, 11, 267, 85, 247, 26, 157], 900: [73], 901: [210, 78, 119], 902: [32, 129, 259, 103, 45, 53, 216, 125, 31], 903: [73], 904: [73, 44], 905: [141], 906: [256, 121, 146, 51, 38, 73], 907: [171], 908: [153, 236, 142], 909: [82], 910: [175], 911: [15, 150, 7], 912: [4], 913: [29], 914: [1, 122, 23], 915: [1], 916: [128, 192, 257, 35, 39, 264, 75, 110, 83, 20, 21, 86, 89, 187, 125], 917: [208, 81], 918: [129, 257, 68, 264, 234, 172, 177, 83, 211, 93, 213, 189], 919: [196], 920: [100, 31], 921: [273], 922: [45, 262, 191], 923: [37, 71, 200, 137, 110, 176, 83, 243, 21, 217, 59, 61, 62], 924: [217], 925: [49, 149, 173], 926: [151], 927: [22], 928: [110], 929: [185], 930: [106], 931: [169], 932: [162, 180], 933: [211], 934: [151], 935: [250, 59], 936: [169], 937: [97, 220], 938: [199], 939: [65], 940: [129], 941: [246], 942: [81, 243, 85, 43, 124, 173], 943: [72], 944: [82], 945: [83], 946: [256, 89, 164], 947: [17, 140, 143], 948: [210, 245, 137, 62, 111], 949: [17, 134, 247, 59, 252, 203], 950: [252], 951: [98], 952: [210, 171], 953: [192, 151], 954: [229], 955: [264, 277, 245], 956: [30], 957: [268], 958: [0, 273, 163, 277, 70, 170, 124, 109], 959: [144, 266], 960: [128, 1, 3, 261, 134, 7, 136, 262, 271, 16, 17, 272, 23, 26, 28, 157, 31, 160, 175, 48, 53, 184, 186, 188, 68, 196, 197, 202, 205, 94, 223, 225, 99, 231, 232, 106, 107, 234, 110, 238, 113, 114, 244, 121, 254, 255], 961: [251, 206], 962: [210, 83, 37, 22, 59], 963: [114], 964: [240, 74], 965: [35], 966: [136, 209], 967: [96, 33, 240, 211, 245, 102, 122, 94], 968: [183], 969: [215], 970: [171], 971: [152, 273, 222], 972: [25, 75, 121], 973: [19, 39], 974: [218], 975: [4], 976: [73, 74, 21, 70], 977: [191], 978: [191], 979: [130, 137, 203, 143, 19, 149, 86, 181, 183, 159], 980: [64, 113, 242, 117, 133, 156, 78], 981: [4], 982: [233], 983: [94], 984: [165], 985: [274], 986: [264, 202, 26, 93], 987: [96, 160, 71, 200, 275, 244, 151, 152, 187, 93], 988: [113, 77], 989: [168], 990: [68, 5, 200, 75, 144, 17, 211, 85, 33, 34, 35, 164, 102, 47, 112, 50, 247, 58, 61], 991: [266, 220, 70], 992: [266], 993: [170, 238], 994: [91], 995: [76], 996: [214, 270], 997: [128], 998: [210], 999: [48, 49, 130, 192, 57, 141], 1000: [33, 151], 1001: [201, 149], 1002: [259], 1003: [277], 1004: [76], 1005: [60, 214], 1006: [152], 1007: [98, 24, 41, 108, 109], 1008: [3], 1009: [183], 1010: [20, 77], 1011: [271], 1012: [17], 1013: [187], 1014: [144, 203, 91, 190, 79], 1015: [145, 259, 244, 216, 203, 141], 1016: [128, 256, 228, 213, 236, 238, 191], 1017: [38], 1018: [4], 1019: [256, 65, 170, 43, 140, 139, 235, 272, 51, 182, 220], 1020: [163, 5, 27, 172, 203], 1021: [273, 259, 228, 4, 84, 250, 125], 1022: [245], 1023: [96, 1, 100, 231, 154], 1024: [227], 1025: [221], 1026: [96], 1027: [197], 1028: [48, 216], 1029: [275], 1030: [17, 241, 36, 84, 214, 24, 91], 1031: [54], 1032: [54], 1033: [187], 1034: [186, 117, 79], 1035: [250, 134], 1036: [0, 12, 134], 1037: [90, 76, 228], 1038: [112, 53, 133, 119, 216, 230, 237], 1039: [69], 1040: [266], 1041: [143], 1042: [64, 260, 214], 1043: [82, 139, 135], 1044: [237, 45, 133], 1045: [227], 1046: [114, 4], 1047: [180], 1048: [233], 1049: [242, 236, 191], 1050: [258, 4, 132, 264, 265, 11, 12, 13, 14, 15, 16, 267, 269, 273, 21, 150, 151, 153, 27, 159, 32, 165, 38, 167, 45, 52, 181, 187, 64, 66, 200, 203, 76, 208, 214, 220, 93, 96, 224, 235, 240, 117, 245, 254], 1051: [67, 116, 133, 237, 254], 1052: [145], 1053: [3], 1054: [120, 251], 1055: [276], 1056: [240, 33, 98, 97, 211, 133, 55, 237], 1057: [61, 182], 1058: [179, 85, 73, 154, 27, 14], 1059: [82], 1060: [152, 197], 1061: [19, 4, 259, 271, 185, 266, 61, 95], 1062: [78], 1063: [74], 1064: [156], 1065: [50, 206], 1066: [213, 70], 1067: [147], 1068: [210], 1069: [25, 35, 222], 1070: [118], 1071: [2, 98, 68, 245, 260, 277, 222, 30], 1072: [171], 1073: [224, 212, 15], 1074: [68], 1075: [98], 1076: [77], 1077: [250, 164, 101, 215, 170, 219, 206], 1078: [171], 1079: [256, 134], 1080: [139], 1081: [192, 256, 130, 6, 265, 142, 86, 90, 91, 100, 228, 230, 231, 174, 241, 53, 186], 1082: [234, 79], 1083: [83], 1084: [241, 174], 1085: [256], 1086: [2, 165, 230, 91, 142, 223], 1087: [159, 146, 84, 205, 158, 63], 1088: [177, 262, 167, 24, 74, 247, 120, 189], 1089: [175], 1090: [43, 252], 1091: [79], 1092: [118, 62, 207], 1093: [210, 54, 23, 198, 154, 43, 174], 1094: [107, 204, 37], 1095: [204], 1096: [8], 1097: [59, 60], 1098: [212], 1099: [86], 1100: [248, 202, 234, 150], 1101: [210], 1102: [21], 1103: [135], 1104: [1, 90, 27], 1105: [248, 53], 1106: [233], 1107: [0, 257, 135, 200, 137, 204, 77, 268, 17, 84, 91, 157, 93, 223, 96, 43, 250, 251, 189], 1108: [35], 1109: [137], 1110: [6, 46, 239, 208, 177, 277, 94, 223], 1111: [191], 1112: [213], 1113: [119], 1114: [1, 210, 102, 86, 248, 154, 12], 1115: [55], 1116: [16, 161, 241, 68, 22, 58, 251, 60], 1117: [58], 1118: [151], 1119: [160, 68, 101, 6, 197, 170, 47, 241, 20, 58], 1120: [18, 28, 92], 1121: [73, 271], 1122: [1], 1123: [273, 197, 102], 1124: [3, 133, 122, 43, 157], 1125: [48, 128, 211, 68, 214, 207], 1126: [83], 1127: [164, 221], 1128: [187], 1129: [42, 270, 175], 1130: [17], 1131: [122, 92], 1132: [24, 145, 174, 255], 1133: [32], 1134: [169, 199], 1135: [108], 1136: [191, 268, 7], 1137: [49], 1138: [114, 165], 1139: [33, 258, 180, 238, 232, 108, 109, 62], 1140: [172], 1141: [77], 1142: [10, 274, 36, 247], 1143: [241], 1144: [45, 31], 1145: [137, 148], 1146: [134], 1147: [234, 151], 1148: [204, 147, 108, 63], 1149: [147], 1150: [228], 1151: [64, 85, 46], 1152: [121, 29, 41, 218, 93, 271], 1153: [4, 217, 228, 262, 233, 113, 50, 53, 214, 89, 220, 254, 57], 1154: [217], 1155: [213, 183], 1156: [245, 45], 1157: [146, 22], 1158: [36, 149, 268, 40, 188], 1159: [34, 39], 1160: [208], 1161: [145], 1162: [273], 1163: [170, 58], 1164: [276], 1165: [183], 1166: [56], 1167: [261], 1168: [81], 1169: [81], 1170: [33, 227, 38, 39, 42, 13, 237, 55, 154, 188, 255], 1171: [273, 58, 60, 102], 1172: [125], 1173: [104, 193, 194, 166], 1174: [82], 1175: [184], 1176: [184], 1177: [218], 1178: [1, 69, 6, 265, 12, 78, 17, 153, 90, 25, 160, 33, 161, 169, 170, 171, 233, 235, 242, 51, 181, 249, 58], 1179: [162], 1180: [192], 1181: [212, 31], 1182: [139, 55], 1183: [160], 1184: [65, 262, 136, 73, 265, 266, 15, 208, 210, 89, 92, 94, 30, 31, 224, 98, 165, 106, 45, 60, 248, 124, 191], 1185: [153, 182, 257], 1186: [223], 1187: [3], 1188: [35, 196, 174], 1189: [224, 223, 197, 233, 79, 240, 81, 49, 82, 145, 177, 272, 188, 191], 1190: [180, 71], 1191: [257], 1192: [257, 259, 260, 261, 135, 137, 266, 269, 15, 17, 275, 22, 23, 158, 34, 162, 165, 38, 39, 169, 42, 174, 47, 48, 177, 179, 55, 185, 190, 64, 195, 73, 86, 216, 89, 90, 217, 95, 100, 106, 110, 239, 112, 241, 243, 244, 246, 120], 1193: [48], 1194: [55], 1195: [259], 1196: [111, 23], 1197: [148], 1198: [187], 1199: [49, 242, 197, 46, 174], 1200: [206], 1201: [199], 1202: [241, 51, 46, 90, 78], 1203: [61], 1204: [32, 209], 1205: [153, 99, 68, 165, 102, 169, 270, 243, 52, 53, 117, 89, 58], 1206: [127], 1207: [48, 17, 164, 268], 1208: [236], 1209: [130, 260, 197, 6, 268, 81, 218, 219, 95, 38, 174, 47, 48, 240, 241, 118, 247, 248, 125], 1210: [171], 1211: [169, 195], 1212: [195], 1213: [196, 108], 1214: [0, 268, 133], 1215: [169], 1216: [168], 1217: [130, 260, 266, 141, 271, 17, 146, 148, 22, 28, 35, 38, 43, 172, 174, 48, 183, 55, 200, 73, 202, 77, 208, 82, 83, 92, 220, 223, 249, 103, 234, 107, 110, 241, 115, 247, 121, 122, 254], 1218: [236], 1219: [142], 1220: [36, 85, 165, 247, 186, 10], 1221: [264], 1222: [76], 1223: [77], 1224: [134, 200, 43, 171, 277, 94, 25, 251, 158], 1225: [216, 81], 1226: [239, 268, 223], 1227: [225], 1228: [43, 29, 182], 1229: [222], 1230: [124, 259, 108, 29], 1231: [42], 1232: [256, 162, 130, 165, 200, 265, 204, 270, 175, 51, 276, 277, 22, 186, 221], 1233: [261], 1234: [112, 97, 258, 228, 151, 232, 266, 124], 1235: [126, 277, 102], 1236: [0, 248, 78], 1237: [21], 1238: [248, 230], 1239: [156, 228], 1240: [39], 1241: [191], 1242: [240], 1243: [114], 1244: [165, 189], 1245: [77], 1246: [110], 1247: [129], 1248: [227, 20, 119, 47], 1249: [206], 1250: [154, 173, 270, 87], 1251: [53], 1252: [222], 1253: [16, 245, 76, 173], 1254: [203, 188, 271], 1255: [68], 1256: [7], 1257: [183], 1258: [260, 199, 141, 217, 28, 92, 222, 31, 228, 165, 103, 233, 235, 45, 47, 50, 242], 1259: [256, 83, 63], 1260: [258], 1261: [187], 1262: [5], 1263: [15], 1264: [247], 1265: [210], 1266: [205, 27, 171], 1267: [16], 1268: [29, 149], 1269: [145, 228, 40, 122, 251], 1270: [241], 1271: [50], 1272: [61], 1273: [17, 268], 1274: [67, 3, 85, 46, 223], 1275: [45], 1276: [97, 223, 38, 113], 1277: [224, 45], 1278: [87, 55], 1279: [190], 1280: [137], 1281: [132, 101, 6, 135, 204, 268, 145, 152, 219, 60, 29, 216], 1282: [99, 91, 67, 36], 1283: [41], 1284: [128, 4, 268, 275, 22, 23, 24, 214, 98, 228, 102, 41, 235, 112, 116, 251, 126], 1285: [256], 1286: [128, 259, 7, 73, 75, 139, 267, 79, 143, 81, 146, 19, 271, 22, 247, 224, 35, 100, 227, 38, 103, 176, 188, 115, 52, 179, 180, 55, 181, 251, 124, 127], 1287: [48, 161, 179, 219, 203, 75, 110], 1288: [91], 1289: [258, 164, 22, 55, 94, 90, 77, 30], 1290: [256, 211, 228, 261, 24, 90, 31], 1291: [259, 125, 191], 1292: [16, 34, 230, 39, 219], 1293: [201, 241, 93, 149], 1294: [47], 1295: [65, 191, 4, 196, 6, 70, 261, 265, 202, 267, 79, 150, 151, 152, 214, 37, 101, 106, 190, 175, 117, 55, 185, 60, 62, 127], 1296: [64], 1297: [271], 1298: [185], 1299: [96, 258, 67, 108, 241, 214, 23, 24, 247, 124, 62, 191], 1300: [35, 71, 74, 204, 79, 16, 144, 156, 62], 1301: [208, 111], 1302: [1, 102], 1303: [50, 199], 1304: [211, 231], 1305: [245], 1306: [94], 1307: [18], 1308: [189], 1309: [202], 1310: [259], 1311: [225, 241, 228, 149, 165, 55, 89, 95], 1312: [98, 163, 164, 5, 231, 234, 112, 145, 146, 86, 118, 252, 191], 1313: [274, 53, 200, 137, 234, 43, 270], 1314: [99], 1315: [171, 183], 1316: [215], 1317: [19], 1318: [68, 47], 1319: [34], 1320: [2], 1321: [258], 1322: [148], 1323: [14], 1324: [57], 1325: [27], 1326: [172, 215], 1327: [157], 1328: [12], 1329: [244, 197], 1330: [101, 5], 1331: [128, 65, 72, 234, 267, 12, 141, 240, 243, 25, 158, 222], 1332: [22], 1333: [114, 173], 1334: [220, 28], 1335: [112, 17, 52], 1336: [154], 1337: [185], 1338: [122], 1339: [163, 276], 1340: [162], 1341: [233], 1342: [1, 2, 129, 259, 5, 133, 137, 266, 271, 277, 151, 157, 167, 43, 44, 171, 172, 51, 184, 185, 190, 65, 73, 207, 86, 87, 215, 89, 217, 220, 229, 241, 119, 121, 255], 1343: [44, 223], 1344: [65], 1345: [168, 130], 1346: [59], 1347: [259, 86, 134, 24, 230, 139], 1348: [65, 235], 1349: [0], 1350: [157], 1351: [85], 1352: [162], 1353: [73], 1354: [148], 1355: [273], 1356: [176, 100, 38], 1357: [211, 69], 1358: [187, 54], 1359: [179, 259, 121, 237, 31], 1360: [92], 1361: [128, 55], 1362: [58, 52, 66], 1363: [16, 251, 157, 102], 1364: [2], 1365: [2, 50, 8, 72], 1366: [16, 17, 233, 90, 266, 60], 1367: [67, 59, 188, 271], 1368: [223], 1369: [3], 1370: [137], 1371: [219], 1372: [241], 1373: [10], 1374: [206], 1375: [112, 20, 180, 118, 197, 78], 1376: [6], 1377: [116], 1378: [183], 1379: [186], 1380: [161, 148, 54], 1381: [199], 1382: [158], 1383: [236, 43, 76, 143], 1384: [147, 221], 1385: [32, 274, 179, 116, 200, 74], 1386: [48, 39], 1387: [211], 1388: [8], 1389: [190], 1390: [60], 1391: [61], 1392: [50], 1393: [266, 109], 1394: [256, 267, 213, 117, 187], 1395: [208], 1396: [104, 193, 194, 166], 1397: [225], 1398: [121], 1399: [229, 174], 1400: [162], 1401: [197], 1402: [183], 1403: [141, 38, 55], 1404: [16, 43, 192], 1405: [120], 1406: [249], 1407: [134], 1408: [16, 153], 1409: [162, 83, 35, 196, 214, 222], 1410: [275, 251, 245, 95], 1411: [217], 1412: [132, 264, 137, 202, 267, 140, 77, 78, 204, 271, 209, 146, 211, 148, 276, 216, 157, 29, 248, 99, 227, 171, 172, 52, 117, 120, 250, 59, 252, 61], 1413: [184], 1414: [267], 1415: [184, 92], 1416: [24], 1417: [169, 22], 1418: [16, 198, 154, 206, 271], 1419: [160, 154, 206], 1420: [81, 241, 182, 151], 1421: [134], 1422: [72, 250], 1423: [106], 1424: [162], 1425: [1], 1426: [250, 3, 124, 239], 1427: [110], 1428: [195, 4, 261, 70, 102, 198, 170, 202, 234, 48, 177, 86, 55, 185, 60, 95], 1429: [112], 1430: [46, 38, 39], 1431: [68], 1432: [275], 1433: [161, 264, 75, 206, 239, 111, 22, 93, 190], 1434: [207], 1435: [165], 1436: [257, 36, 222, 46], 1437: [80, 105, 168], 1438: [105], 1439: [259], 1440: [93, 22], 1441: [161, 7], 1442: [48, 128], 1443: [176], 1444: [160, 262, 200, 267, 63], 1445: [195, 251], 1446: [199], 1447: [195, 84], 1448: [251], 1449: [195, 68, 165, 202, 107, 219, 271, 18, 116, 184, 218, 59], 1450: [97, 164, 261, 102, 8, 171, 47, 48, 144, 114, 210, 239, 54, 90, 27, 223], 1451: [136, 185, 21, 54], 1452: [200, 274], 1453: [28, 29], 1454: [191], 1455: [211], 1456: [257], 1457: [168, 179, 110], 1458: [228], 1459: [192, 34, 227, 38, 39, 137, 233, 206, 270, 17, 241, 276, 22, 87, 250, 59], 1460: [67], 1461: [262], 1462: [213], 1463: [189], 1464: [151], 1465: [151], 1466: [171], 1467: [184, 60], 1468: [56], 1469: [168], 1470: [93], 1471: [1, 65, 164, 5, 12, 272, 50, 22, 27], 1472: [111], 1473: [149], 1474: [134], 1475: [0, 210, 86], 1476: [220, 36, 214, 103], 1477: [33], 1478: [124], 1479: [52, 245, 231, 267, 204, 77, 158], 1480: [162], 1481: [200], 1482: [252], 1483: [17, 213], 1484: [57], 1485: [57], 1486: [91], 1487: [92, 61], 1488: [193], 1489: [33], 1490: [240], 1491: [264, 93, 14], 1492: [202, 150], 1493: [227], 1494: [210, 86], 1495: [145, 215], 1496: [163, 68, 259, 247, 217, 218, 75], 1497: [69], 1498: [61], 1499: [61], 1500: [168, 189], 1501: [48, 228], 1502: [8, 213], 1503: [19, 79], 1504: [98], 1505: [273, 234], 1506: [93], 1507: [32, 38], 1508: [273, 109], 1509: [185], 1510: [73, 222], 1511: [197, 277, 157, 70], 1512: [84], 1513: [0], 1514: [72, 27, 165], 1515: [120], 1516: [139, 61], 1517: [137], 1518: [3], 1519: [45], 1520: [2, 197, 6, 267, 77, 78, 269, 210, 19, 22, 156, 221, 184, 40, 172, 56, 188, 190], 1521: [81, 18], 1522: [225], 1523: [66, 259, 15], 1524: [0, 228], 1525: [1, 191, 148, 202, 158, 79], 1526: [274, 67], 1527: [228], 1528: [256, 145, 265, 215], 1529: [1, 34, 33, 37, 70, 106, 43, 76, 268, 143, 272, 83, 21, 185, 124], 1530: [242], 1531: [240, 102, 7, 205, 221, 109, 191], 1532: [134], 1533: [12, 149], 1534: [161], 1535: [240], 1536: [145, 44], 1537: [53], 1538: [268], 1539: [183], 1540: [8], 1541: [2, 134, 267, 269, 144, 273, 146, 21, 277, 25, 156, 29, 177, 181, 64, 192, 67, 68, 203, 209, 85, 214, 87, 217, 223, 224, 99, 233, 106, 108, 237, 238, 246, 119, 250], 1542: [4, 205, 190], 1543: [90], 1544: [77], 1545: [256, 7, 16, 22, 151, 29, 157, 31, 161, 34, 162, 168, 169, 174, 179, 53, 184, 57, 188, 195, 69, 73, 76, 205, 209, 89, 91, 97, 225, 100, 249, 234, 236, 237, 112, 242, 121, 122, 255], 1546: [34, 4, 133, 151, 233, 250], 1547: [240], 1548: [29], 1549: [195], 1550: [2, 261, 11, 12, 141, 204, 276, 215, 218, 158, 164, 235, 236, 111, 47, 239, 248, 191], 1551: [74], 1552: [33, 91, 45, 31], 1553: [101], 1554: [197, 126], 1555: [0, 210], 1556: [218], 1557: [103], 1558: [44, 182], 1559: [210, 246, 170, 111, 29, 207], 1560: [266], 1561: [227, 260, 261, 77, 112, 179, 180, 276, 119], 1562: [33, 103, 277, 22, 23, 235, 47], 1563: [66], 1564: [84], 1565: [90, 277, 70], 1566: [99, 195, 165, 271, 264, 94, 15], 1567: [133], 1568: [82, 275], 1569: [219], 1570: [233], 1571: [265, 172, 14, 23], 1572: [35], 1573: [277, 149], 1574: [149, 27, 59, 187, 142, 191], 1575: [16, 196], 1576: [189], 1577: [198], 1578: [50, 107, 62, 154], 1579: [129, 98, 262, 40, 72, 74, 170, 79, 22, 23, 216, 58, 61], 1580: [232, 230, 111], 1581: [255], 1582: [169], 1583: [79], 1584: [100], 1585: [22], 1586: [65], 1587: [80, 113, 249, 40, 201, 123, 168], 1588: [69], 1589: [122, 164, 79], 1590: [126, 271], 1591: [0], 1592: [96, 183, 218, 158, 15], 1593: [97, 98, 245, 277, 23], 1594: [2, 98, 245, 277, 30], 1595: [242], 1596: [112], 1597: [35], 1598: [240], 1599: [216, 54], 1600: [68, 245], 1601: [112, 126, 191], 1602: [49, 257, 163, 149, 134, 151, 172, 221], 1603: [118], 1604: [20, 154, 102, 54, 185, 58, 266, 221], 1605: [96], 1606: [121, 4, 118, 257], 1607: [43], 1608: [69], 1609: [157], 1610: [245], 1611: [189], 1612: [124, 268, 126], 1613: [173], 1614: [2, 259, 5, 134, 264, 265, 266, 143, 274, 20, 24, 28, 29, 31, 37, 46, 174, 51, 179, 182, 186, 61, 66, 69, 75, 76, 209, 85, 213, 215, 89, 220, 223, 227, 230, 231, 107, 243, 252], 1615: [66, 68, 196, 197, 73, 140, 205, 142, 208, 145, 272, 83, 84, 273, 275, 151, 29, 223, 160, 33, 225, 234, 44, 108, 109, 176, 243, 124], 1616: [129], 1617: [173], 1618: [140], 1619: [259, 36, 73, 106, 29, 22, 216, 91, 189, 191], 1620: [1, 260, 6, 264, 74, 202, 203, 204, 267, 209, 211, 213, 150, 23, 153, 31, 163, 165, 231, 170, 234, 174, 238, 49, 180, 184, 251, 60, 127], 1621: [189], 1622: [261], 1623: [82, 76, 236, 143], 1624: [128, 132, 142, 79, 143, 144, 146, 211, 25, 218, 154, 222, 160, 102, 42, 116, 117, 244, 255], 1625: [8], 1626: [192, 182, 41, 42, 171, 31], 1627: [72, 265, 73, 267, 45, 274, 84, 21, 121, 26], 1628: [32, 2, 34, 99, 101, 229, 175, 82, 179, 23, 215, 127], 1629: [161, 197], 1630: [33, 153, 134, 230, 41, 94, 47], 1631: [94], 1632: [276], 1633: [90, 23], 1634: [6], 1635: [227], 1636: [183], 1637: [174], 1638: [185], 1639: [47], 1640: [115, 102], 1641: [78, 6], 1642: [101], 1643: [239], 1644: [185, 100], 1645: [35], 1646: [129, 11, 79], 1647: [75], 1648: [161, 99, 101], 1649: [0], 1650: [66, 276, 248, 233, 156, 175], 1651: [215], 1652: [248, 22], 1653: [156], 1654: [214], 1655: [33], 1656: [128], 1657: [160, 37], 1658: [185, 74, 111], 1659: [128, 260, 6, 135, 200, 41, 230, 44, 47, 241, 50, 248, 90, 220, 94, 223], 1660: [36], 1661: [230], 1662: [22], 1663: [153, 51, 237], 1664: [33], 1665: [237], 1666: [195, 100, 255, 200, 233, 146, 53, 54, 182, 31], 1667: [267, 68], 1668: [165], 1669: [0, 199, 202, 139, 269, 271, 17, 274, 217, 153, 154, 31, 36, 42, 43, 237, 113, 241, 250, 59, 252], 1670: [48, 121, 82, 248], 1671: [62], 1672: [81], 1673: [124], 1674: [235], 1675: [89, 10, 130], 1676: [173], 1677: [86], 1678: [33, 11, 220], 1679: [64, 237, 269, 239, 48, 81, 271, 19, 184, 223], 1680: [33, 165], 1681: [204], 1682: [156], 1683: [265], 1684: [196], 1685: [269], 1686: [71], 1687: [50], 1688: [94], 1689: [185, 277], 1690: [102], 1691: [241, 46], 1692: [42, 142], 1693: [50, 51, 5, 170, 78], 1694: [130, 227, 41, 142, 46, 207, 117, 85, 184, 223], 1695: [32], 1696: [172, 239], 1697: [120], 1698: [1, 134, 136, 267, 141, 269, 270, 272, 17, 145, 147, 20, 273, 150, 24, 153, 30, 159, 36, 52, 180, 181, 58, 187, 62, 191, 66, 197, 70, 198, 203, 204, 205, 211, 87, 96, 227, 229, 102, 231, 239, 241, 244, 245, 118, 122, 124], 1699: [242], 1700: [160, 81, 276, 214], 1701: [96, 159, 178, 240, 68, 10, 15], 1702: [17, 18, 97, 73, 154, 252, 109], 1703: [216], 1704: [244], 1705: [94], 1706: [13], 1707: [29, 86], 1708: [134], 1709: [98], 1710: [65, 66, 260, 72, 207, 275, 213, 150, 247, 157, 29, 97, 162, 229, 103, 236, 45, 112, 179, 183], 1711: [241, 130, 260, 89, 270, 175], 1712: [116, 68, 148, 139, 76], 1713: [248], 1714: [257, 2, 259, 4, 260, 70, 75, 81, 82, 145, 21, 28, 157, 98, 163, 250, 43, 236, 46, 118, 247, 57, 122, 255], 1715: [257, 99, 198, 202, 235, 206, 145, 245, 182, 87, 89], 1716: [89], 1717: [119], 1718: [247], 1719: [79], 1720: [169, 197, 110, 143], 1721: [16, 225, 196, 270], 1722: [179], 1723: [16, 4, 165, 52, 182], 1724: [177], 1725: [160, 6, 74, 203, 53, 245, 55, 89, 26, 255], 1726: [49], 1727: [200], 1728: [140], 1729: [68], 1730: [90, 262], 1731: [146, 250], 1732: [116], 1733: [55], 1734: [154], 1735: [1, 210], 1736: [0, 67, 132, 136, 268, 15, 271, 209, 19, 214, 87, 24, 91, 219, 29, 100, 234, 250, 47, 114, 120, 121, 122, 255], 1737: [145], 1738: [145], 1739: [100, 260, 6, 218, 74, 78, 49, 81, 114, 118, 247, 24, 122, 251, 124], 1740: [81], 1741: [210, 86], 1742: [4, 267, 46, 92, 220, 213, 277, 219, 28, 157, 158], 1743: [223], 1744: [169, 11, 180, 261], 1745: [134], 1746: [8, 250, 222, 200], 1747: [232, 258, 180], 1748: [258], 1749: [60], 1750: [232, 240, 191], 1751: [240], 1752: [208], 1753: [97], 1754: [128, 257, 72, 137, 265, 142, 79, 143, 144, 82, 274, 216, 160, 161, 41, 107, 236, 238, 251, 240, 180, 185, 187], 1755: [184], 1756: [96], 1757: [143], 1758: [133], 1759: [258, 3, 68, 5, 197, 71, 77, 151, 156, 28, 101, 103, 106, 107, 117, 245, 119, 187], 1760: [276, 55], 1761: [185, 117, 71], 1762: [210], 1763: [208, 250, 239], 1764: [156], 1765: [13], 1766: [218], 1767: [275], 1768: [129, 137, 141, 62], 1769: [178], 1770: [51, 54], 1771: [187], 1772: [197], 1773: [79, 202, 78, 255], 1774: [124], 1775: [112, 145, 242, 164, 228, 235, 111], 1776: [222, 198, 126], 1777: [124], 1778: [133], 1779: [224, 215, 104, 265, 266, 123, 127], 1780: [116], 1781: [65, 7, 265, 12, 77, 78, 276, 277, 22, 90, 27, 94, 31, 225, 98, 162, 232, 41, 169, 234, 239, 51, 180, 244, 118, 245, 185, 186, 126, 127], 1782: [232], 1783: [218], 1784: [50, 114, 196, 69, 10, 92], 1785: [190], 1786: [192, 106, 267, 172, 206, 175, 177, 146, 117, 23, 90, 29, 223], 1787: [266], 1788: [183], 1789: [183], 1790: [131, 260, 10, 270, 144, 272, 147, 275, 150, 26, 158, 34, 35, 164, 175, 51, 179, 183, 57, 188, 191, 198, 202, 203, 204, 212, 215, 98, 226, 235, 108, 236, 110, 116], 1791: [121], 1792: [256, 1, 2, 257, 4, 5, 6, 258, 262, 264, 10, 12, 13, 14, 15, 272, 275, 22, 24, 27, 29, 37, 44, 48, 53, 55, 56, 60, 65, 66, 74, 75, 77, 78, 81, 90, 92, 95, 96, 100, 102, 109, 120, 121, 125, 127, 128, 134, 137, 142, 143, 144, 145, 156, 161, 169, 172, 173, 177, 182, 185, 195, 204, 213, 217, 221, 228, 230, 248, 252], 1793: [146, 35], 1794: [217], 1795: [109, 212, 69], 1796: [259], 1797: [233, 90, 118], 1798: [275], 1799: [24], 1800: [179], 1801: [147, 7], 1802: [259, 29], 1803: [257, 5, 137, 268, 270, 274, 19, 150, 23, 25, 157, 160, 162, 37, 38, 40, 169, 48, 51, 180, 184, 186, 60, 196, 72, 73, 202, 203, 79, 209, 82, 83, 211, 89, 92, 93, 95, 106, 238, 113, 119, 121, 251], 1804: [73], 1805: [217], 1806: [107], 1807: [209], 1808: [222], 1809: [48, 14], 1810: [250], 1811: [233, 255, 119], 1812: [242], 1813: [144, 65, 137, 160, 20, 116, 41, 203], 1814: [1, 106], 1815: [251], 1816: [222], 1817: [36, 174], 1818: [8], 1819: [62], 1820: [266], 1821: [172, 156, 5], 1822: [66, 102], 1823: [58, 277], 1824: [260], 1825: [176], 1826: [19, 84, 172, 157, 174, 175], 1827: [270], 1828: [270], 1829: [23], 1830: [13], 1831: [144, 236, 46], 1832: [17, 3, 259, 46, 174], 1833: [18, 92], 1834: [96, 265, 142, 62], 1835: [129, 42], 1836: [65, 69, 245, 215, 11, 204], 1837: [204], 1838: [189], 1839: [2, 5, 133, 134, 262, 11, 267, 13, 15, 272, 273, 18, 147, 20, 148, 22, 151, 152, 153, 276, 277, 31, 36, 37, 165, 39, 41, 169, 170, 172, 173, 46, 49, 58, 59, 190, 195, 76, 77, 78, 205, 209, 211, 84, 85, 86, 87, 212, 92, 103, 231, 108, 241, 246, 119, 248, 250, 252, 125, 254, 255], 1840: [133], 1841: [64, 110, 207], 1842: [57], 1843: [168, 65], 1844: [211], 1845: [248], 1846: [45, 31], 1847: [129, 3, 260, 268, 142, 15, 277, 154, 27, 28, 156, 30, 161, 35, 164, 169, 170, 171, 45, 46, 174, 176, 50, 179, 53, 182, 67, 73, 216, 90, 221, 94, 222, 97, 227, 228, 101, 102, 234, 124, 126, 127], 1848: [215], 1849: [165], 1850: [266], 1851: [126], 1852: [273], 1853: [128, 227, 228, 235, 92, 177, 55, 156, 255], 1854: [197, 124, 85, 110], 1855: [159], 1856: [119], 1857: [144, 132, 21, 111], 1858: [89, 17], 1859: [48, 44, 95, 92], 1860: [256, 137, 140, 146, 147, 148, 213, 24, 217, 156, 94, 31, 97, 163, 230, 110, 48, 242, 51, 243, 245, 118, 185, 251], 1861: [75], 1862: [171], 1863: [8, 200, 10, 17, 20, 148, 22, 89, 29, 158, 31, 162, 164, 102, 169, 45, 109, 176, 49, 242, 251, 61], 1864: [240], 1865: [96, 198, 71, 231, 235, 204, 270, 15, 144, 22], 1866: [17], 1867: [223, 87], 1868: [161, 182, 134, 63], 1869: [248], 1870: [17], 1871: [43, 4, 190, 150], 1872: [203], 1873: [267], 1874: [134], 1875: [98], 1876: [98, 100, 8, 72, 110, 208, 51, 180, 149], 1877: [62, 87], 1878: [66, 6, 134, 25, 126, 267, 236, 78], 1879: [148], 1880: [256, 1, 145, 113, 243, 123, 157], 1881: [61], 1882: [89], 1883: [7], 1884: [236, 62], 1885: [277, 220, 77], 1886: [140], 1887: [122], 1888: [122], 1889: [187], 1890: [118], 1891: [151], 1892: [240], 1893: [164, 133, 7, 45, 271, 247, 57, 90, 255], 1894: [124, 239], 1895: [78, 6], 1896: [240, 98, 195, 4, 101, 68, 245], 1897: [133], 1898: [156], 1899: [85], 1900: [122], 1901: [75, 59, 54], 1902: [251, 229, 150, 23], 1903: [59], 1904: [128, 1, 130, 3, 4, 133, 6, 7, 8, 136, 259, 263, 12, 140, 14, 142, 144, 17, 268, 269, 277, 152, 154, 156, 35, 36, 169, 42, 44, 174, 180, 59, 187, 64, 65, 71, 200, 73, 75, 204, 77, 205, 208, 209, 85, 213, 93, 95, 224, 229, 103, 106, 235, 109, 237, 244, 245, 118, 119, 252, 254], 1905: [100], 1906: [263], 1907: [128, 99, 203, 235, 110, 118, 119, 187, 188, 29], 1908: [203], 1909: [136, 137, 42, 52], 1910: [74], 1911: [258], 1912: [240, 17, 47, 191], 1913: [49, 218, 267], 1914: [48, 64], 1915: [272, 222], 1916: [107], 1917: [145], 1918: [179], 1919: [125], 1920: [154, 198, 183], 1921: [74], 1922: [93], 1923: [169], 1924: [161, 99, 19, 211, 91, 271], 1925: [96, 97, 34, 58, 262, 234, 108, 240, 22, 247, 186, 219, 30], 1926: [203], 1927: [66, 141, 38], 1928: [0], 1929: [48], 1930: [32, 66, 188, 149, 248, 174, 110], 1931: [1, 227], 1932: [3], 1933: [267, 171, 78, 271], 1934: [228], 1935: [181], 1936: [234, 250, 270], 1937: [223], 1938: [37], 1939: [43], 1940: [202, 150], 1941: [268, 189], 1942: [213], 1943: [33], 1944: [67], 1945: [65, 129, 3, 4, 67, 68, 132, 261, 77, 141, 142, 82, 23, 26, 36, 122, 167, 233, 43, 109, 174, 47, 120, 58, 190, 62], 1946: [24], 1947: [170, 12], 1948: [22], 1949: [256, 265, 215], 1950: [125], 1951: [98], 1952: [3], 1953: [87], 1954: [168], 1955: [0, 99, 57, 27, 139, 62, 270], 1956: [7], 1957: [184, 210, 7], 1958: [239], 1959: [169, 195, 116], 1960: [116], 1961: [35, 71, 169, 202, 75, 145, 116, 21, 149, 150, 181, 58, 95], 1962: [102], 1963: [162, 227, 250, 118, 10, 174, 14], 1964: [250], 1965: [28], 1966: [250], 1967: [174], 1968: [223], 1969: [43, 68, 173], 1970: [96, 180], 1971: [2, 3, 140, 255], 1972: [179, 211, 244, 262, 10, 191], 1973: [262], 1974: [154, 108], 1975: [221], 1976: [3], 1977: [0, 161, 91, 77], 1978: [145], 1979: [124, 268], 1980: [112, 147, 116, 204, 7, 154, 28], 1981: [210], 1982: [208, 7, 42, 107, 93], 1983: [276], 1984: [189, 119], 1985: [251, 213], 1986: [81, 92], 1987: [7], 1988: [183], 1989: [96, 211], 1990: [1, 129, 257, 68, 197, 136, 137, 74, 12, 204, 270, 15, 275, 84, 23, 216, 89, 26, 93, 221, 162, 227, 38, 170, 173, 47, 176], 1991: [179], 1992: [179], 1993: [188], 1994: [139], 1995: [34, 92, 95, 31], 1996: [214, 207], 1997: [252], 1998: [240], 1999: [240], 2000: [192, 177, 204, 37, 277, 55, 124, 30], 2001: [106, 63], 2002: [250, 220, 52, 53], 2003: [128], 2004: [128, 12, 173], 2005: [168, 1], 2006: [183], 2007: [214, 230, 246, 262, 220, 46], 2008: [246], 2009: [272, 1, 131, 5, 168, 105, 9], 2010: [1, 65, 164, 5, 8, 72, 10, 12, 272, 50, 54, 27], 2011: [250], 2012: [250], 2013: [133, 137, 139, 267, 13, 271, 275, 22, 157, 34, 41, 42, 43, 172, 177, 179, 180, 182, 188, 66, 70, 73, 203, 206, 81, 91, 221, 99, 100, 103, 236, 110, 111, 112, 238, 246, 120, 121, 122], 2014: [35, 275, 87, 174, 238], 2015: [13], 2016: [20], 2017: [64, 1, 68, 133, 200, 170, 176, 274, 116, 276, 247, 216, 250], 2018: [64, 65, 165, 46, 174, 17, 82, 252, 29, 63], 2019: [148], 2020: [54], 2021: [76, 102], 2022: [191], 2023: [170], 2024: [63], 2025: [176, 248, 102, 232, 202, 13], 2026: [235], 2027: [35, 163, 165, 195, 39, 260, 41, 267, 141, 205, 206, 272, 49, 52, 117, 189], 2028: [6, 200, 73, 11, 13, 205, 274, 83, 147, 148, 26, 163, 164, 230, 49, 61, 189, 62], 2029: [128, 185, 4, 103, 47, 208, 241, 242, 252, 118, 89, 92, 57], 2030: [117, 165], 2031: [173, 14], 2032: [268], 2033: [0, 147, 197, 85, 233, 269], 2034: [248], 2035: [152, 49, 250], 2036: [49, 107], 2037: [8], 2038: [7], 2039: [14], 2040: [130, 181, 6, 78], 2041: [225], 2042: [13], 2043: [215, 243, 118, 55], 2044: [230, 72, 174, 16, 18, 182, 62, 57, 122, 94, 255], 2045: [169, 209], 2046: [171], 2047: [110], 2048: [27], 2049: [225], 2050: [132, 200, 108, 63], 2051: [201], 2052: [151], 2053: [74], 2054: [198], 2055: [273], 2056: [240, 273, 250, 245, 248, 58, 172], 2057: [73, 45, 255], 2058: [129], 2059: [16, 259, 228, 171, 156, 12, 62], 2060: [208, 34, 83, 37, 231, 43, 110], 2061: [39], 2062: [256, 145, 215, 265, 127], 2063: [112, 144, 267, 248, 59, 188], 2064: [0], 2065: [81, 25, 217, 70], 2066: [64, 133, 263, 269, 237, 190, 271], 2067: [133], 2068: [240, 145, 242, 99, 228, 101, 142, 95], 2069: [13], 2070: [94, 145, 62], 2071: [196], 2072: [24, 238, 199], 2073: [146, 227], 2074: [26, 227, 170, 267, 76, 205, 142, 236, 272, 242, 151, 58, 92, 223], 2075: [232], 2076: [162, 227, 164, 102, 38, 134, 202, 175, 112, 145, 209, 151, 248, 94, 251, 126], 2077: [241, 162], 2078: [169, 181], 2079: [227, 172], 2080: [67], 2081: [144, 3], 2082: [50, 87], 2083: [218, 95], 2084: [242, 100], 2085: [98], 2086: [91], 2087: [14], 2088: [15], 2089: [272, 91, 68], 2090: [15], 2091: [182], 2092: [82], 2093: [209, 250, 197, 202, 157], 2094: [67, 68, 69, 195, 196, 260, 137, 266, 11, 140, 16, 208, 273, 84, 148, 22, 215, 25, 156, 222, 95, 159, 98, 165, 235, 240, 182, 57, 188, 62], 2095: [242, 109], 2096: [0, 129, 257, 136, 16, 213, 218, 27, 33, 165, 43, 177, 246, 250, 187, 60, 127], 2097: [257, 34, 4, 21, 52, 100, 244, 237], 2098: [246], 2099: [10, 20], 2100: [226, 244], 2101: [85], 2102: [142], 2103: [145], 2104: [122, 20, 199], 2105: [272, 236], 2106: [92, 13], 2107: [181, 20, 13, 47], 2108: [156], 2109: [249], 2110: [95], 2111: [82, 94], 2112: [106, 148], 2113: [148], 2114: [239], 2115: [239], 2116: [176], 2117: [45], 2118: [15], 2119: [184, 192], 2120: [169], 2121: [216, 225, 258], 2122: [106, 275], 2123: [167], 2124: [208, 34], 2125: [83], 2126: [171], 2127: [170, 58, 3], 2128: [203], 2129: [61], 2130: [37, 175], 2131: [223], 2132: [73, 275, 276, 85], 2133: [178], 2134: [258, 277], 2135: [274, 67], 2136: [24], 2137: [42], 2138: [61], 2139: [207], 2140: [205], 2141: [137, 174], 2142: [249], 2143: [192, 21], 2144: [70], 2145: [202], 2146: [95], 2147: [139, 262], 2148: [211], 2149: [173, 247], 2150: [174], 2151: [275], 2152: [203], 2153: [64, 1, 96, 97, 98, 73, 75, 268, 174, 238, 241, 244, 277, 124, 29], 2154: [74], 2155: [102], 2156: [240], 2157: [82], 2158: [74], 2159: [259], 2160: [208, 85], 2161: [103], 2162: [41], 2163: [65], 2164: [67], 2165: [3, 75, 140, 139, 207, 182, 246, 216, 157, 255], 2166: [81, 146, 238, 254, 260, 23, 218, 190], 2167: [41, 255], 2168: [91], 2169: [227, 148, 22], 2170: [144, 101, 133, 267, 220], 2171: [128, 169, 233, 267, 13, 209, 83, 152, 93, 216], 2172: [50], 2173: [247], 2174: [248], 2175: [204, 231], 2176: [139, 23], 2177: [257, 6, 102, 203, 108, 13, 21, 118, 24], 2178: [69], 2179: [228], 2180: [17, 162, 258, 167, 223], 2181: [243], 2182: [37], 2183: [106], 2184: [275], 2185: [10], 2186: [189], 2187: [222], 2188: [3], 2189: [35], 2190: [52, 53], 2191: [179, 188], 2192: [145, 275], 2193: [233], 2194: [260], 2195: [233], 2196: [34], 2197: [32, 212, 133, 197, 8, 153], 2198: [136, 197], 2199: [110], 2200: [15], 2201: [257, 4, 73, 74, 205, 15, 275, 86, 25, 157, 94, 101, 46, 111, 112, 49, 243, 118, 252], 2202: [147, 116], 2203: [11], 2204: [169], 2205: [268, 12, 5], 2206: [161, 214, 103], 2207: [247], 2208: [173], 2209: [64, 229, 187, 157, 251], 2210: [246, 255], 2211: [258, 259, 135, 8, 266, 237, 251, 81, 116, 54, 23, 185, 219, 158], 2212: [249, 186], 2213: [29], 2214: [1, 110], 2215: [32], 2216: [32, 247, 119], 2217: [175, 37, 95], 2218: [265, 18, 92, 165], 2219: [92], 2220: [68], 2221: [268], 2222: [48, 213, 150], 2223: [83, 196], 2224: [128], 2225: [275, 157], 2226: [184, 121], 2227: [275, 37, 183], 2228: [122, 47], 2229: [160, 275, 120, 267, 236, 159], 2230: [195], 2231: [20], 2232: [94], 2233: [169], 2234: [128, 129, 257, 258, 8, 139, 13, 143, 274, 148, 22, 23, 158, 161, 35, 163, 37, 41, 47, 179, 182, 186, 62, 199, 73, 77, 207, 82, 85, 87, 92, 220, 95, 225, 100, 103, 235, 237, 110, 111, 239, 115, 118, 246], 2235: [161, 164, 29, 165], 2236: [246], 2237: [186], 2238: [266], 2239: [16], 2240: [238], 2241: [67], 2242: [146], 2243: [244, 276, 248, 265, 91, 126], 2244: [100], 2245: [35], 2246: [256], 2247: [83], 2248: [208], 2249: [139], 2250: [186, 174], 2251: [186], 2252: [5], 2253: [19], 2254: [16], 2255: [84, 149, 215, 72, 251, 239], 2256: [240, 50, 277, 10, 203, 268], 2257: [192], 2258: [266, 235], 2259: [14], 2260: [47], 2261: [197, 230], 2262: [25], 2263: [6, 137, 11, 139, 267, 270, 147, 275, 21, 150, 152, 26, 32, 34, 37, 167, 42, 43, 44, 175, 59, 61, 62, 192, 198, 71, 200, 73, 202, 204, 206, 210, 83, 85, 87, 217, 97, 227, 103, 231, 106, 107, 109, 110, 119, 120, 121], 2264: [124], 2265: [144], 2266: [132], 2267: [195, 151], 2268: [96, 265, 62], 2269: [174], 2270: [160, 2, 210, 23, 58, 157], 2271: [43], 2272: [262], 2273: [50, 5], 2274: [129], 2275: [83], 2276: [134], 2277: [192, 1, 272, 39], 2278: [38], 2279: [154], 2280: [121, 164], 2281: [219, 158], 2282: [197], 2283: [121], 2284: [267, 37, 21, 70, 231, 107, 174, 270], 2285: [174], 2286: [125], 2287: [257, 242, 14], 2288: [12], 2289: [22], 2290: [93], 2291: [110], 2292: [17, 82, 145, 22], 2293: [62], 2294: [116], 2295: [25], 2296: [206], 2297: [233], 2298: [96, 98, 14, 240, 211, 182, 23, 183, 122, 91], 2299: [7], 2300: [3], 2301: [93], 2302: [208, 103, 87], 2303: [242], 2304: [73], 2305: [219, 158], 2306: [17], 2307: [3, 276], 2308: [121], 2309: [64, 225, 257, 3, 164, 134, 235, 44, 142, 48, 215, 26], 2310: [256, 227, 265, 141, 109, 145, 215, 221, 127], 2311: [243], 2312: [189, 117, 39], 2313: [39], 2314: [210], 2315: [1, 2, 260, 133, 10, 269, 24, 154, 156, 34, 163, 173, 48, 55, 189, 68, 70, 198, 205, 207, 81, 85, 218, 95, 96, 225, 233, 235, 112, 114, 242, 117, 246], 2316: [261, 205, 55], 2317: [24], 2318: [227], 2319: [200, 28, 117], 2320: [266, 60], 2321: [206], 2322: [99, 41, 91], 2323: [257, 4, 200, 108, 63], 2324: [75, 100], 2325: [32, 219, 101, 182], 2326: [95], 2327: [129, 85, 183, 91, 13, 79], 2328: [149], 2329: [233, 258], 2330: [2, 4, 133, 6, 135, 261, 265, 143, 16, 274, 275, 276, 24, 35, 171, 44, 173, 48, 185, 59, 190, 63, 195, 68, 74, 76, 204, 78, 83, 219, 247, 222, 97, 226, 99, 102, 230, 231, 236, 109, 116, 245, 119, 120, 124], 2331: [225, 162, 50, 67, 20], 2332: [128], 2333: [172], 2334: [240, 188, 205], 2335: [132, 108], 2336: [0, 67, 277], 2337: [260], 2338: [17], 2339: [171, 244], 2340: [177, 180, 197, 70, 217, 236, 238], 2341: [97, 110], 2342: [188], 2343: [97, 261, 133], 2344: [182, 95], 2345: [239], 2346: [24, 66, 128], 2347: [128], 2348: [25], 2349: [171], 2350: [198], 2351: [240, 81, 255, 260, 74, 269, 46, 207], 2352: [0, 38], 2353: [77], 2354: [62], 2355: [1, 257, 258, 4, 5, 6, 261, 262, 264, 265, 11, 266, 267, 14, 15, 271, 18, 19, 274, 275, 22, 277, 27, 28, 30, 31, 32, 33, 36, 37, 38, 41, 45, 48, 50, 51, 53, 55, 57, 58, 63, 68, 72, 73, 76, 78, 82, 85, 86, 87, 89, 92, 93, 94, 98, 99, 101, 102, 116, 117, 121, 122, 128, 132, 133, 135, 136, 137, 139, 143, 144, 148, 149, 151, 154, 157, 158, 160, 161, 162, 165, 172, 173, 176, 180, 182, 185, 186, 187, 188, 189, 191, 195, 197, 200, 203, 205, 209, 217, 221, 223, 227, 229, 230, 232, 233, 235, 238, 241, 245, 247, 250, 252, 255], 2356: [233], 2357: [233], 2358: [18, 92], 2359: [169], 2360: [169, 195, 151], 2361: [0], 2362: [0, 2, 260, 261, 7, 135, 268, 144, 149, 277, 23, 156, 30, 160, 38, 169, 47, 48, 180, 55, 185, 186, 69, 208, 210, 254, 214, 89, 90, 91, 217, 220, 94, 97, 228, 229, 102, 103, 230, 239, 112, 241, 245, 247, 249, 124, 126], 2363: [277, 268, 124, 239], 2364: [120, 29, 206], 2365: [20], 2366: [272, 1, 54, 8, 189], 2367: [96, 4, 73, 55, 86, 23, 277, 89, 92, 222, 30], 2368: [277], 2369: [161, 130, 195, 133, 268, 78, 112, 273, 186, 30], 2370: [6, 78, 272, 210, 51, 86, 184, 249, 186], 2371: [83, 52, 270, 175], 2372: [60], 2373: [218], 2374: [65, 252], 2375: [72], 2376: [192], 2377: [86], 2378: [14], 2379: [33], 2380: [218], 2381: [66], 2382: [232], 2383: [183], 2384: [146, 22], 2385: [145, 179, 215, 59, 158], 2386: [7], 2387: [7], 2388: [213, 247, 56, 27, 12, 189], 2389: [259], 2390: [144, 256, 114, 7, 191], 2391: [165], 2392: [217], 2393: [224], 2394: [16, 196, 183], 2395: [196], 2396: [272], 2397: [57], 2398: [239], 2399: [0, 36, 53, 127], 2400: [226, 268, 124, 126], 2401: [122], 2402: [177, 259, 220, 238], 2403: [101], 2404: [169], 2405: [81, 25], 2406: [43, 183], 2407: [48, 68], 2408: [137, 126], 2409: [215], 2410: [38], 2411: [16, 196], 2412: [192, 50, 79], 2413: [105], 2414: [6], 2415: [137, 10], 2416: [178, 226], 2417: [116], 2418: [119], 2419: [241, 275, 182, 262, 28], 2420: [73, 108, 119], 2421: [38], 2422: [197], 2423: [48, 113, 84, 164, 55, 57, 186, 31], 2424: [84], 2425: [120, 226, 43, 124], 2426: [259], 2427: [136, 256, 126], 2428: [191], 2429: [16], 2430: [65, 213, 43, 75, 235], 2431: [164], 2432: [216, 269, 5, 214], 2433: [158], 2434: [260], 2435: [277], 2436: [33, 19, 275, 75, 61, 63], 2437: [149], 2438: [181, 245, 170, 26, 27, 13, 62], 2439: [210], 2440: [60], 2441: [13], 2442: [143], 2443: [27, 53], 2444: [125], 2445: [250], 2446: [270], 2447: [16, 74], 2448: [251], 2449: [72], 2450: [22], 2451: [211, 189, 102], 2452: [112, 154, 266, 140], 2453: [231, 8, 105, 40, 170, 235, 80, 211, 93, 255], 2454: [195, 116], 2455: [200, 272], 2456: [53], 2457: [58, 11, 109, 195], 2458: [16, 60], 2459: [1, 276, 21, 170, 63], 2460: [140], 2461: [58, 83, 70], 2462: [221], 2463: [132], 2464: [203, 206, 208, 273, 147, 276, 86, 119, 22, 185, 26, 223], 2465: [210], 2466: [220], 2467: [217, 3], 2468: [137, 35, 196], 2469: [91], 2470: [24, 150, 220, 134], 2471: [102], 2472: [139, 182, 174], 2473: [0, 133, 233, 14, 275, 149, 118, 248, 154, 157], 2474: [227], 2475: [51], 2476: [10], 2477: [97], 2478: [142], 2479: [20, 109], 2480: [122, 146], 2481: [72], 2482: [69], 2483: [130, 230, 266, 107, 78, 143, 275, 117, 28], 2484: [22], 2485: [213], 2486: [257, 102, 230, 8, 77, 50, 55, 184, 156, 61, 255], 2487: [72], 2488: [98, 263, 247], 2489: [200, 84, 22, 271], 2490: [48, 1, 113], 2491: [245, 118, 216, 174, 127], 2492: [20], 2493: [51, 188], 2494: [33], 2495: [16, 69, 149, 219, 60], 2496: [58, 102], 2497: [149], 2498: [222], 2499: [59], 2500: [14], 2501: [42], 2502: [97], 2503: [90], 2504: [225, 34, 228, 72, 267, 207, 149, 245, 55, 216], 2505: [182], 2506: [173, 103], 2507: [101], 2508: [267, 37, 119, 74, 251, 93], 2509: [266], 2510: [35], 2511: [0, 97, 195, 197, 38, 231, 77, 275, 213, 95], 2512: [169, 173], 2513: [152, 228], 2514: [106, 226], 2515: [174], 2516: [215], 2517: [202, 180, 23], 2518: [94], 2519: [273, 210, 77], 2520: [90, 179, 236], 2521: [192, 240, 51, 116, 244, 8, 108, 270], 2522: [72], 2523: [185, 195, 101, 69, 137, 91, 220], 2524: [210], 2525: [244, 231], 2526: [176, 17, 259, 70, 73, 139], 2527: [170], 2528: [81], 2529: [192, 259, 266, 75, 171, 78, 111, 241, 148, 118, 152, 154, 61], 2530: [220, 214], 2531: [114], 2532: [204], 2533: [244, 124, 213, 151], 2534: [164], 2535: [17], 2536: [86, 211, 14, 30], 2537: [12], 2538: [7], 2539: [128, 183, 121, 42, 29], 2540: [164], 2541: [183], 2542: [259], 2543: [257, 74], 2544: [215], 2545: [163, 180], 2546: [16, 266, 192], 2547: [128, 248, 38, 207], 2548: [217, 44, 14, 71], 2549: [179], 2550: [119], 2551: [51], 2552: [198], 2553: [69, 54, 55, 277, 90, 124, 30], 2554: [96, 268, 141, 30], 2555: [3], 2556: [65, 199, 266, 12, 205, 14, 46, 241, 273, 51, 85, 86, 25, 60, 191], 2557: [124, 225, 257, 231, 106, 107, 140, 269], 2558: [159, 161, 133, 38, 103, 136, 170, 12, 273, 220, 84, 86, 60, 61, 63], 2559: [81], 2560: [59, 35], 2561: [55], 2562: [55], 2563: [258, 180, 232, 216], 2564: [14], 2565: [145], 2566: [67], 2567: [143], 2568: [83], 2569: [250, 258, 228], 2570: [84], 2571: [68], 2572: [82, 255], 2573: [5], 2574: [277], 2575: [102], 2576: [274, 67], 2577: [32], 2578: [20], 2579: [232, 272, 181, 56, 74, 11, 156, 77], 2580: [174], 2581: [163, 4, 134, 156, 77], 2582: [83], 2583: [225, 257, 227, 232, 108, 62], 2584: [107], 2585: [265], 2586: [51], 2587: [5], 2588: [217], 2589: [3], 2590: [217], 2591: [136, 169, 50, 195], 2592: [243], 2593: [59], 2594: [87], 2595: [97, 35], 2596: [16], 2597: [264, 93, 149], 2598: [54], 2599: [101, 14], 2600: [106], 2601: [1, 203, 273, 20, 148, 22, 149, 24, 151, 157, 221, 161, 162, 227, 37, 101, 231, 232, 111, 177, 51, 180, 244, 54, 58, 61], 2602: [157], 2603: [258, 232, 14, 251, 241, 273, 19, 183, 24, 58, 158, 62, 63], 2604: [71], 2605: [19], 2606: [119], 2607: [233], 2608: [270], 2609: [202], 2610: [210, 86], 2611: [45, 22], 2612: [71], 2613: [95], 2614: [227, 134, 137, 10, 107, 12, 171, 46, 271, 272, 81, 19, 54, 120, 121, 250], 2615: [206], 2616: [225, 162, 63], 2617: [25, 250, 57], 2618: [197], 2619: [168], 2620: [5, 200, 10, 267, 276, 277, 150, 37, 165, 41, 171, 239, 113, 52, 184, 250, 59, 63], 2621: [233], 2622: [243, 28, 5], 2623: [271], 2624: [61], 2625: [25], 2626: [10, 12], 2627: [65], 2628: [0, 132, 6, 136, 267, 146, 19, 22, 23, 156, 29, 159, 32, 161, 40, 172, 173, 51, 183, 56, 187, 189, 190, 62, 66, 203, 207, 81, 84, 216, 92, 220, 221, 224, 229, 235, 111, 239, 242, 117, 246, 252], 2629: [231, 175], 2630: [25], 2631: [25, 57], 2632: [119, 269, 87], 2633: [101, 247], 2634: [120, 271], 2635: [217], 2636: [7], 2637: [233], 2638: [227, 37, 105, 267, 142], 2639: [187], 2640: [90], 2641: [11], 2642: [171], 2643: [265, 219, 101, 149], 2644: [250], 2645: [102], 2646: [206], 2647: [50], 2648: [204], 2649: [179, 269], 2650: [209], 2651: [33, 37, 231, 153, 107], 2652: [1, 65, 164, 5, 10, 12, 272, 54], 2653: [234, 79], 2654: [79], 2655: [200], 2656: [53], 2657: [169, 195], 2658: [147], 2659: [7], 2660: [116], 2661: [106], 2662: [138, 61], 2663: [260, 222], 2664: [207], 2665: [239], 2666: [137], 2667: [136], 2668: [158], 2669: [216, 258], 2670: [50], 2671: [10, 38], 2672: [49], 2673: [83], 2674: [198], 2675: [225], 2676: [99, 91], 2677: [208, 44], 2678: [38], 2679: [152], 2680: [61], 2681: [154, 62], 2682: [229], 2683: [200, 158, 119], 2684: [274, 266, 67], 2685: [49], 2686: [37, 231, 107, 270, 175], 2687: [270], 2688: [175], 2689: [34], 2690: [46, 262], 2691: [71], 2692: [22], 2693: [35], 2694: [32], 2695: [35], 2696: [10, 12], 2697: [124, 268], 2698: [119], 2699: [81], 2700: [155], 2701: [21, 70], 2702: [246], 2703: [273], 2704: [125], 2705: [250], 2706: [180], 2707: [28, 165, 47], 2708: [273], 2709: [93], 2710: [0, 141, 45, 251, 176, 210, 179, 53, 22, 245, 249, 26, 247], 2711: [107], 2712: [154, 198], 2713: [158], 2714: [59], 2715: [219, 158], 2716: [15], 2717: [219, 158], 2718: [197], 2719: [65, 3, 43, 173, 239], 2720: [173], 2721: [210, 148], 2722: [235, 172, 14], 2723: [195], 2724: [10], 2725: [68, 69, 263, 266, 22, 218, 219, 158, 31, 163, 113, 241, 51, 55, 60, 125, 191], 2726: [145, 209, 241, 181, 60, 158], 2727: [78, 181, 6], 2728: [40, 222], 2729: [229], 2730: [59], 2731: [250], 2732: [146, 163, 20, 124, 157, 94], 2733: [252], 2734: [24], 2735: [84, 182, 118], 2736: [96, 37, 165, 261, 204, 49, 209, 211, 55, 248, 217, 92, 221], 2737: [248], 2738: [112, 69, 55, 56, 233, 90, 205], 2739: [146], 2740: [8], 2741: [7], 2742: [256, 145], 2743: [16], 2744: [256, 145], 2745: [145], 2746: [21, 70], 2747: [49], 2748: [242], 2749: [242], 2750: [249, 186], 2751: [59], 2752: [75], 2753: [152], 2754: [173], 2755: [173], 2756: [61], 2757: [116], 2758: [191], 2759: [218], 2760: [274], 2761: [109], 2762: [232], 2763: [160, 34, 259, 38, 262, 139, 240, 17, 115, 243, 276, 214, 55, 223], 2764: [275, 100, 180, 154, 121, 106, 92], 2765: [0, 129, 262, 264, 139, 13, 14, 15, 270, 19, 24, 30, 158, 163, 39, 170, 46, 48, 180, 189, 67, 198, 77, 214, 90, 219, 92, 93, 220, 221, 223, 224, 101, 102, 111, 112, 240, 241, 118, 248, 124], 2766: [38], 2767: [267], 2768: [102], 2769: [47], 2770: [49], 2771: [243], 2772: [116], 2773: [272], 2774: [266, 60], 2775: [66], 2776: [29], 2777: [29], 2778: [73], 2779: [251, 213], 2780: [27, 5], 2781: [11], 2782: [200, 202], 2783: [66, 188], 2784: [161], 2785: [168], 2786: [59], 2787: [62], 2788: [62], 2789: [59, 110], 2790: [74], 2791: [256, 145], 2792: [72, 75, 205], 2793: [101], 2794: [205], 2795: [25], 2796: [192], 2797: [229], 2798: [189], 2799: [62], 2800: [105], 2801: [208, 34, 103, 85, 87, 249, 186, 44], 2802: [148], 2803: [117, 189], 2804: [245], 2805: [62], 2806: [68], 2807: [46], 2808: [163], 2809: [180], 2810: [152], 2811: [271], 2812: [77], 2813: [11], 2814: [61], 2815: [47], 2816: [78, 130, 6], 2817: [62], 2818: [17, 36, 140], 2819: [187], 2820: [147, 204], 2821: [62], 2822: [129, 177], 2823: [170, 273, 58], 2824: [52, 53], 2825: [25, 57], 2826: [47], 2827: [2, 98, 68, 245, 277, 30], 2828: [134], 2829: [243], 2830: [43], 2831: [111], 2832: [257], 2833: [183], 2834: [222], 2835: [266], 2836: [91], 2837: [119], 2838: [99], 2839: [163], 2840: [3], 2841: [74], 2842: [195, 12], 2843: [162, 213, 70, 198, 216, 185, 62], 2844: [228], 2845: [239], 2846: [184, 60], 2847: [165], 2848: [221, 109], 2849: [212, 45, 31], 2850: [185, 164, 69, 227, 137, 107, 203, 205, 112, 49, 146, 89, 159], 2851: [110], 2852: [38], 2853: [272], 2854: [92], 2855: [268, 126], 2856: [27], 2857: [45], 2858: [172], 2859: [267, 171, 231], 2860: [147], 2861: [67, 202, 268, 270, 143, 16, 213, 277, 247, 98, 163, 226, 37, 102, 231, 110, 175, 240, 51, 182, 246, 248], 2862: [64, 211, 69, 102, 213, 261, 190], 2863: [228, 101], 2864: [197, 229, 137, 266, 31, 144, 17, 179, 182, 246, 59, 92, 95], 2865: [149], 2866: [176, 187, 22], 2867: [273, 58], 2868: [171], 2869: [144, 148], 2870: [151], 2871: [261], 2872: [0, 101, 46], 2873: [185], 2874: [117, 189], 2875: [95], 2876: [224, 113, 87, 223], 2877: [44], 2878: [227, 93], 2879: [128, 273, 19, 148, 275, 150, 152, 163, 51, 54, 58, 60, 191, 64, 197, 202, 76, 206, 82, 85, 86, 220, 221, 96, 224, 225, 230, 106, 236, 112, 116, 248], 2880: [227, 68, 164, 102, 7, 8, 72, 10, 12, 109, 15, 242, 122], 2881: [108], 2882: [275, 187], 2883: [128, 6, 263, 8, 137, 144, 17, 146, 21, 152, 162, 37, 165, 43, 172, 175, 51, 53, 59, 62, 68, 70, 74, 84, 214, 91, 92, 220, 98, 227, 100, 101, 102, 231, 106, 112, 118, 119, 251], 2884: [192], 2885: [261, 134, 270, 16, 145, 210, 84, 156, 157, 225, 35, 163, 227, 122, 229, 170, 234, 179, 182, 247, 185, 58, 188, 62], 2886: [154, 276, 151, 106, 171, 124, 109, 60], 2887: [0, 258, 67, 259, 200, 73, 268, 275, 32, 225, 163, 164, 107, 236, 173, 110, 187, 48, 55, 251], 2888: [0, 236], 2889: [176, 153, 218, 223], 2890: [114, 84, 186, 187, 158, 111], 2891: [240], 2892: [240], 2893: [139], 2894: [76], 2895: [217, 66], 2896: [221, 109], 2897: [64, 73], 2898: [245], 2899: [78, 6], 2900: [17], 2901: [249, 163, 207], 2902: [79], 2903: [82], 2904: [272, 165, 106, 267, 142, 47], 2905: [51, 268, 101], 2906: [82, 28, 76, 143], 2907: [200, 58, 101, 231], 2908: [68, 245], 2909: [33], 2910: [18, 92], 2911: [116], 2912: [164, 68, 262], 2913: [139, 238], 2914: [65, 223, 4, 135, 199, 171, 267, 141, 46, 274, 83, 60, 31], 2915: [197], 2916: [0, 256, 257, 259, 260, 15, 16, 271, 19, 21, 277, 33, 34, 35, 38, 42, 46, 47, 52, 53, 54, 56, 66, 70, 81, 83, 85, 86, 90, 91, 94, 100, 103, 106, 109, 112, 114, 120, 122, 124, 146, 148, 151, 157, 160, 162, 169, 170, 174, 177, 182, 183, 192, 197, 203, 206, 209, 216, 218, 228, 229, 230, 233, 236, 237, 238, 243, 244, 247, 251, 252], 2917: [197], 2918: [169], 2919: [230], 2920: [31], 2921: [252], 2922: [84, 183], 2923: [66, 195, 261, 70, 167, 74, 241, 217, 158], 2924: [19, 183], 2925: [250, 52, 53], 2926: [4], 2927: [262, 45, 110, 144, 145, 241, 243, 84, 189, 126], 2928: [210], 2929: [102], 2930: [20], 2931: [8], 2932: [258], 2933: [225, 6, 71, 230, 218, 170, 243, 275, 25, 186, 92, 223], 2934: [0, 186, 170, 249], 2935: [176], 2936: [213, 168, 62, 186, 267, 126, 216], 2937: [66], 2938: [160], 2939: [256, 258, 36, 198, 236, 140, 15, 240, 54, 214, 248, 58], 2940: [199], 2941: [218], 2942: [209], 2943: [243], 2944: [68, 37, 260, 110, 46, 143, 17, 18, 179, 210, 240, 244, 154, 219], 2945: [210], 2946: [239], 2947: [56], 2948: [1, 257, 259, 260, 261, 6, 13, 272, 17, 20, 277, 24, 29, 39, 41, 42, 46, 52, 55, 61, 64, 66, 70, 86, 89, 90, 95, 98, 99, 103, 109, 110, 111, 112, 114, 118, 120, 121, 128, 129, 130, 142, 144, 146, 149, 151, 152, 156, 158, 159, 162, 163, 165, 171, 177, 185, 192, 195, 196, 204, 206, 207, 210, 214, 215, 219, 226, 229, 233, 236, 237, 247, 250, 251, 252, 255], 2949: [153], 2950: [125], 2951: [111], 2952: [272], 2953: [151], 2954: [195], 2955: [68], 2956: [162, 250, 148, 21, 22, 260, 154, 75], 2957: [0, 51, 182, 119], 2958: [2, 44], 2959: [96], 2960: [7], 2961: [27], 2962: [169], 2963: [149, 110, 199], 2964: [48, 119, 252, 55], 2965: [135, 70, 55], 2966: [67, 133, 6, 70, 73, 76, 147, 276, 89, 219, 223, 98, 234, 171, 44, 236, 110, 240, 177, 52, 116, 182, 255], 2967: [98, 107, 63], 2968: [10], 2969: [8, 17, 82], 2970: [112, 231], 2971: [177], 2972: [12], 2973: [209, 130, 276, 102, 22, 8, 249, 171], 2974: [33, 63], 2975: [160, 196, 133, 165, 44, 79, 115, 84, 180, 182, 121, 255], 2976: [208, 234, 136, 202, 91, 205, 110], 2977: [214], 2978: [239], 2979: [163, 89, 28, 141], 2980: [128, 226, 197, 74, 79, 19, 116, 91, 127], 2981: [0, 210, 245, 150, 277, 124, 109], 2982: [0, 96, 261, 6, 71, 265, 109, 206, 82, 115, 179, 117, 276, 189, 24, 61], 2983: [53], 2984: [188], 2985: [192, 67, 133, 71, 8, 72, 137, 75, 76, 203, 79, 143, 144, 83, 275, 89, 218, 247, 93, 29, 157, 227, 100, 41, 179, 180, 244, 54, 119, 252, 190, 126], 2986: [258], 2987: [8, 247], 2988: [176, 78, 6], 2989: [114, 270], 2990: [36], 2991: [49], 2992: [13], 2993: [248], 2994: [118], 2995: [77], 2996: [45, 31], 2997: [156], 2998: [64, 260, 85, 45, 46], 2999: [111], 3000: [15], 3001: [122, 199], 3002: [116], 3003: [14], 3004: [223], 3005: [125], 3006: [83], 3007: [65, 3, 134, 58, 124, 190], 3008: [17, 3], 3009: [64, 133, 263, 235, 254], 3010: [235], 3011: [159, 224, 185, 259, 250, 44, 110, 174, 251, 19, 85, 89, 26, 187, 57], 3012: [99, 91], 3013: [99, 41, 91], 3014: [73], 3015: [187], 3016: [250, 84, 14, 151], 3017: [106], 3018: [100], 3019: [99, 100, 69, 165, 185, 41, 233, 205, 177, 89, 91], 3020: [28], 3021: [205, 191], 3022: [22], 3023: [233], 3024: [240, 68], 3025: [205], 3026: [145], 3027: [61], 3028: [17, 148], 3029: [99, 91], 3030: [42, 139, 238], 3031: [38], 3032: [233], 3033: [236], 3034: [8, 224, 212, 164], 3035: [257], 3036: [137], 3037: [220, 108, 93, 70], 3038: [211, 230, 170, 108, 12], 3039: [258, 132, 260, 8, 137, 10, 269, 270, 15, 146, 274, 275, 277, 23, 151, 152, 32, 161, 162, 37, 38, 165, 171, 175, 52, 55, 58, 187, 65, 67, 195, 197, 72, 73, 209, 210, 85, 218, 96, 226, 99, 100, 102, 106, 110, 238, 239, 242, 117, 119, 249, 250, 252, 125], 3040: [126], 3041: [238], 3042: [17, 36, 140], 3043: [244, 151], 3044: [216, 232, 258, 180], 3045: [0, 1, 2, 3, 4, 5, 6, 7, 8, 10, 11, 12, 13, 14, 15, 16, 17, 18, 19, 20, 21, 22, 23, 24, 25, 26, 27, 28, 29, 30, 31, 32, 33, 34, 35, 36, 37, 38, 39, 41, 42, 43, 44, 45, 46, 47, 48, 50, 51, 52, 53, 54, 55, 57, 58, 59, 60, 61, 62, 63, 64, 65, 66, 67, 68, 69, 70, 71, 72, 73, 74, 75, 76, 77, 78, 79, 81, 82, 83, 84, 85, 86, 87, 89, 90, 91, 92, 93, 94, 95, 96, 97, 98, 99, 100, 101, 102, 103, 106, 107, 108, 109, 110, 111, 112, 114, 116, 117, 118, 119, 120, 121, 122, 124, 125, 126, 127, 128, 129, 132, 133, 134, 135, 136, 137, 139, 140, 141, 142, 143, 144, 145, 146, 147, 148, 149, 150, 151, 152, 153, 154, 156, 157, 158, 160, 161, 162, 163, 164, 165, 169, 170, 171, 172, 173, 174, 175, 176, 177, 179, 180, 182, 183, 185, 186, 187, 188, 189, 190, 191, 192, 195, 196, 197, 198, 199, 200, 202, 203, 204, 205, 206, 207, 208, 209, 210, 211, 213, 214, 215, 216, 217, 218, 219, 220, 221, 222, 223, 224, 227, 228, 229, 230, 231, 232, 233, 234, 235, 236, 237, 238, 239, 240, 241, 242, 243, 244, 245, 246, 247, 248, 249, 250, 251, 252, 254, 255, 256, 257, 258, 259, 260, 261, 262, 263, 264, 265, 266, 267, 268, 269, 270, 271, 272, 273, 274, 275, 276, 277], 3046: [103], 3047: [200, 122], 3048: [51, 46], 3049: [217], 3050: [255], 3051: [136, 216], 3052: [68, 260, 76, 141, 15, 81, 273, 19, 276, 151, 218, 219, 156, 92, 220, 247, 96, 58, 103, 49, 241, 54, 118, 122, 251, 252], 3053: [277], 3054: [242], 3055: [103, 137, 172, 16, 176, 272, 220, 21, 277, 156, 63], 3056: [17, 87], 3057: [128, 130, 68, 133, 264, 209, 277, 93, 37, 229, 169, 116, 181, 246, 122, 59, 125], 3058: [201, 93], 3059: [93], 3060: [257, 195, 68, 69, 6, 7, 134, 137, 265, 76, 146, 213, 220, 102, 231, 42, 170, 235, 46, 110, 48, 53, 117, 118, 125], 3061: [45], 3062: [208, 36], 3063: [174], 3064: [58, 228, 261, 171, 144, 220, 55, 245, 23, 277, 94, 90, 219, 124, 126], 3065: [162, 85, 6], 3066: [151], 3067: [244], 3068: [211], 3069: [55], 3070: [86], 3071: [61], 3072: [122, 267, 126, 191], 3073: [136, 2, 30], 3074: [25, 271], 3075: [20], 3076: [34, 164, 89, 58, 31], 3077: [98], 3078: [5, 213, 122, 27, 93], 3079: [145], 3080: [19], 3081: [92], 3082: [118], 3083: [244], 3084: [258], 3085: [180], 3086: [26], 3087: [264, 93], 3088: [128, 109, 27, 221, 235], 3089: [165], 3090: [45], 3091: [86], 3092: [10, 275, 38, 218, 239], 3093: [256, 162, 164, 265, 170, 235, 144, 242, 51, 213, 118, 89, 127], 3094: [28], 3095: [109, 7], 3096: [48], 3097: [132, 37, 198, 270, 175, 244, 21, 63], 3098: [106, 258], 3099: [124, 173], 3100: [235], 3101: [265], 3102: [252], 3103: [240, 256, 18, 151, 136, 238, 255], 3104: [153, 203, 188], 3105: [257, 195, 4, 75, 76, 203, 271, 273, 18, 83, 150, 87, 89, 25, 94, 160, 36, 100, 101, 231, 233, 171, 176, 183, 186, 125, 191], 3106: [203], 3107: [243, 276], 3108: [208, 34], 3109: [197], 3110: [3], 3111: [160], 3112: [68], 3113: [226, 185, 227, 101, 6, 230, 258, 259, 170, 76, 173, 15, 51, 89], 3114: [236], 3115: [119], 3116: [87, 23], 3117: [64], 3118: [256, 1, 258, 196, 71, 7, 232, 202, 107, 12, 187, 203, 205, 49, 120, 27], 3119: [126], 3120: [266], 3121: [199], 3122: [51], 3123: [15], 3124: [6, 134, 263, 140, 141, 271, 17, 146, 20, 148, 25, 157, 32, 161, 41, 172, 46, 174, 48, 49, 177, 182, 183, 190, 196, 70, 77, 206, 207, 81, 209, 210, 214, 89, 92, 227, 100, 229, 106, 240, 115, 252, 118, 122, 251, 124], 3125: [187, 35, 157], 3126: [28, 165], 3127: [177], 3128: [219, 158], 3129: [95], 3130: [183], 3131: [229], 3132: [1, 130, 3, 4, 5, 257, 10, 16, 273, 147, 148, 152, 26, 29, 30, 35, 171, 46, 50, 55, 59, 62, 196, 71, 210, 83, 98, 231, 234, 107, 110, 250, 251], 3133: [103], 3134: [64, 66, 135, 76, 140, 143, 272, 17, 18, 210, 152, 159, 223, 36, 100, 170, 44, 109, 236, 48, 178, 251], 3135: [121, 225, 248, 25, 74, 14, 31], 3136: [273, 181, 126], 3137: [95], 3138: [227, 268, 101, 70], 3139: [85, 158], 3140: [153, 162, 79], 3141: [251], 3142: [200], 3143: [184], 3144: [145, 116, 218, 15], 3145: [117, 189], 3146: [32], 3147: [2, 133, 277, 200, 221, 158], 3148: [146, 116, 28, 189, 95], 3149: [84], 3150: [38], 3151: [65, 130, 149, 102], 3152: [16, 260, 24, 89, 60], 3153: [0], 3154: [77], 3155: [144, 58, 38], 3156: [227], 3157: [229], 3158: [170, 29], 3159: [217], 3160: [162], 3161: [38], 3162: [55], 3163: [199], 3164: [62], 3165: [3], 3166: [262], 3167: [32, 99, 37, 70, 74, 238, 174, 147, 275], 3168: [15], 3169: [137], 3170: [128, 133], 3171: [36, 196, 12, 240, 55, 216, 185, 60, 127], 3172: [266, 60], 3173: [38, 134, 136, 198, 250, 242, 179, 53, 54, 119, 186, 28], 3174: [51, 261, 30, 15], 3175: [97], 3176: [100], 3177: [93, 206], 3178: [89], 3179: [277], 3180: [99, 91], 3181: [266, 60], 3182: [243], 3183: [118], 3184: [25], 3185: [149], 3186: [141], 3187: [114], 3188: [160, 68, 7, 268, 240, 277, 90, 124, 221, 94], 3189: [240], 3190: [144], 3191: [90, 183], 3192: [116, 86], 3193: [16], 3194: [230], 3195: [46], 3196: [20], 3197: [42], 3198: [155, 148], 3199: [100, 71, 169, 74, 108, 271, 48, 244, 149, 150, 121, 251, 222, 95], 3200: [252], 3201: [161], 3202: [273, 211], 3203: [7], 3204: [249, 125, 182], 3205: [42, 110], 3206: [200, 147, 204, 173], 3207: [64, 3, 199, 174, 47], 3208: [84], 3209: [89, 34], 3210: [137], 3211: [1, 5, 59, 252, 110], 3212: [134], 3213: [124, 268], 3214: [38], 3215: [136, 45, 78], 3216: [252], 3217: [52], 3218: [39], 3219: [65, 164, 10, 109, 78, 143, 206, 243, 84, 190, 223], 3220: [220], 3221: [2, 68, 102, 111, 23, 92, 125, 190, 31], 3222: [249], 3223: [1], 3224: [28], 3225: [41], 3226: [120], 3227: [113], 3228: [16], 3229: [270], 3230: [107, 175], 3231: [267], 3232: [120], 3233: [137], 3234: [232], 3235: [66], 3236: [229], 3237: [234, 173, 79], 3238: [62], 3239: [13], 3240: [26], 3241: [267], 3242: [33, 153], 3243: [114], 3244: [137, 222, 198], 3245: [144, 247], 3246: [208], 3247: [114], 3248: [8, 1, 218, 39], 3249: [270], 3250: [70], 3251: [89], 3252: [21], 3253: [195, 260, 165, 86, 271], 3254: [114], 3255: [248, 235], 3256: [235], 3257: [64], 3258: [41, 91], 3259: [51, 228], 3260: [33], 3261: [197, 6, 245, 126, 156, 141, 94], 3262: [126, 124, 277, 38], 3263: [144, 264, 140, 61, 238, 255], 3264: [141], 3265: [210, 19, 247, 171, 219], 3266: [171], 3267: [92], 3268: [146], 3269: [183], 3270: [30], 3271: [243, 220, 231], 3272: [205], 3273: [128], 3274: [25], 3275: [121], 3276: [203], 3277: [264, 93], 3278: [1, 154], 3279: [97, 50, 3, 189], 3280: [187], 3281: [48], 3282: [121], 3283: [272], 3284: [62], 3285: [0, 266, 267, 15, 213, 24, 216, 27, 223, 32, 229, 173, 112, 177, 247, 57, 124], 3286: [70], 3287: [226, 199, 265, 222, 127], 3288: [96, 108, 244, 198, 152, 203, 124, 127], 3289: [170, 273, 58], 3290: [146], 3291: [116], 3292: [112, 179, 21, 86, 154, 187, 235], 3293: [128, 264, 260, 198, 183, 246, 154, 45], 3294: [149], 3295: [58], 3296: [258, 4, 70, 203, 142, 15, 150, 119, 95, 96, 233, 43, 236, 47, 48, 247, 59], 3297: [22, 191], 3298: [65, 40, 105, 9, 41, 76, 265, 113, 91, 222], 3299: [130, 233, 74, 139, 145, 18, 84, 276, 86, 55, 182, 153, 154, 251, 188, 254], 3300: [107], 3301: [40, 222, 22], 3302: [266], 3303: [119], 3304: [64], 3305: [272, 234, 222], 3306: [192], 3307: [124], 3308: [265, 266, 174, 149, 218, 219, 60, 125], 3309: [182], 3310: [137], 3311: [214, 230, 262, 220, 46], 3312: [220], 3313: [214, 230, 246, 262, 220, 46], 3314: [220], 3315: [229, 40, 138, 110, 210, 157, 119, 88, 155, 29, 62], 3316: [157, 62], 3317: [152], 3318: [1, 257, 3, 255, 7, 264, 11, 14, 16, 17, 20, 149, 150, 51, 180, 185, 186, 187, 63, 196, 197, 70, 71, 72, 199, 74, 200, 207, 208, 211, 85, 214, 215, 90, 218, 220, 93, 94, 222, 96, 97, 223, 224, 102, 231, 233, 106, 108, 237, 111, 112, 114, 117, 245, 127], 3319: [222, 191], 3320: [264, 93], 3321: [57], 3322: [19], 3323: [209, 14], 3324: [244, 44, 228, 119], 3325: [211], 3326: [171], 3327: [233], 3328: [3, 260, 133, 134, 263, 136, 265, 266, 14, 149, 22, 25, 154, 30, 31, 158, 161, 41, 169, 170, 171, 172, 46, 173, 49, 50, 51, 182, 64, 65, 67, 69, 197, 73, 203, 77, 205, 206, 81, 210, 212, 214, 87, 92, 221, 222, 223, 224, 102, 233, 106, 238, 239, 242, 252, 246, 247, 248, 250, 124, 125, 126], 3329: [177, 55], 3330: [139], 3331: [192, 1, 65, 3, 264, 19, 153, 27, 95, 160, 227, 41, 110, 115, 244, 53, 182, 254], 3332: [250], 3333: [208], 3334: [179, 269], 3335: [42], 3336: [243], 3337: [43], 3338: [134], 3339: [93], 3340: [110], 3341: [106], 3342: [128, 133, 263, 264, 145, 275, 148, 151, 29, 161, 164, 37, 44, 173, 50, 182, 55, 184, 185, 187, 189, 64, 68, 69, 200, 81, 210, 84, 90, 218, 219, 221, 223, 96, 97, 100, 229, 237, 239, 241, 114, 242, 118, 122], 3343: [29], 3344: [224, 113], 3345: [89, 111], 3346: [161], 3347: [19], 3348: [42], 3349: [44, 85], 3350: [106], 3351: [250], 3352: [272, 27, 164], 3353: [74], 3354: [183], 3355: [74], 3356: [71, 200, 202, 141, 270, 79, 150, 152, 219, 221, 98, 231, 232, 107, 175, 244, 62, 63], 3357: [69], 3358: [274, 67, 182], 3359: [64, 133, 263, 235, 237, 80, 115, 253, 254], 3360: [64], 3361: [66, 188], 3362: [64, 12, 144, 17, 81, 215, 220, 159, 34, 227, 228, 230, 169, 170, 45, 46, 177, 114, 188, 255], 3363: [46], 3364: [90], 3365: [141], 3366: [149], 3367: [29, 207], 3368: [196, 213, 246, 277, 238, 63], 3369: [275], 3370: [213], 3371: [1, 179, 69], 3372: [27], 3373: [90, 163, 164, 244], 3374: [161, 162, 195, 8, 75, 205, 238, 275, 118, 150, 121, 218, 158], 3375: [134], 3376: [62], 3377: [217], 3378: [124], 3379: [211, 69, 189], 3380: [0, 74, 112, 157], 3381: [79, 31], 3382: [231], 3383: [235], 3384: [53], 3385: [13], 3386: [13], 3387: [124, 268, 126], 3388: [197], 3389: [128, 163, 255, 39, 105, 75, 18, 216, 89, 90, 124, 158, 159], 3390: [75], 3391: [179, 244, 157], 3392: [0, 258, 7, 8, 9, 264, 11, 269, 14, 16, 273, 34, 35, 38, 40, 43, 48, 49, 50, 52, 57, 58, 59, 66, 71, 74, 80, 84, 85, 89, 93, 94, 97, 99, 100, 106, 110, 112, 124, 126, 129, 136, 149, 150, 156, 158, 162, 165, 167, 168, 169, 180, 184, 185, 191, 200, 202, 204, 205, 207, 208, 209, 210, 214, 216, 219, 222, 227, 231, 234, 235, 236, 238, 239, 241, 242, 245, 255], 3393: [186], 3394: [202], 3395: [74], 3396: [224, 217, 242, 221], 3397: [273, 266, 211, 102], 3398: [240], 3399: [37], 3400: [211, 199, 57, 266, 174], 3401: [231], 3402: [96, 1, 260, 73, 110, 19, 152, 27, 93], 3403: [15], 3404: [260], 3405: [134], 3406: [165, 134], 3407: [261], 3408: [192, 42], 3409: [68], 3410: [0, 64, 3, 37, 263, 171, 15, 244, 58, 254], 3411: [1, 260, 197, 265, 77, 173, 271, 145, 18, 19, 179, 182, 247, 154, 92, 94], 3412: [260], 3413: [195, 94], 3414: [134], 3415: [170], 3416: [188], 3417: [264, 93], 3418: [25], 3419: [197], 3420: [163], 3421: [20], 3422: [119], 3423: [32], 3424: [3], 3425: [50], 3426: [149], 3427: [190], 3428: [82], 3429: [190], 3430: [82], 3431: [218, 259, 174], 3432: [152], 3433: [10], 3434: [169], 3435: [187, 157], 3436: [187, 157], 3437: [270], 3438: [66], 3439: [259], 3440: [160, 38, 72, 170, 139, 92, 61], 3441: [174], 3442: [271, 21, 62, 63], 3443: [144], 3444: [28], 3445: [66], 3446: [49], 3447: [240], 3448: [129, 233, 103, 72, 25, 42, 156, 206], 3449: [192, 49], 3450: [189], 3451: [117], 3452: [235], 3453: [231], 3454: [229, 241, 173], 3455: [241], 3456: [1, 66, 200, 169, 82, 243, 116, 53, 55, 218], 3457: [82, 214, 106, 139, 44], 3458: [32], 3459: [236], 3460: [145, 6, 119], 3461: [275], 3462: [240], 3463: [145, 3, 84, 243, 43, 189], 3464: [266], 3465: [61, 223], 3466: [238], 3467: [208, 164], 3468: [90], 3469: [242, 175], 3470: [264, 10, 35, 143], 3471: [180, 29, 206, 71], 3472: [29], 3473: [64], 3474: [235, 133, 254, 263], 3475: [140], 3476: [164], 3477: [219], 3478: [221], 3479: [250, 101, 90, 111, 239], 3480: [41, 124], 3481: [187], 3482: [134], 3483: [48, 146, 38], 3484: [16, 71], 3485: [35, 11, 147], 3486: [62], 3487: [265, 195, 44, 183], 3488: [176, 183], 3489: [41], 3490: [217, 51, 246], 3491: [219], 3492: [243], 3493: [125, 23, 25, 266, 205], 3494: [250], 3495: [25, 139, 217, 230], 3496: [218], 3497: [11], 3498: [272, 244, 53, 54, 185, 206, 78], 3499: [52], 3500: [208, 87], 3501: [2, 46], 3502: [75], 3503: [206], 3504: [141, 15], 3505: [129, 161, 99, 162, 102, 169, 106, 47, 271, 242, 182, 189, 61], 3506: [27, 124, 102, 39], 3507: [92, 6], 3508: [162, 101, 86, 165, 75, 62], 3509: [54], 3510: [49], 3511: [144, 266], 3512: [207], 3513: [231], 3514: [86], 3515: [17, 3, 36, 140], 3516: [218], 3517: [43], 3518: [188, 116], 3519: [102], 3520: [14], 3521: [25], 3522: [64, 3, 195, 71, 199, 74, 11, 140, 204, 14, 269, 147, 213, 150, 154, 218, 162, 227, 100, 231, 233, 106, 43, 235, 238, 243, 185, 251], 3523: [51], 3524: [257, 20, 148, 75, 93, 14], 3525: [70, 255], 3526: [71], 3527: [256], 3528: [145], 3529: [222], 3530: [256, 1, 260, 7, 8, 12, 268, 14, 15, 16, 271, 19, 275, 276, 22, 277, 26, 29, 36, 38, 47, 48, 50, 51, 54, 55, 60, 61, 63, 64, 67, 70, 73, 76, 79, 84, 85, 89, 91, 93, 94, 95, 97, 98, 99, 100, 102, 109, 110, 111, 116, 117, 119, 120, 124, 125, 126, 128, 130, 133, 134, 135, 137, 139, 141, 142, 144, 145, 146, 147, 150, 151, 154, 158, 160, 165, 170, 173, 175, 177, 179, 182, 183, 184, 185, 195, 197, 213, 215, 216, 220, 226, 231, 236, 239, 240, 241, 243, 247, 248, 251, 252, 255], 3531: [116], 3532: [73], 3533: [5], 3534: [27], 3535: [227], 3536: [227], 3537: [168], 3538: [34], 3539: [240, 221, 102], 3540: [264], 3541: [95], 3542: [167], 3543: [189], 3544: [144], 3545: [82, 259, 39, 237, 124, 189], 3546: [240, 68, 197, 23, 58, 235, 124], 3547: [143], 3548: [258, 198, 71, 231, 202, 270, 145, 21, 22, 126], 3549: [66, 100, 107, 47, 271, 50, 19, 242, 189], 3550: [96, 228, 213, 11, 94, 159], 3551: [259, 129, 2, 75], 3552: [100], 3553: [200, 68], 3554: [48, 113], 3555: [171], 3556: [187], 3557: [256, 261, 7, 8, 11, 142, 15, 276, 150, 33, 161, 163, 37, 45, 51, 182, 56, 60, 74, 203, 77, 205, 215, 89, 221, 96, 97, 224, 108, 109, 111, 241, 118, 248, 127], 3558: [45], 3559: [192, 17, 52, 53, 276, 73, 171, 223], 3560: [83], 3561: [5, 134, 199, 10, 268, 77, 50, 124, 94], 3562: [232], 3563: [163, 35, 179, 219, 28, 13], 3564: [161, 55, 24, 121, 255], 3565: [255], 3566: [255], 3567: [29], 3568: [270], 3569: [122], 3570: [208, 44, 103, 87], 3571: [32, 81, 70], 3572: [5], 3573: [50], 3574: [259, 70, 73, 41, 137, 50, 146, 21, 214, 119, 151, 153, 28, 157, 30], 3575: [22], 3576: [46], 3577: [81, 214, 41, 44, 61, 78], 3578: [34], 3579: [274], 3580: [44, 87], 3581: [250], 3582: [152], 3583: [222], 3584: [116], 3585: [2, 171, 277, 54], 3586: [30], 3587: [72, 210, 250], 3588: [266], 3589: [162], 3590: [1, 82, 20, 271, 277, 55, 151, 255], 3591: [105], 3592: [10], 3593: [69, 231, 72, 202, 107, 75, 141, 11, 108, 13, 208, 270, 147, 213], 3594: [91], 3595: [1], 3596: [64], 3597: [186, 28, 31], 3598: [199], 3599: [54], 3600: [46], 3601: [275], 3602: [230], 3603: [214], 3604: [154], 3605: [250, 261], 3606: [185, 91, 267, 45, 270], 3607: [34], 3608: [195], 3609: [70], 3610: [213], 3611: [171], 3612: [267], 3613: [51, 116, 148, 154, 106, 75], 3614: [252], 3615: [121], 3616: [1], 3617: [232], 3618: [196, 213, 118], 3619: [39], 3620: [1, 142, 271], 3621: [240, 41, 95], 3622: [161, 97, 259, 165, 264, 75, 210, 22, 182], 3623: [96], 3624: [78], 3625: [94], 3626: [259], 3627: [266], 3628: [236], 3629: [98], 3630: [48, 218], 3631: [169], 3632: [217], 3633: [97], 3634: [83, 163, 133, 207], 3635: [100], 3636: [187], 3637: [207, 23], 3638: [61], 3639: [272, 5], 3640: [193, 2, 194, 68, 204, 205, 210, 274, 84, 213, 23, 33, 166, 231, 104, 170, 240, 249, 63], 3641: [120, 250, 271], 3642: [98, 242, 165, 59, 28, 61], 3643: [160, 129, 195, 198, 231, 169, 265, 140, 204, 176, 145, 19, 215, 152, 61], 3644: [266, 134], 3645: [160, 154, 227, 140], 3646: [170], 3647: [49], 3648: [210, 93, 117, 189, 56, 75, 109, 126], 3649: [144, 185], 3650: [179], 3651: [189], 3652: [192, 257, 3, 259, 133, 198, 76, 81, 18, 214, 154, 90, 218, 163, 165, 229, 42, 109, 47, 180, 251, 252], 3653: [222], 3654: [192, 227, 171, 108, 271, 216, 250, 251, 29], 3655: [257, 3, 17, 145, 274, 152, 158, 32, 36, 164, 174, 47, 183, 60, 190, 65, 67, 68, 197, 70, 82, 210, 87, 92, 223, 224, 225, 100, 233, 235, 109, 245, 251, 252, 125], 3656: [64], 3657: [23], 3658: [37], 3659: [128, 2, 68, 132, 6, 137, 203, 15, 208, 271, 147, 150, 214, 217, 31, 161, 225, 36, 228, 229, 45, 46, 111, 57], 3660: [197, 214], 3661: [77], 3662: [100], 3663: [81, 99, 195, 95], 3664: [172], 3665: [257, 66, 67, 260, 69, 261, 74, 210, 22, 25, 90, 158, 30, 95, 98, 41, 109, 237, 112, 52, 56, 185], 3666: [116, 158], 3667: [244], 3668: [34, 133, 246, 247, 44, 46], 3669: [87], 3670: [73, 70, 79], 3671: [264], 3672: [50], 3673: [128, 67, 209, 18, 146, 84, 274, 24, 164, 102, 169, 42, 171, 172, 236, 48, 112, 114, 241, 53, 55, 248, 121, 122, 127], 3674: [122], 3675: [171], 3676: [165], 3677: [220], 3678: [17, 147, 179, 101, 126, 79], 3679: [157], 3680: [82, 229], 3681: [3, 197, 6, 200, 110, 251, 270, 213, 23, 152, 187, 62, 63], 3682: [163, 100, 215], 3683: [224, 161, 12, 221, 78, 111], 3684: [50], 3685: [161, 196, 269, 22], 3686: [69], 3687: [183], 3688: [223], 3689: [60, 149, 38], 3690: [86], 3691: [124, 262], 3692: [87], 3693: [137, 171], 3694: [244], 3695: [273, 202, 259, 214], 3696: [0, 129, 257, 5, 70, 262, 72, 73, 75, 139, 142, 17, 82, 83, 21, 277, 162, 35, 36, 163, 165, 43, 171, 236, 50, 179, 53, 245, 189], 3697: [248, 73, 163], 3698: [268], 3699: [241], 3700: [208, 156], 3701: [213, 59, 61], 3702: [3, 227], 3703: [95], 3704: [110, 54], 3705: [144], 3706: [144], 3707: [144], 3708: [161, 111], 3709: [199], 3710: [86], 3711: [230, 199], 3712: [46], 3713: [19, 3, 120, 125], 3714: [171], 3715: [0, 170], 3716: [77], 3717: [199], 3718: [3, 182], 3719: [77], 3720: [216, 142], 3721: [142, 14], 3722: [0, 275, 180, 70, 58], 3723: [187, 229, 119], 3724: [229, 187, 157, 119], 3725: [229], 3726: [179, 22, 14, 73, 78], 3727: [250, 151], 3728: [19, 142], 3729: [179], 3730: [261, 248, 233, 74, 143], 3731: [248], 3732: [113], 3733: [207], 3734: [3, 53, 141], 3735: [164], 3736: [222], 3737: [114, 268, 124, 126], 3738: [0], 3739: [244], 3740: [248], 3741: [133], 3742: [50], 3743: [65, 248, 10, 172], 3744: [223], 3745: [179, 132, 116, 150, 75], 3746: [202, 116, 150, 63], 3747: [108], 3748: [92, 173, 174], 3749: [68], 3750: [133, 198, 261, 267, 207, 146, 84, 148, 22, 86, 87, 89, 216, 218, 159, 160, 226, 163, 230, 44, 46, 110, 48, 50, 51, 119, 186, 59, 125], 3751: [90], 3752: [32, 65, 222, 94, 31], 3753: [233, 43, 239], 3754: [195, 68, 196, 199, 73, 10, 265, 268, 269, 144, 211, 154, 222, 35, 164, 165, 234, 173, 110, 179, 188, 61, 127], 3755: [128, 172], 3756: [160, 210, 164, 102, 7, 10, 13], 3757: [164], 3758: [250, 230], 3759: [46], 3760: [1, 200, 75, 203, 204, 270, 147, 148, 21, 89, 157, 95, 229, 231, 106, 107, 244, 119, 187, 62, 255], 3761: [71, 231, 202, 107, 75, 175, 176, 244, 21, 150, 181, 63], 3762: [175], 3763: [106], 3764: [207], 3765: [41], 3766: [20, 277], 3767: [257, 107, 6], 3768: [259], 3769: [250, 86], 3770: [2], 3771: [90, 191], 3772: [89, 33], 3773: [208], 3774: [149, 215, 107, 174, 191], 3775: [168], 3776: [113, 90, 161, 77], 3777: [34], 3778: [88], 3779: [259, 189], 3780: [68, 250, 266, 206, 241, 50, 210, 54, 151, 58, 60], 3781: [10, 267, 111], 3782: [184], 3783: [170, 179, 230], 3784: [244], 3785: [85], 3786: [197, 70], 3787: [171, 70], 3788: [16], 3789: [65, 261, 247], 3790: [259, 68, 37, 196, 73, 29, 148, 213, 276, 189, 248, 59, 93], 3791: [272], 3792: [171], 3793: [217, 180], 3794: [276, 197, 8, 202, 108], 3795: [147, 4, 133, 54, 247, 75, 92, 189], 3796: [58, 6, 231, 250, 267, 173, 142, 179, 215, 248, 186, 252], 3797: [65], 3798: [236, 143], 3799: [261], 3800: [72], 3801: [160, 33, 2, 162, 36, 202, 203, 108, 50, 85, 121, 28, 221, 62, 127], 3802: [203], 3803: [83, 23], 3804: [0, 1, 256, 133, 261, 136, 12, 141, 142, 15, 276, 25, 153, 31, 33, 37, 38, 46, 50, 178, 53, 185, 186, 189, 65, 196, 69, 82, 214, 217, 218, 91, 221, 94, 99, 228, 249, 231, 233, 237, 239, 112, 241, 242, 121, 125, 127], 3805: [111, 102, 55], 3806: [170], 3807: [270, 62, 175], 3808: [209, 109], 3809: [129, 3, 111, 63], 3810: [251], 3811: [210], 3812: [28], 3813: [121], 3814: [117], 3815: [275, 223], 3816: [89, 110], 3817: [22], 3818: [30], 3819: [64, 234, 139], 3820: [103], 3821: [262], 3822: [107, 175], 3823: [271], 3824: [51, 5], 3825: [96], 3826: [65], 3827: [129, 196, 197, 262, 202, 83, 147, 150, 30, 160, 107, 108, 47, 181, 119, 187, 188, 191], 3828: [263], 3829: [222, 47], 3830: [129, 3, 10, 17, 274, 19, 83, 87, 158, 33, 36, 41, 43, 173, 183, 120, 251, 125], 3831: [213], 3832: [240, 83, 103, 234, 79], 3833: [129, 180, 21, 70], 3834: [82, 227, 132], 3835: [257], 3836: [151], 3837: [111], 3838: [139], 3839: [226, 200, 73, 267, 174, 14, 222, 211, 23, 24, 185, 91, 125, 126], 3840: [176, 18, 35, 100, 196, 150], 3841: [96, 89, 275], 3842: [97], 3843: [121, 99, 84, 86], 3844: [68], 3845: [258, 79], 3846: [145, 249], 3847: [13], 3848: [42], 3849: [273, 211], 3850: [268, 214], 3851: [209, 228, 122, 27, 92], 3852: [90, 27, 228], 3853: [42, 11, 187], 3854: [227], 3855: [0], 3856: [81, 145, 92, 175], 3857: [49, 82, 251], 3858: [44, 85], 3859: [149, 78], 3860: [188], 3861: [176], 3862: [6], 3863: [162, 227, 37, 165, 264, 43, 108, 141, 22, 86, 63, 222, 159], 3864: [165], 3865: [276], 3866: [1], 3867: [64, 276, 23], 3868: [0, 241, 229, 71, 187, 93], 3869: [43, 266, 35], 3870: [137, 39], 3871: [116], 3872: [176, 13, 162, 258, 21, 70, 152, 29], 3873: [17, 187], 3874: [205], 3875: [176], 3876: [117], 3877: [261], 3878: [23], 3879: [33, 2, 129, 204, 62, 270], 3880: [1, 54], 3881: [226, 198], 3882: [114, 251, 102], 3883: [91], 3884: [83], 3885: [61], 3886: [128, 3, 4, 68, 139, 145, 19, 20, 248, 251, 93, 222], 3887: [228, 102], 3888: [252, 239], 3889: [240], 3890: [23], 3891: [73], 3892: [161], 3893: [276, 87], 3894: [99, 189], 3895: [19, 24, 3], 3896: [261], 3897: [0], 3898: [169, 259], 3899: [260, 8, 77, 277, 214, 215, 90, 219, 91, 158, 30, 164, 235, 174, 124, 56, 60, 125, 126], 3900: [133, 127], 3901: [103], 3902: [29], 3903: [257, 67, 198, 200, 204, 15, 83, 147, 22, 222, 94, 33, 163, 45, 242, 60, 126, 63], 3904: [241, 3, 30, 170, 204, 142, 143], 3905: [112], 3906: [29], 3907: [33, 58, 116, 233], 3908: [192], 3909: [224], 3910: [93], 3911: [169], 3912: [33, 52, 53, 136, 153], 3913: [101], 3914: [51, 116, 227, 134, 124], 3915: [139], 3916: [170, 139], 3917: [121], 3918: [235], 3919: [10, 141], 3920: [182], 3921: [90], 3922: [162, 258, 276, 216], 3923: [112, 74], 3924: [4], 3925: [29], 3926: [227, 7], 3927: [170], 3928: [18], 3929: [248, 236, 165, 173], 3930: [240, 256, 211, 230, 43, 236, 109], 3931: [43], 3932: [172], 3933: [96, 98, 137, 266, 76, 78, 16, 276, 86], 3934: [161, 61], 3935: [145, 197, 182, 120, 156, 205, 270, 200], 3936: [160, 67, 43, 203, 142, 21, 85, 62, 126], 3937: [84], 3938: [128, 258, 195, 132, 196, 6, 199, 15, 271, 151, 152, 29, 222, 225, 227, 164, 228, 233, 234, 118, 183, 127], 3939: [143], 3940: [96, 211], 3941: [152, 175, 62, 160], 3942: [240], 3943: [75], 3944: [178], 3945: [112, 26, 199, 71, 122], 3946: [225], 3947: [0, 258, 132, 197, 38, 8, 78, 15, 113, 22, 254], 3948: [220, 117, 101, 230, 136, 170, 140], 3949: [184, 89], 3950: [67, 74, 15, 208, 211, 276, 22, 150, 27, 33, 97, 100, 44, 241, 51, 118, 182, 187, 190], 3951: [25, 18, 53, 106], 3952: [111], 3953: [17], 3954: [74], 3955: [16, 248, 227, 276, 152, 139, 271], 3956: [160, 185, 102, 198, 268, 277, 55, 57, 154, 61, 30, 159], 3957: [90], 3958: [160, 154, 198], 3959: [38, 191], 3960: [76], 3961: [256, 260, 233, 218, 268], 3962: [65, 210, 54, 86], 3963: [140], 3964: [10, 172], 3965: [121, 18, 92], 3966: [230], 3967: [247], 3968: [35, 236, 14, 239, 112, 81, 213, 55, 122, 247], 3969: [251, 213], 3970: [272, 10, 164], 3971: [147], 3972: [179, 252], 3973: [197], 3974: [215], 3975: [250], 3976: [149], 3977: [233, 53, 78], 3978: [5, 165, 7, 264, 79, 15, 21, 213, 250], 3979: [248], 3980: [141], 3981: [208, 90, 156], 3982: [35, 165, 262, 139, 46], 3983: [266], 3984: [6], 3985: [78], 3986: [276, 214, 248, 251, 12, 111], 3987: [192], 3988: [24, 55], 3989: [65], 3990: [148], 3991: [273], 3992: [95], 3993: [256, 4, 70, 267, 147, 86, 215, 24, 152, 26, 218, 223, 224, 161, 98, 163, 108, 172, 175, 113, 248, 191], 3994: [50], 3995: [89], 3996: [144, 258, 227, 261, 183, 232, 30], 3997: [163, 116, 195, 7, 264, 201, 139, 239], 3998: [0, 192, 167, 171, 16, 17, 183, 187, 223], 3999: [135], 4000: [257, 6, 73, 75, 139, 15, 207, 271, 82, 211, 273, 21, 86, 151, 215, 25, 27, 28, 221, 33, 163, 103, 170, 235, 240, 61, 243, 189, 59, 125, 254], 4001: [1, 186, 215, 95], 4002: [0, 223, 3, 163, 92, 47], 4003: [241], 4004: [199], 4005: [30, 238], 4006: [161, 133, 7, 139, 144, 145, 51, 21, 248, 29], 4007: [182], 4008: [10, 12, 221, 54], 4009: [6], 4010: [109], 4011: [91], 4012: [27], 4013: [64, 115, 140], 4014: [130, 102, 231, 266, 107, 60, 143, 114, 211, 242, 28, 158], 4015: [0, 89, 18, 197, 245, 25, 139, 12], 4016: [17], 4017: [68, 45], 4018: [116], 4019: [261, 239], 4020: [183, 70, 95], 4021: [241, 137, 276, 73, 107, 139, 189, 62], 4022: [96, 163, 15], 4023: [223, 183], 4024: [159, 275, 262, 119], 4025: [18], 4026: [225, 178, 245, 216, 12, 223], 4027: [229], 4028: [50, 71, 15], 4029: [36], 4030: [114, 223, 92, 154], 4031: [8, 72], 4032: [32], 4033: [32], 4034: [239], 4035: [71], 4036: [160], 4037: [67], 4038: [108, 189], 4039: [192], 4040: [210, 5, 133, 157], 4041: [107, 62], 4042: [48, 107, 188, 252], 4043: [231], 4044: [204], 4045: [20, 158], 4046: [161, 179], 4047: [273], 4048: [81, 156, 165], 4049: [113, 223], 4050: [8, 221, 186, 108, 216, 47], 4051: [196, 213, 154, 10, 266, 28, 44, 79], 4052: [36, 103], 4053: [96], 4054: [112, 152, 154, 188, 45, 62], 4055: [32, 252, 165], 4056: [186], 4057: [224], 4058: [99], 4059: [126, 21, 70], 4060: [33, 153], 4061: [57, 31], 4062: [277], 4063: [64, 237, 133, 263], 4064: [31], 4065: [7], 4066: [275, 77, 143], 4067: [136, 152], 4068: [270], 4069: [81, 260, 101, 206], 4070: [192, 27, 156, 133], 4071: [25], 4072: [128, 129, 34, 257, 263, 43, 238, 208, 117, 21, 251, 220], 4073: [61], 4074: [168, 105, 197, 254], 4075: [77], 4076: [216, 276], 4077: [76], 4078: [160, 97, 21], 4079: [223], 4080: [136, 265], 4081: [174], 4082: [97, 177], 4083: [198], 4084: [161, 59, 51, 159], 4085: [61], 4086: [114], 4087: [256, 257, 195, 4, 5, 259, 260, 265, 144, 211, 152, 153, 247, 223, 161, 98, 103, 40, 41, 46, 117, 245, 55, 188, 62, 63], 4088: [154], 4089: [222], 4090: [243, 5, 133, 119, 8, 187, 45], 4091: [18, 109, 154], 4092: [203, 190, 22, 251], 4093: [239, 7, 260, 277, 23, 90, 191], 4094: [260, 61], 4095: [171, 29], 4096: [163], 4097: [221], 4098: [55], 4099: [33, 229], 4100: [66], 4101: [40, 222], 4102: [225, 79], 4103: [3], 4104: [204], 4105: [169], 4106: [240, 244, 182, 23, 91], 4107: [158], 4108: [74], 4109: [170, 163, 63], 4110: [13], 4111: [266, 174, 14], 4112: [57, 163, 79, 63], 4113: [240, 191], 4114: [219, 196], 4115: [143, 83, 5, 153, 12, 190, 46, 111], 4116: [142], 4117: [152, 255], 4118: [0, 36, 233, 235, 14, 17, 245, 22, 121, 219], 4119: [224, 17, 185, 230], 4120: [10, 60], 4121: [275], 4122: [164, 7], 4123: [236], 4124: [224, 257, 259, 103, 266, 45, 208, 56, 59, 61], 4125: [221, 10, 109], 4126: [96, 128, 67, 100, 38, 102, 267, 12, 204, 46, 83, 186, 252, 222, 127], 4127: [195, 38, 143], 4128: [211, 159], 4129: [81, 163, 244, 271, 187, 174, 79], 4130: [205], 4131: [224, 258, 58, 38, 170, 60, 16, 90, 220, 222], 4132: [40, 222], 4133: [32, 257, 4, 165, 261, 232, 268, 28, 49, 51, 147, 85, 252, 219, 124, 95], 4134: [175], 4135: [0, 2, 197, 102, 213, 45], 4136: [130, 277, 54, 119, 157, 265, 29, 62], 4137: [195], 4138: [232, 257], 4139: [199], 4140: [232, 180, 46], 4141: [2], 4142: [106], 4143: [202, 163, 183], 4144: [30, 183], 4145: [249, 186, 171], 4146: [128, 1, 4, 5, 262, 263, 11, 269, 14, 272, 21, 22, 34, 36, 174, 48, 185, 186, 190, 191, 64, 66, 67, 69, 199, 72, 200, 207, 81, 96, 225, 233, 235, 112, 113, 251, 124], 4147: [217, 27], 4148: [32, 67, 36, 190], 4149: [48, 49, 65, 130, 36, 118, 268, 31], 4150: [168], 4151: [164, 135, 247, 43, 18, 50, 82, 86, 87, 248, 217, 215, 91, 124, 61, 127], 4152: [259, 4, 23, 248, 10, 159], 4153: [218, 130, 221], 4154: [78], 4155: [189], 4156: [134], 4157: [34], 4158: [268], 4159: [187], 4160: [144, 37, 141, 165, 186, 261, 90, 125], 4161: [109], 4162: [122, 149, 158], 4163: [17, 109], 4164: [120, 83, 238, 208], 4165: [184, 210, 242], 4166: [0, 1, 2, 3, 4, 5, 6, 7, 8, 10, 11, 12, 13, 14, 15, 16, 17, 18, 19, 20, 21, 22, 23, 24, 25, 26, 27, 28, 29, 30, 31, 32, 33, 34, 35, 36, 37, 38, 39, 41, 42, 43, 44, 45, 46, 47, 48, 50, 51, 52, 53, 54, 55, 57, 58, 59, 60, 61, 62, 63, 64, 65, 66, 67, 68, 69, 70, 71, 72, 73, 74, 75, 76, 77, 78, 79, 81, 82, 83, 84, 85, 86, 87, 89, 90, 91, 92, 93, 94, 95, 96, 97, 98, 99, 100, 101, 102, 103, 106, 107, 108, 109, 110, 111, 112, 114, 116, 117, 118, 119, 120, 121, 122, 124, 125, 126, 127, 128, 129, 132, 133, 134, 135, 136, 137, 139, 140, 141, 142, 143, 144, 145, 146, 147, 148, 149, 150, 151, 152, 153, 154, 156, 157, 158, 160, 161, 162, 163, 164, 165, 169, 170, 171, 172, 173, 174, 175, 176, 177, 179, 180, 182, 183, 185, 186, 187, 188, 189, 190, 191, 192, 195, 196, 197, 198, 199, 200, 202, 203, 204, 205, 206, 207, 208, 210, 211, 213, 214, 215, 216, 217, 218, 219, 220, 221, 222, 223, 224, 227, 228, 229, 230, 231, 232, 233, 234, 235, 236, 237, 238, 239, 240, 241, 242, 243, 244, 245, 246, 247, 248, 249, 250, 251, 252, 254, 255, 256, 257, 258, 259, 260, 261, 262, 263, 264, 265, 266, 267, 268, 269, 270, 271, 272, 273, 274, 275, 276, 277], 4167: [67], 4168: [248], 4169: [3], 4170: [214], 4171: [161], 4172: [10], 4173: [153, 18, 267, 61], 4174: [192, 162], 4175: [129, 97, 258, 73, 202, 235, 114, 146, 147, 214, 220, 190], 4176: [125], 4177: [150], 4178: [129], 4179: [53], 4180: [224, 113, 223], 4181: [185], 4182: [69], 4183: [81, 179, 135, 265, 215, 269, 127], 4184: [258, 246], 4185: [192], 4186: [17, 3, 36, 140], 4187: [149], 4188: [96, 33, 160, 258, 196, 232, 76, 109, 45, 205, 48, 114, 116, 250, 31], 4189: [256], 4190: [213], 4191: [130, 214, 142, 159], 4192: [234], 4193: [117], 4194: [272], 4195: [110], 4196: [106], 4197: [119], 4198: [132, 37, 38, 196, 229, 231, 202, 11, 232, 264, 151, 93, 63], 4199: [251], 4200: [75, 37], 4201: [112, 67], 4202: [225, 171], 4203: [192], 4204: [122], 4205: [162, 269, 117], 4206: [154], 4207: [192, 223], 4208: [245], 4209: [0, 192, 42, 170, 268, 239, 184, 124, 223], 4210: [160], 4211: [48, 129, 148, 29], 4212: [0], 4213: [248], 4214: [80], 4215: [20], 4216: [20], 4217: [16, 146, 37, 136, 153, 77], 4218: [258, 110, 71], 4219: [169], 4220: [43], 4221: [29, 62, 189], 4222: [128, 192], 4223: [219, 158], 4224: [118], 4225: [161, 22], 4226: [107], 4227: [120, 51, 3, 44], 4228: [243], 4229: [227, 108, 29], 4230: [122, 30], 4231: [252], 4232: [30], 4233: [150, 63], 4234: [176], 4235: [152], 4236: [214], 4237: [224, 35], 4238: [41, 66, 86, 154], 4239: [187], 4240: [100], 4241: [96, 145, 122, 127], 4242: [122], 4243: [192], 4244: [271], 4245: [242, 100], 4246: [187], 4247: [242], 4248: [160, 50, 164, 205, 255], 4249: [128], 4250: [112, 141, 7], 4251: [92], 4252: [16], 4253: [173], 4254: [196, 85, 230, 199, 136, 233, 262], 4255: [33, 161, 168, 75, 116, 117, 246, 151, 216, 121, 250, 61], 4256: [61], 4257: [54, 15], 4258: [121, 14], 4259: [184], 4260: [61], 4261: [270], 4262: [177, 66, 167, 74, 29], 4263: [191], 4264: [49], 4265: [106], 4266: [46], 4267: [266, 60], 4268: [217], 4269: [154], 4270: [229], 4271: [112], 4272: [241], 4273: [59], 4274: [148], 4275: [256, 145, 127], 4276: [265, 228], 4277: [0], 4278: [224, 127, 47], 4279: [2], 4280: [54], 4281: [20], 4282: [16], 4283: [35], 4284: [30], 4285: [245], 4286: [1], 4287: [183], 4288: [136], 4289: [192, 274, 54, 136, 217, 218, 142, 200], 4290: [116], 4291: [52, 53], 4292: [116], 4293: [248, 267], 4294: [218], 4295: [116, 276], 4296: [129], 4297: [129], 4298: [62], 4299: [137], 4300: [10, 42], 4301: [8, 72, 54], 4302: [96, 41, 230], 4303: [235], 4304: [136, 229], 4305: [259, 265, 91], 4306: [275], 4307: [20], 4308: [139, 238], 4309: [139, 238], 4310: [124, 145, 60, 102], 4311: [54, 161, 164, 22], 4312: [240, 92, 228, 254], 4313: [192, 180], 4314: [274, 67], 4315: [62], 4316: [211], 4317: [206], 4318: [20], 4319: [182], 4320: [136, 202, 125], 4321: [106, 28, 165, 134], 4322: [62], 4323: [177], 4324: [219], 4325: [265, 271, 274, 148, 27, 30, 158, 161, 162, 47, 182, 55, 56, 185, 65, 67, 68, 195, 197, 207, 208, 215, 216, 89, 91, 222, 227, 102, 103, 108, 112, 113, 240, 242, 125], 4326: [189], 4327: [229], 4328: [202, 35], 4329: [99, 91], 4330: [151], 4331: [151], 4332: [196], 4333: [238], 4334: [195, 230], 4335: [233], 4336: [147, 196, 110], 4337: [182], 4338: [196], 4339: [224, 2, 50, 86, 189], 4340: [144], 4341: [136, 137, 11, 139, 267, 270, 147, 20, 21, 275, 152, 26, 32, 34, 37, 38, 167, 42, 43, 44, 174, 175, 61, 62, 64, 192, 66, 70, 71, 198, 73, 200, 202, 204, 82, 83, 85, 87, 217, 95, 97, 99, 227, 103, 231, 106, 107, 234, 109, 110, 111, 238, 241, 243, 119, 120, 121], 4342: [139], 4343: [217, 74, 206], 4344: [185], 4345: [171], 4346: [144, 171], 4347: [144], 4348: [3], 4349: [17, 3, 36, 84, 23, 268], 4350: [178], 4351: [196], 4352: [100], 4353: [116], 4354: [190], 4355: [92], 4356: [12, 20], 4357: [200], 4358: [183], 4359: [65], 4360: [59], 4361: [224, 90, 269], 4362: [237, 46], 4363: [183], 4364: [130, 3, 67, 6, 8, 265, 267, 21, 87, 184, 163, 235, 45, 173, 49, 51, 115, 117, 182, 120, 189, 190], 4365: [1, 2, 67, 131, 264, 269, 208, 274, 147, 212, 150, 93, 30, 98, 108, 175, 49, 245, 184, 253], 4366: [73], 4367: [199], 4368: [183], 4369: [35, 67, 100, 131, 71, 234, 11, 203, 267, 174, 208, 21, 85, 184, 124], 4370: [152], 4371: [64, 257, 2, 259, 133, 134, 199, 136, 265, 10, 142, 25, 30, 39, 46, 53, 247, 61, 126], 4372: [250], 4373: [273, 58, 170, 171], 4374: [268, 137, 170, 108, 93, 191], 4375: [129, 261, 262, 263, 72, 139, 204, 77, 268, 269, 16, 271, 18, 82, 276, 95, 223, 162, 107, 241, 114, 179, 116, 254, 121, 251, 190, 255], 4376: [64, 91], 4377: [64, 256, 2, 132, 70, 262, 145, 273, 213, 214, 89, 96, 228, 172, 111, 178, 179, 182], 4378: [268], 4379: [129, 262, 72, 139, 141, 82, 84, 215, 25, 218, 157, 30, 94, 224, 98, 174, 115, 180, 53, 243, 245, 121, 191], 4380: [197, 199, 75, 12, 29, 211, 252, 276, 54, 151, 214, 121, 215, 28, 93], 4381: [99], 4382: [34], 4383: [221, 85], 4384: [85], 4385: [202, 150], 4386: [274, 67], 4387: [147, 204], 4388: [83], 4389: [200, 74], 4390: [24], 4391: [202, 50], 4392: [165], 4393: [35, 19, 63], 4394: [17, 190], 4395: [151], 4396: [236], 4397: [19], 4398: [107], 4399: [17, 274, 3, 133, 151], 4400: [74], 4401: [83], 4402: [189], 4403: [162], 4404: [235], 4405: [134], 4406: [41], 4407: [260, 118], 4408: [51], 4409: [208, 11, 167], 4410: [147], 4411: [207], 4412: [3, 14, 195], 4413: [61], 4414: [208, 161], 4415: [202, 44, 62, 231], 4416: [208], 4417: [103, 87], 4418: [102], 4419: [144], 4420: [250, 267], 4421: [176], 4422: [58], 4423: [161, 125, 245, 255], 4424: [68], 4425: [119], 4426: [20], 4427: [185], 4428: [46], 4429: [128, 235, 205, 49, 114, 273, 117, 55, 60, 127], 4430: [105, 234], 4431: [43], 4432: [94], 4433: [18], 4434: [132, 133, 266, 16, 208, 151, 28, 31, 35, 229, 169, 43, 108, 109, 171, 47, 173, 113, 243], 4435: [264, 241, 93], 4436: [20, 197, 153, 234, 28], 4437: [20, 244, 184, 57, 46, 79], 4438: [256, 265, 186, 235, 94, 127], 4439: [161, 83, 236, 142], 4440: [273], 4441: [106, 11, 179, 119], 4442: [0, 1, 5, 6, 265, 10, 11, 12, 267, 149, 22, 23, 152, 26, 28, 32, 161, 50, 180, 183, 60, 190, 63, 67, 196, 74, 204, 205, 78, 206, 211, 214, 98, 226, 229, 102, 111, 239, 243, 117, 122, 251, 252, 127], 4443: [35, 239], 4444: [24], 4445: [107, 231], 4446: [51, 196, 195, 231], 4447: [98, 20, 261, 200, 202, 90], 4448: [194, 111], 4449: [67, 74, 203, 76, 206, 271, 210, 84, 164, 102, 103, 171, 45, 112, 246, 249, 125], 4450: [227], 4451: [4, 230], 4452: [121, 169], 4453: [32, 17, 209, 182, 214, 265, 215, 268], 4454: [10], 4455: [92, 61], 4456: [98, 266], 4457: [4], 4458: [272, 5], 4459: [35, 4, 163, 70, 199, 75, 244, 60, 29], 4460: [195], 4461: [189], 4462: [117], 4463: [11, 62, 231], 4464: [277, 67, 77, 30], 4465: [16, 45], 4466: [30], 4467: [172], 4468: [17, 21, 119], 4469: [260, 135], 4470: [188, 52], 4471: [81, 243, 212, 136, 235, 31], 4472: [163], 4473: [163], 4474: [111], 4475: [20], 4476: [170, 127], 4477: [2], 4478: [229], 4479: [132], 4480: [33, 153], 4481: [257], 4482: [3], 4483: [266, 60], 4484: [126], 4485: [179, 269, 102], 4486: [200], 4487: [252], 4488: [5, 54], 4489: [112], 4490: [112], 4491: [24], 4492: [240], 4493: [2, 98, 68, 245, 277, 30], 4494: [97, 187, 157], 4495: [241], 4496: [226, 268, 198, 265, 59, 124, 126], 4497: [251, 213], 4498: [51], 4499: [208, 26, 203, 116], 4500: [234, 79], 4501: [42], 4502: [112], 4503: [272, 1, 65, 164, 5, 54, 168, 12], 4504: [27], 4505: [50, 5], 4506: [219, 93], 4507: [244, 252], 4508: [101], 4509: [168], 4510: [1, 102, 199, 169, 10, 27, 172], 4511: [49, 267], 4512: [206], 4513: [267], 4514: [107, 175], 4515: [172], 4516: [234, 79], 4517: [265, 215, 127], 4518: [105], 4519: [137], 4520: [246], 4521: [276, 85, 5, 136, 159], 4522: [21, 70], 4523: [164, 111], 4524: [275], 4525: [227], 4526: [70, 233, 75, 142, 22, 119, 154, 59, 189], 4527: [61], 4528: [117], 4529: [17, 188, 36, 37, 149, 105, 156], 4530: [185], 4531: [34, 14], 4532: [220, 246], 4533: [29], 4534: [99, 41, 91], 4535: [32, 73, 238], 4536: [3, 260], 4537: [20], 4538: [264, 93, 37, 78], 4539: [243], 4540: [213, 183], 4541: [32], 4542: [107, 164, 37, 270], 4543: [259, 228, 7, 232, 127, 147, 244, 152, 124, 63], 4544: [137], 4545: [137, 149], 4546: [63], 4547: [121], 4548: [105], 4549: [89, 18, 252], 4550: [224], 4551: [234, 79], 4552: [165], 4553: [136, 163, 53], 4554: [213], 4555: [14], 4556: [100, 134], 4557: [147, 204], 4558: [114, 19, 260, 24, 265, 255], 4559: [101], 4560: [1, 65, 129, 36, 103, 7, 169, 240, 20, 117, 218, 220, 94], 4561: [184], 4562: [165], 4563: [198], 4564: [7], 4565: [256, 67, 164, 102, 11, 173, 48, 211, 180, 86, 152, 26], 4566: [188, 28, 269], 4567: [260], 4568: [2, 101, 188, 74], 4569: [66, 134], 4570: [258], 4571: [221], 4572: [203, 109], 4573: [179], 4574: [82, 92], 4575: [35], 4576: [188, 60, 197], 4577: [29], 4578: [239], 4579: [261], 4580: [1, 54, 233, 108, 206], 4581: [51, 92, 230], 4582: [116], 4583: [17, 149], 4584: [67, 158], 4585: [257, 260, 261, 263, 10, 203, 76, 14, 18, 89, 90, 158, 165, 44, 109, 238, 175, 241, 180, 119, 251, 60], 4586: [32], 4587: [205], 4588: [129], 4589: [106, 29, 143], 4590: [32, 195, 229, 173, 144, 81, 213, 277, 55, 247], 4591: [10, 12, 90, 222], 4592: [67], 4593: [191], 4594: [228], 4595: [260, 5, 70, 7, 265, 75, 174, 111, 82, 114, 148, 179, 277, 24], 4596: [21], 4597: [168, 73, 106], 4598: [192, 257, 69, 197, 233, 43, 13, 238, 272, 20, 244, 214, 215, 186], 4599: [96, 145, 264, 42, 77, 238], 4600: [211], 4601: [128], 4602: [185], 4603: [224, 166], 4604: [68, 204, 13, 141, 147, 148, 21, 150, 151, 160, 33, 100, 231, 107, 176, 189, 62, 63], 4605: [162], 4606: [258, 14], 4607: [236], 4608: [38, 262, 121, 172, 239], 4609: [275], 4610: [200], 4611: [8], 4612: [260, 277], 4613: [51, 260], 4614: [260, 222], 4615: [43, 133], 4616: [101], 4617: [69], 4618: [11], 4619: [234], 4620: [227, 4, 236, 15, 239, 275, 148, 117, 21, 119, 189, 127], 4621: [116], 4622: [162], 4623: [161, 197, 232, 233, 142, 177, 146, 117, 118, 22, 156, 189, 63], 4624: [37], 4625: [121], 4626: [96], 4627: [1], 4628: [22], 4629: [50, 244], 4630: [92], 4631: [68, 245], 4632: [72, 233, 86], 4633: [55], 4634: [210], 4635: [83], 4636: [2], 4637: [107], 4638: [89], 4639: [247], 4640: [48], 4641: [115], 4642: [243], 4643: [53], 4644: [172], 4645: [96, 73, 58, 197], 4646: [134, 199, 136, 268, 240, 276, 23, 217, 247], 4647: [199], 4648: [35], 4649: [219], 4650: [35], 4651: [133], 4652: [210, 262], 4653: [118], 4654: [96, 114, 245, 191], 4655: [160, 145, 236, 260], 4656: [274], 4657: [196], 4658: [125, 179, 21], 4659: [65], 4660: [269], 4661: [64, 162, 86, 89, 108], 4662: [7], 4663: [49, 257, 212, 149, 142, 223], 4664: [209, 179, 116, 69, 133, 55, 238], 4665: [121, 197, 73, 27, 125, 41], 4666: [100, 41, 75, 267, 110, 146, 115, 215, 216, 89, 186, 189], 4667: [68, 122, 58, 76, 94], 4668: [64, 209, 213, 6, 268, 154, 187, 124], 4669: [22], 4670: [129, 88, 138, 155, 110], 4671: [23], 4672: [160], 4673: [256, 130, 259, 133, 6, 8, 10, 266, 267, 14, 270, 144, 145, 275, 277, 151, 28, 33, 161, 42, 170, 44, 171, 172, 173, 48, 177, 55, 65, 195, 76, 82, 215, 217, 101, 234, 239, 246, 247, 250, 252, 125], 4674: [62], 4675: [195], 4676: [233], 4677: [217, 45], 4678: [110], 4679: [32, 18, 245, 92, 237, 223], 4680: [0, 163, 268, 91, 60, 126], 4681: [8], 4682: [257, 4], 4683: [257], 4684: [229, 246], 4685: [22], 4686: [226, 167, 40, 46, 49, 113, 178, 209, 85, 244, 56, 184], 4687: [268], 4688: [48], 4689: [267], 4690: [191], 4691: [256], 4692: [112], 4693: [272, 210, 102, 54, 184, 10, 171, 252], 4694: [1, 210, 171], 4695: [264], 4696: [264], 4697: [112, 152, 29], 4698: [27], 4699: [240, 170], 4700: [184, 97, 185, 77], 4701: [4, 38, 136, 168, 107, 78, 142, 20, 55, 123], 4702: [273], 4703: [165, 87], 4704: [23], 4705: [108], 4706: [176], 4707: [58], 4708: [274], 4709: [160, 63], 4710: [67, 165], 4711: [165], 4712: [35], 4713: [1, 257, 255, 249, 169, 42, 112, 17, 179, 180, 22, 254, 217, 94, 95], 4714: [16, 252, 269], 4715: [189], 4716: [130], 4717: [210], 4718: [210, 86], 4719: [22], 4720: [68], 4721: [67, 229, 261, 174], 4722: [64, 128, 4, 133, 267, 207, 208, 153, 95, 33, 228, 232, 235, 45, 47, 177, 51, 254], 4723: [45, 31], 4724: [128, 145, 196], 4725: [85], 4726: [64, 86], 4727: [218, 207], 4728: [82], 4729: [90], 4730: [275, 75, 147, 37], 4731: [244], 4732: [106, 38], 4733: [53, 183], 4734: [23, 148, 134, 86, 197, 90, 191], 4735: [265], 4736: [229, 86, 231, 202, 270, 46, 175], 4737: [64], 4738: [17], 4739: [233, 3], 4740: [240, 50, 68, 245], 4741: [240], 4742: [37], 4743: [202], 4744: [168, 171], 4745: [183, 2, 251, 63], 4746: [1], 4747: [85, 103], 4748: [106], 4749: [116, 228, 86, 265, 79], 4750: [7], 4751: [16, 182], 4752: [208, 5], 4753: [165], 4754: [197, 71, 7, 11, 204, 267, 268, 145, 150, 25, 94, 96, 226, 228, 111, 120, 57, 250, 252, 63], 4755: [248], 4756: [1], 4757: [38], 4758: [160, 183, 202, 75, 171], 4759: [244], 4760: [120], 4761: [183], 4762: [137, 142, 209, 82, 84, 148, 150, 247, 221, 163, 36, 100, 170, 234, 236, 109, 48, 179, 119, 187], 4763: [36, 5, 126], 4764: [207], 4765: [24], 4766: [96, 99, 101, 265, 140, 241, 211, 213, 58, 31], 4767: [124], 4768: [211], 4769: [224, 85], 4770: [96, 134, 144, 70], 4771: [89], 4772: [97, 4, 36, 260, 264, 269, 53, 187, 158], 4773: [204], 4774: [161, 114, 209, 263, 169], 4775: [233], 4776: [3, 140], 4777: [213], 4778: [23], 4779: [96, 258, 101, 106, 267, 274, 19, 83, 51, 93], 4780: [274], 4781: [35, 133, 173], 4782: [256, 1, 130, 196, 260, 135, 8, 137, 267, 76, 144, 213, 27, 158, 32, 226, 227, 100, 229, 103, 167, 235, 174, 48, 52, 245, 54, 61], 4783: [216, 272, 229], 4784: [49, 182], 4785: [249], 4786: [12], 4787: [54], 4788: [96, 144], 4789: [144], 4790: [0, 122], 4791: [144], 4792: [160, 33, 69, 186, 200, 74, 46, 189, 157, 23, 89, 90, 93, 254], 4793: [17, 61, 182], 4794: [259, 136, 137, 266, 269, 78, 206, 207, 81, 209, 212, 213, 276, 24, 218, 91, 220, 93, 158, 247, 34, 99, 229, 41, 42, 43, 45, 48, 119, 186, 251, 189], 4795: [141, 14, 15], 4796: [251], 4797: [84], 4798: [275], 4799: [129], 4800: [45], 4801: [269], 4802: [1, 2, 3, 65, 260, 262, 12, 206, 207, 208, 210, 86, 87, 214, 25, 217, 28, 220, 103, 171, 44, 235, 46, 176, 242, 51, 246, 120, 121], 4803: [148], 4804: [25, 92, 174], 4805: [180, 7], 4806: [211], 4807: [211, 111], 4808: [163, 195, 198, 250, 14, 116, 25, 154, 156], 4809: [147, 20, 150, 186, 43, 270, 142, 95], 4810: [259, 231], 4811: [187], 4812: [244, 247], 4813: [223], 4814: [26], 4815: [220], 4816: [144, 125, 85, 158], 4817: [106], 4818: [3, 106, 10, 60, 141, 222], 4819: [170], 4820: [134, 264, 187, 207, 209, 53, 117, 23, 214, 121, 59, 158, 31], 4821: [2], 4822: [258, 7, 72, 43, 50, 276, 54, 247, 248, 153, 158], 4823: [170], 4824: [257, 258, 213, 150, 216], 4825: [112, 175, 248, 63], 4826: [4, 6, 7, 134, 15, 20, 21, 148, 156, 34, 162, 37, 165, 41, 43, 50, 178, 187, 191, 68, 70, 202, 75, 204, 206, 208, 82, 213, 90, 93, 228, 245, 121, 126], 4827: [207], 4828: [244, 165], 4829: [129, 137, 11, 139, 271, 17, 275, 152, 32, 162, 164, 38, 44, 187, 61, 198, 200, 79, 83, 85, 87, 247, 93, 221, 97, 227, 103, 106, 234, 109, 241, 242, 244, 119, 120, 121, 252], 4830: [99], 4831: [271], 4832: [142, 183], 4833: [64, 3, 163, 5, 195, 259, 110, 239, 241, 178, 85, 158, 127], 4834: [17, 10], 4835: [231], 4836: [251, 213, 22, 111], 4837: [74], 4838: [189], 4839: [165], 4840: [274, 67, 182], 4841: [168, 67, 214], 4842: [101], 4843: [67], 4844: [170], 4845: [121], 4846: [214], 4847: [85], 4848: [62, 14], 4849: [68, 69, 6, 137, 11, 76, 141, 78, 274, 211, 148, 152, 164, 37, 232, 242, 245, 58, 187], 4850: [163], 4851: [3], 4852: [24, 91], 4853: [59], 4854: [97, 247, 216, 108, 174], 4855: [1, 98, 36, 72, 169, 81, 50, 177, 245, 86, 120, 217, 90, 92], 4856: [0, 225, 259, 103, 12, 238, 220, 20, 124], 4857: [121, 110, 116, 62], 4858: [49], 4859: [188], 4860: [227], 4861: [0, 114], 4862: [251, 213], 4863: [217], 4864: [128, 129, 66, 202, 11, 234, 19, 246, 119, 152, 188, 95], 4865: [102, 207], 4866: [121, 154, 262], 4867: [22], 4868: [269], 4869: [192], 4870: [121], 4871: [242], 4872: [105], 4873: [242], 4874: [103], 4875: [37, 191], 4876: [217, 133, 103, 199, 139, 243, 53, 153, 94, 31], 4877: [7], 4878: [256], 4879: [42, 227], 4880: [227, 260, 7, 106, 43, 270, 15, 16, 271, 29, 180, 21, 121, 27, 93, 191], 4881: [67, 86, 136, 60, 269], 4882: [277], 4883: [33, 4], 4884: [28], 4885: [244], 4886: [195, 68, 199, 8, 169, 265, 239, 114, 210, 157], 4887: [223], 4888: [197], 4889: [219, 37], 4890: [241, 179, 5, 198, 39, 152, 141, 239], 4891: [37], 4892: [98, 142, 48, 17, 21, 55, 87, 216, 255], 4893: [208, 44], 4894: [2, 98, 68, 245, 277, 30], 4895: [68, 15, 145, 20, 84, 277, 90, 156, 94, 159, 162, 228, 102, 103, 169, 49, 245, 185], 4896: [169, 209, 260, 239], 4897: [41, 273, 262, 199], 4898: [64, 25, 2, 141], 4899: [27, 60, 255], 4900: [121, 102, 118, 70], 4901: [102], 4902: [246], 4903: [62], 4904: [271], 4905: [243], 4906: [217, 90], 4907: [92], 4908: [116], 4909: [274, 260, 118], 4910: [235, 118, 191], 4911: [54], 4912: [75, 93, 183], 4913: [112], 4914: [221], 4915: [24, 96, 102], 4916: [151], 4917: [151], 4918: [218], 4919: [197], 4920: [118], 4921: [1, 209, 51, 22, 54, 12, 222, 111], 4922: [111], 4923: [22], 4924: [100], 4925: [161, 219, 158], 4926: [50], 4927: [219, 4], 4928: [37], 4929: [159], 4930: [100], 4931: [220], 4932: [26, 199], 4933: [259], 4934: [139, 214], 4935: [124], 4936: [139], 4937: [210, 101], 4938: [84], 4939: [244], 4940: [135], 4941: [120, 183], 4942: [174], 4943: [153, 227], 4944: [124], 4945: [192], 4946: [73], 4947: [140], 4948: [112], 4949: [26, 206], 4950: [144], 4951: [244, 252], 4952: [112], 4953: [206], 4954: [110], 4955: [136, 91], 4956: [93], 4957: [264], 4958: [154, 198], 4959: [216], 4960: [64, 133, 263, 235, 237, 254], 4961: [10], 4962: [2, 3, 258, 260, 6, 266, 267, 12, 141, 142, 15, 16, 271, 272, 20, 149, 276, 153, 156, 160, 164, 44, 172, 48, 49, 179, 183, 59, 189, 196, 69, 70, 198, 73, 78, 81, 214, 216, 217, 218, 222, 97, 231, 233, 106, 236, 109, 117, 251, 255], 4963: [128], 4964: [174], 4965: [203], 4966: [161, 211, 54, 72, 235, 125, 270], 4967: [62], 4968: [120, 152], 4969: [62], 4970: [154, 203, 198], 4971: [93], 4972: [32, 128, 228, 244, 103, 189, 15], 4973: [147, 116, 100, 227, 119, 74, 220], 4974: [42, 146], 4975: [267], 4976: [171], 4977: [148], 4978: [176], 4979: [168], 4980: [162], 4981: [153], 4982: [17], 4983: [49], 4984: [260, 222], 4985: [86], 4986: [191], 4987: [46, 262], 4988: [33], 4989: [96, 97, 130, 208, 241, 86, 151, 185], 4990: [68, 165, 6, 77, 142, 46, 112, 47, 143, 213, 23, 216, 154, 191], 4991: [277], 4992: [228], 4993: [187], 4994: [134], 4995: [177], 4996: [2], 4997: [162], 4998: [16], 4999: [206], 5000: [82], 5001: [226, 163, 227, 69, 213, 106, 31], 5002: [32, 227, 69, 152, 11, 187], 5003: [10], 5004: [22], 5005: [1, 5, 261, 270, 273, 147, 275, 150, 26, 154, 37, 175, 49, 58, 63, 65, 68, 198, 71, 200, 202, 204, 210, 86, 93, 231, 107, 108, 111, 240, 242, 116, 250], 5006: [200], 5007: [1], 5008: [200, 147, 71], 5009: [37], 5010: [204], 5011: [261, 37], 5012: [233], 5013: [217], 5014: [162, 22, 154, 251, 111], 5015: [17, 228, 149, 102, 170, 58, 171, 223], 5016: [171], 5017: [250], 5018: [227, 20, 182, 139, 268, 62], 5019: [195], 5020: [53, 214], 5021: [76], 5022: [242, 156], 5023: [236], 5024: [113], 5025: [32, 197, 136, 186, 26, 75, 158, 207], 5026: [171], 5027: [275], 5028: [74], 5029: [48], 5030: [69, 141], 5031: [161], 5032: [211], 5033: [27, 158], 5034: [64, 195], 5035: [158], 5036: [4], 5037: [257, 70], 5038: [165], 5039: [240], 5040: [272, 164], 5041: [164], 5042: [10], 5043: [197], 5044: [197], 5045: [244], 5046: [70], 5047: [272, 27], 5048: [112, 10, 187, 45], 5049: [179], 5050: [234], 5051: [261], 5052: [106, 234, 238, 254], 5053: [259, 164], 5054: [13], 5055: [161, 85, 133, 245, 277, 124, 46], 5056: [211, 6], 5057: [273, 239, 245, 57, 170, 124, 158, 31], 5058: [128, 162, 227, 36, 196, 78, 241, 117, 151, 152, 29, 222, 255], 5059: [127], 5060: [200], 5061: [12], 5062: [227, 182, 74, 221, 270], 5063: [213], 5064: [266, 23], 5065: [170], 5066: [75, 140], 5067: [165], 5068: [60], 5069: [3, 134], 5070: [146], 5071: [29, 173], 5072: [151], 5073: [84], 5074: [29, 173], 5075: [137, 76, 270, 207, 16, 146, 83, 153, 157, 224, 35, 100, 165, 230, 110, 180, 182, 251, 125, 190], 5076: [264, 254, 216, 156, 174, 95], 5077: [32, 49, 113, 273, 212, 264, 92, 175], 5078: [83, 87, 103, 202, 139, 252, 175], 5079: [100], 5080: [218], 5081: [46], 5082: [1, 260, 72, 266, 75, 18, 213, 22, 216, 218, 91, 156, 29, 247, 103, 41, 106, 107, 110, 174, 53, 183], 5083: [163, 68, 72, 139, 236, 143, 275, 248, 89, 252], 5084: [266], 5085: [32], 5086: [142, 183], 5087: [3], 5088: [256, 67, 261, 205, 273, 213, 217, 91, 28, 222, 97, 101, 170, 116, 180, 181, 245, 62, 124, 126, 127], 5089: [0, 195, 265, 46, 47, 112, 144, 242, 270, 245, 215, 90, 158, 94, 31], 5090: [64, 192, 3, 70, 13, 78, 145, 276, 21, 22, 86, 30, 96, 161, 175, 176, 119, 249, 186, 255], 5091: [176, 188], 5092: [128, 160, 210, 276, 109], 5093: [1], 5094: [238], 5095: [8, 47], 5096: [32, 6, 263, 139, 48, 146, 215, 248, 185, 158], 5097: [162, 50, 47], 5098: [50, 114, 210, 74, 169, 58, 173], 5099: [217], 5100: [97, 73, 111, 146, 83, 19, 276, 22, 216, 154], 5101: [266, 182], 5102: [92], 5103: [111, 47], 5104: [122], 5105: [176, 107, 188], 5106: [50, 21, 230], 5107: [208], 5108: [171], 5109: [106], 5110: [129, 257, 3, 4, 259, 264, 142, 271, 272, 17, 18, 275, 150, 23, 27, 156, 157, 36, 42, 45, 174, 48, 176, 50, 180, 184, 57, 186, 188, 190, 192, 65, 67, 69, 73, 202, 75, 76, 205, 82, 83, 84, 211, 214, 216, 89, 91, 92, 220, 221, 223, 232, 234, 108, 117, 118, 121, 122, 251, 252, 125, 254, 255], 5111: [190], 5112: [274, 36], 5113: [135], 5114: [235, 239], 5115: [3], 5116: [33, 266], 5117: [154], 5118: [108], 5119: [2, 98, 245, 277, 30], 5120: [258, 259, 71, 232, 234, 202, 21, 150, 151, 248, 26], 5121: [184], 5122: [161], 5123: [107, 37], 5124: [174], 5125: [154], 5126: [111], 5127: [130, 181], 5128: [256, 257, 4, 6, 137, 11, 12, 267, 271, 146, 20, 148, 29, 37, 43, 172, 45, 173, 47, 176, 179, 185, 63, 82, 84, 95, 234, 110, 244, 119, 120, 121, 255], 5129: [165], 5130: [62], 5131: [59], 5132: [116], 5133: [217, 70, 231, 121, 74, 29, 174, 159], 5134: [124], 5135: [120], 5136: [218, 195, 76, 77], 5137: [90], 5138: [90], 5139: [89, 266], 5140: [89], 5141: [43, 35], 5142: [110], 5143: [153], 5144: [1, 5], 5145: [267], 5146: [125, 142], 5147: [237], 5148: [257, 4, 38, 231], 5149: [38], 5150: [265, 215], 5151: [248], 5152: [232, 264, 107, 204, 270, 175, 79, 93, 85, 150, 119, 216, 157], 5153: [176], 5154: [237], 5155: [220], 5156: [129], 5157: [177], 5158: [116], 5159: [128, 137], 5160: [112], 5161: [137], 5162: [0, 167], 5163: [270, 150, 231], 5164: [266], 5165: [204], 5166: [105, 196, 13], 5167: [151], 5168: [37, 231, 202, 107, 270, 175, 176, 21, 150, 26], 5169: [50, 5], 5170: [185], 5171: [2, 132, 196, 203, 267, 13, 271, 81, 274, 19, 83, 211, 150, 28, 29, 220, 33, 170, 235, 112, 114, 122], 5172: [76], 5173: [64, 2, 228, 197, 38, 136, 233, 25, 154, 59, 189], 5174: [85], 5175: [90], 5176: [90], 5177: [171], 5178: [154, 198], 5179: [48, 65], 5180: [206, 61, 149], 5181: [236], 5182: [189], 5183: [0, 22, 70, 251, 62], 5184: [31, 125, 70, 15], 5185: [91], 5186: [225, 146, 100, 8, 24, 174], 5187: [170, 58, 172, 84], 5188: [40, 105], 5189: [0, 134, 71, 200, 204, 13, 205, 84, 276, 150, 216, 29, 30, 222, 98, 162, 231, 40, 107, 174, 47, 175, 244, 181, 122, 251], 5190: [225, 162], 5191: [271, 247], 5192: [90, 4], 5193: [183], 5194: [84], 5195: [236, 143], 5196: [32, 99, 44, 87], 5197: [5, 247, 249, 91, 107], 5198: [234], 5199: [143], 5200: [0], 5201: [125], 5202: [58], 5203: [65], 5204: [34, 67, 172, 93, 207], 5205: [124], 5206: [17, 100], 5207: [17, 146, 214, 89, 218, 220, 156, 29, 248, 225, 36, 228, 171, 108, 242, 51, 117, 55, 184, 189], 5208: [158], 5209: [210], 5210: [271], 5211: [90], 5212: [248, 78, 6], 5213: [82, 163, 54], 5214: [64], 5215: [102], 5216: [93], 5217: [46], 5218: [192, 1, 69, 139, 12, 142, 271, 17, 147, 212, 214, 26, 27, 95, 100, 103, 172, 45, 113, 241, 53, 118, 249, 252], 5219: [48, 228], 5220: [169, 151], 5221: [33], 5222: [210], 5223: [33, 145, 196, 164, 217], 5224: [160], 5225: [196], 5226: [192, 224, 68, 70, 8, 42, 173, 239, 242, 22], 5227: [272, 179, 8, 267, 188, 269, 110], 5228: [147], 5229: [107], 5230: [191, 15], 5231: [257, 162, 55, 8, 73, 152], 5232: [275], 5233: [52, 38], 5234: [117], 5235: [256, 211], 5236: [192, 259, 261, 202, 141, 143, 18, 215, 91, 29, 223, 99, 164, 43, 173, 124, 185, 187, 60], 5237: [130, 36, 101, 6, 249, 45, 277, 55, 185, 247, 125, 95], 5238: [186, 162, 274], 5239: [257, 98, 135, 136, 41, 265, 266, 44, 112, 51, 53, 87, 56, 91], 5240: [218], 5241: [229, 198], 5242: [270], 5243: [208, 85, 103], 5244: [33], 5245: [219], 5246: [244], 5247: [107, 49, 75], 5248: [75], 5249: [72], 5250: [110], 5251: [64], 5252: [208], 5253: [101], 5254: [116, 271], 5255: [49], 5256: [168], 5257: [96], 5258: [260, 10, 15, 144, 17, 19, 151, 24, 28, 32, 160, 162, 163, 37, 165, 169, 47, 183, 186, 189, 65, 66, 68, 206, 207, 213, 215, 217, 101, 233, 109, 239, 243, 117, 247, 250], 5259: [110], 5260: [187], 5261: [82], 5262: [174, 111], 5263: [6], 5264: [227, 134], 5265: [270], 5266: [114, 163, 100, 255], 5267: [128, 257, 7, 10, 12, 140, 14, 142, 16, 17, 270, 271, 148, 275, 22, 276, 24, 25, 154, 29, 31, 161, 163, 164, 37, 165, 172, 45, 47, 177, 178, 179, 58, 187, 189, 190, 68, 197, 200, 75, 210, 212, 222, 223, 98, 100, 228, 106, 236, 112, 244, 245, 118, 247, 123, 252, 126], 5268: [269], 5269: [48], 5270: [38], 5271: [221], 5272: [102], 5273: [106], 5274: [19], 5275: [265], 5276: [130, 169, 75, 268, 141, 47, 61, 93, 147, 148, 247, 248, 91, 29, 94, 191], 5277: [54], 5278: [272], 5279: [97, 195, 229, 262, 136, 169, 264, 43, 268, 109, 16, 124], 5280: [80], 5281: [171], 5282: [81, 139], 5283: [235], 5284: [78], 5285: [27, 195, 230], 5286: [50, 182, 72, 73, 27], 5287: [5], 5288: [29, 111], 5289: [10], 5290: [156, 4], 5291: [150, 111], 5292: [5], 5293: [243], 5294: [6], 5295: [128, 59], 5296: [48], 5297: [171, 133, 227], 5298: [64, 2, 98, 199, 41, 266, 144, 117, 246, 125, 30], 5299: [204], 5300: [243], 5301: [132], 5302: [199], 5303: [94], 5304: [198], 5305: [110], 5306: [60], 5307: [252], 5308: [124], 5309: [5], 5310: [195, 68, 169, 14, 239], 5311: [31], 5312: [171], 5313: [34, 153, 70, 230, 203, 236, 237, 209, 83, 185, 186, 220], 5314: [62], 5315: [4], 5316: [171], 5317: [41], 5318: [13], 5319: [87], 5320: [16, 136], 5321: [256, 97], 5322: [96], 5323: [192, 67, 3, 132, 134, 108, 12, 270, 242, 19, 276, 87, 188], 5324: [189], 5325: [64, 34], 5326: [250], 5327: [207, 87], 5328: [208], 5329: [272, 91, 269], 5330: [247], 5331: [162, 165, 197, 73, 74, 233, 221, 54, 22, 118, 151, 61, 94, 31], 5332: [77], 5333: [16], 5334: [96, 211, 7], 5335: [15], 5336: [276], 5337: [210], 5338: [225, 220], 5339: [70, 136, 74, 266, 206, 111, 207, 145, 116, 213, 22, 119, 276, 251], 5340: [96, 4, 164, 268, 277, 58, 140, 126], 5341: [124, 268], 5342: [268], 5343: [43], 5344: [160, 137, 73, 59, 267, 271, 17, 114, 61, 184, 91, 157], 5345: [157], 5346: [46], 5347: [217], 5348: [129, 225, 69, 261, 139, 12, 267, 144, 146, 212, 56, 184], 5349: [268], 5350: [176, 5, 185, 154, 91], 5351: [248], 5352: [169, 86, 262], 5353: [163, 158], 5354: [103], 5355: [257, 180], 5356: [2], 5357: [74], 5358: [211, 261], 5359: [152], 5360: [173], 5361: [259, 227], 5362: [261], 5363: [256, 39, 44, 239, 210, 246, 25, 30, 31], 5364: [33], 5365: [24, 12, 102, 84], 5366: [67], 5367: [33], 5368: [162], 5369: [137], 5370: [220], 5371: [153, 214], 5372: [134], 5373: [252], 5374: [144], 5375: [191], 5376: [116], 5377: [44], 5378: [97, 161], 5379: [62], 5380: [67], 5381: [93], 5382: [95], 5383: [164], 5384: [121, 19, 41, 189, 206], 5385: [64, 17, 248, 92, 61], 5386: [275], 5387: [19, 84, 22], 5388: [274], 5389: [207], 5390: [74], 5391: [141], 5392: [171], 5393: [129, 35, 152, 62, 63], 5394: [101], 5395: [101, 158], 5396: [64, 256, 3, 195, 5, 260, 79, 81, 20, 22, 216, 154, 221, 222, 224, 97, 172, 109, 173, 239, 124, 241, 244, 252, 182, 57, 251, 188, 191], 5397: [223], 5398: [59], 5399: [109], 5400: [122], 5401: [243, 23], 5402: [206], 5403: [47], 5404: [153], 5405: [99, 174], 5406: [145], 5407: [0, 64, 74, 266, 77, 14, 142, 83, 211, 91, 27, 33, 227, 101, 167, 171, 173, 237, 175, 48, 239, 241, 116, 119, 58], 5408: [165, 182], 5409: [57, 111], 5410: [198], 5411: [175], 5412: [229], 5413: [1, 34, 8, 235, 179, 52, 121, 58, 255], 5414: [160], 5415: [35], 5416: [0, 22, 152, 124, 270], 5417: [152, 52, 213, 142], 5418: [136, 135], 5419: [10, 164], 5420: [59, 227], 5421: [98, 214], 5422: [51], 5423: [257, 179, 234, 11, 188], 5424: [230], 5425: [233], 5426: [196], 5427: [210], 5428: [90], 5429: [146, 43, 254], 5430: [208, 85, 103, 249, 186, 94], 5431: [112, 36], 5432: [97, 184, 46, 78, 111], 5433: [10, 170, 204, 176, 209, 146, 84, 250, 220], 5434: [33, 171, 221, 94], 5435: [116, 181], 5436: [160], 5437: [141], 5438: [225], 5439: [233, 114, 6], 5440: [13], 5441: [146, 223, 255, 117, 47, 207], 5442: [122], 5443: [0], 5444: [65, 114, 116, 40, 143], 5445: [145], 5446: [116, 101, 150, 74, 63], 5447: [158], 5448: [21, 5, 230], 5449: [227, 5, 79], 5450: [50], 5451: [208], 5452: [97, 241, 170, 139], 5453: [256, 145, 127], 5454: [256, 2, 196, 231, 202, 107, 205, 175, 79, 116, 180, 150, 152, 26, 191], 5455: [94], 5456: [199], 5457: [88, 138, 155, 95], 5458: [179, 20, 239], 5459: [272], 5460: [221, 65, 109], 5461: [35], 5462: [218], 5463: [248, 161, 67, 228, 260, 262, 263, 46, 239, 112, 118, 55, 214, 218, 28, 189], 5464: [214], 5465: [218], 5466: [12, 20], 5467: [50, 191], 5468: [90, 23], 5469: [82, 236, 76, 143], 5470: [229], 5471: [206], 5472: [227], 5473: [267, 39], 5474: [187], 5475: [220], 5476: [35, 53, 103], 5477: [128, 146, 118, 217, 154, 75, 110, 143], 5478: [184, 43, 3], 5479: [271], 5480: [23], 5481: [240], 5482: [29], 5483: [137, 106, 93, 23], 5484: [87], 5485: [83], 5486: [107, 37, 231], 5487: [80, 123], 5488: [49, 83, 191], 5489: [215, 187, 7], 5490: [2, 19, 37, 118, 137, 91, 204, 158], 5491: [39], 5492: [97], 5493: [120, 83, 229], 5494: [74, 28], 5495: [70], 5496: [195], 5497: [48, 20, 183, 56, 27, 30], 5498: [22], 5499: [75], 5500: [26], 5501: [175], 5502: [135, 81, 87], 5503: [66, 195, 42, 203, 204, 208, 115, 217, 59, 127], 5504: [2, 68, 245, 277, 72, 169, 30], 5505: [98], 5506: [30], 5507: [91], 5508: [206], 5509: [225, 162, 163, 139, 239, 48, 81, 146, 156, 158], 5510: [212, 45, 31], 5511: [227, 26, 263, 74, 237, 16, 48, 245, 89, 186, 28], 5512: [256, 191, 7, 264, 265, 76, 77, 14, 205, 145, 273, 211, 84, 277, 23, 24, 215, 90, 27, 218, 158, 159, 96, 164, 233, 236, 239, 240, 50, 114, 185, 127], 5513: [112], 5514: [24], 5515: [191], 5516: [112], 5517: [51], 5518: [227], 5519: [218, 179, 246], 5520: [81], 5521: [128, 1, 224, 211, 260, 55, 14, 127], 5522: [190], 5523: [185, 242], 5524: [22], 5525: [145], 5526: [174], 5527: [267, 19, 188], 5528: [239], 5529: [233], 5530: [136], 5531: [229], 5532: [26, 71], 5533: [112, 42, 37, 176], 5534: [13], 5535: [199], 5536: [259], 5537: [128, 258, 260, 133, 6, 263, 264, 269, 14, 146, 19, 147, 274, 150, 275, 24, 277, 32, 163, 37, 169, 179, 52, 56, 186, 63, 64, 67, 197, 71, 72, 204, 205, 78, 206, 207, 209, 85, 89, 218, 96, 111, 242, 243, 244, 117, 118, 246, 127], 5538: [227], 5539: [207], 5540: [127], 5541: [162], 5542: [185, 107, 158], 5543: [145, 79], 5544: [239, 165, 231, 94, 90, 126, 111], 5545: [124], 5546: [268], 5547: [180], 5548: [121, 269], 5549: [120], 5550: [209, 87], 5551: [16], 5552: [27, 190], 5553: [246], 5554: [216, 110], 5555: [96, 211, 212, 45, 31], 5556: [150], 5557: [153, 258, 132, 232, 137], 5558: [103], 5559: [224, 61], 5560: [68, 133, 197, 73, 11, 139, 208, 81, 209, 21, 22, 213, 157, 95, 160, 98, 40, 42, 237, 111, 180, 245, 54], 5561: [60], 5562: [206], 5563: [245], 5564: [33], 5565: [210], 5566: [7], 5567: [247], 5568: [151], 5569: [240, 210, 148, 141, 191], 5570: [228], 5571: [1, 260, 12, 244], 5572: [15], 5573: [271], 5574: [121, 238], 5575: [19], 5576: [12, 182], 5577: [192, 146, 220, 117, 101, 153, 75, 140], 5578: [114], 5579: [224, 223], 5580: [224, 65, 196, 15, 223], 5581: [210], 5582: [186, 243, 260], 5583: [73], 5584: [190], 5585: [86], 5586: [162, 42, 171, 204, 48, 52, 24, 90, 157], 5587: [248, 134], 5588: [53, 78], 5589: [24, 46], 5590: [209, 51, 239, 22, 57, 111], 5591: [111], 5592: [227], 5593: [268], 5594: [113], 5595: [32, 93, 22], 5596: [247], 5597: [111], 5598: [226, 62, 79], 5599: [222], 5600: [256, 132, 71, 202, 204, 147, 116, 180, 26, 188], 5601: [256], 5602: [90, 196], 5603: [33], 5604: [94], 5605: [196], 5606: [0], 5607: [115, 35, 147, 43, 204, 173], 5608: [62], 5609: [209, 211], 5610: [189], 5611: [257, 99, 268, 142, 219, 145, 82, 276, 22, 55, 249, 91, 190, 95], 5612: [67, 198, 262, 8, 236, 145, 19, 116, 277, 86, 89, 219, 222], 5613: [233, 91, 67, 127], 5614: [91], 5615: [4], 5616: [264, 265, 268, 145, 146, 149, 277, 216, 25, 26, 223, 35, 107, 108, 46, 240, 50, 245, 60, 191], 5617: [67], 5618: [65, 35, 230, 154, 172, 109, 174, 16, 211, 275, 277, 186, 220], 5619: [189], 5620: [233], 5621: [155, 165, 110], 5622: [48, 225, 117, 118, 247, 235, 189], 5623: [247], 5624: [34, 51, 50, 101, 89, 171, 251], 5625: [233], 5626: [233], 5627: [29], 5628: [167, 248, 135, 267, 28, 271], 5629: [262], 5630: [14], 5631: [210], 5632: [177, 260, 46], 5633: [86], 5634: [128, 230, 236, 205, 142, 14, 143, 18, 82, 244, 248], 5635: [1, 262, 137, 11, 12, 13, 267, 17, 146, 19, 274, 22, 152, 37, 42, 43, 44, 45, 46, 180, 54, 55, 195, 196, 72, 74, 203, 207, 81, 216, 93, 94, 101, 233, 108, 236, 112, 121, 250], 5636: [101], 5637: [171, 197], 5638: [153], 5639: [51], 5640: [0, 1, 258, 259, 5, 6, 261, 267, 268, 15, 271, 273, 21, 23, 24, 31, 34, 36, 43, 46, 55, 58, 63, 65, 68, 70, 71, 77, 82, 91, 98, 100, 101, 108, 124, 132, 135, 136, 140, 144, 146, 148, 149, 151, 154, 156, 162, 163, 165, 170, 172, 182, 184, 189, 191, 196, 207, 209, 213, 215, 216, 217, 220, 225, 229, 230, 232, 235, 237, 239, 241, 242, 244, 247, 248, 254], 5641: [231], 5642: [93], 5643: [179], 5644: [144, 241, 100, 271], 5645: [196, 11, 28], 5646: [84, 69, 157, 151, 260, 218, 61, 238], 5647: [241], 5648: [169, 94], 5649: [142, 63], 5650: [82, 163], 5651: [86], 5652: [128, 33, 102, 230, 168, 186, 218, 75, 231, 47, 241, 146, 214, 154, 219, 92], 5653: [84], 5654: [204, 236, 214], 5655: [90], 5656: [182], 5657: [101], 5658: [241, 82, 85, 73, 76, 143], 5659: [137], 5660: [93], 5661: [0, 1, 2, 3, 4, 5, 6, 7, 8, 10, 11, 12, 13, 14, 15, 16, 17, 18, 19, 20, 21, 22, 23, 24, 25, 26, 27, 28, 29, 30, 31, 32, 33, 34, 35, 36, 37, 38, 39, 41, 42, 43, 44, 45, 46, 47, 48, 50, 51, 52, 53, 54, 55, 57, 58, 59, 60, 61, 62, 63, 64, 65, 66, 67, 68, 69, 70, 71, 72, 73, 74, 75, 76, 77, 78, 79, 81, 82, 83, 84, 85, 86, 87, 89, 90, 91, 92, 93, 94, 95, 96, 97, 98, 99, 100, 101, 102, 103, 106, 107, 108, 109, 110, 111, 112, 114, 116, 117, 118, 119, 120, 121, 122, 124, 125, 126, 127, 128, 129, 132, 133, 134, 135, 136, 137, 139, 140, 141, 142, 143, 144, 145, 146, 147, 148, 149, 150, 151, 152, 153, 154, 156, 157, 158, 160, 161, 162, 163, 164, 165, 169, 170, 171, 172, 173, 174, 175, 176, 177, 179, 180, 182, 183, 185, 186, 187, 188, 189, 190, 191, 192, 195, 196, 197, 198, 199, 200, 201, 202, 203, 204, 205, 206, 207, 208, 210, 211, 213, 214, 215, 216, 217, 218, 219, 220, 221, 222, 223, 224, 227, 228, 229, 230, 231, 232, 233, 234, 235, 236, 237, 238, 239, 240, 241, 242, 243, 244, 245, 246, 247, 248, 249, 250, 251, 252, 254, 255, 256, 257, 258, 259, 260, 261, 262, 263, 264, 265, 266, 267, 268, 269, 270, 271, 272, 273, 274, 275, 276, 277], 5662: [0, 146, 215, 41, 125, 142], 5663: [32], 5664: [212, 156, 45, 31], 5665: [78, 6], 5666: [53], 5667: [156], 5668: [31], 5669: [92], 5670: [56], 5671: [156], 5672: [56], 5673: [142], 5674: [18, 92], 5675: [96, 211], 5676: [176], 5677: [56], 5678: [225, 162], 5679: [95], 5680: [245], 5681: [241], 5682: [40, 222], 5683: [251, 213], 5684: [251, 206], 5685: [203], 5686: [102], 5687: [259], 5688: [211], 5689: [7], 5690: [7], 5691: [177], 5692: [137], 5693: [187], 5694: [111], 5695: [2, 277, 30, 98], 5696: [0, 257, 4, 261, 134, 137, 267, 269, 14, 16, 144, 145, 19, 21, 277, 23, 25, 157, 30, 31, 32, 158, 160, 163, 36, 168, 170, 174, 55, 183, 59, 189, 65, 66, 195, 68, 196, 197, 71, 200, 202, 203, 76, 210, 85, 214, 89, 218, 92, 221, 95, 96, 229, 102, 236, 109, 114, 244, 252, 246, 119, 124, 125], 5697: [120, 82], 5698: [276], 5699: [116], 5700: [116], 5701: [192, 1, 66, 3, 4, 198, 200, 137, 202, 12, 270, 143, 274, 189, 23, 24, 216, 39, 108, 47, 240, 183, 121, 122, 252, 125], 5702: [150], 5703: [96, 211], 5704: [138], 5705: [117, 189], 5706: [244, 252], 5707: [239], 5708: [64, 267, 136], 5709: [82, 110, 84, 14], 5710: [1, 65, 164, 5, 8, 72, 10, 168, 12, 272, 50, 54, 27], 5711: [138], 5712: [164], 5713: [130, 181], 5714: [59], 5715: [246], 5716: [246], 5717: [192], 5718: [8, 72], 5719: [251, 213], 5720: [34], 5721: [115, 133, 263, 89, 235, 237, 254], 5722: [273], 5723: [134], 5724: [6, 263, 13, 15, 148, 22, 150, 156, 29, 32, 33, 161, 41, 42, 172, 47, 48, 50, 55, 185, 188, 63, 68, 197, 198, 199, 74, 77, 81, 90, 218, 92, 93, 219, 223, 96, 224, 228, 101, 102, 236, 239, 241, 117, 122, 251, 252, 126], 5725: [82, 19, 148, 121, 174], 5726: [147, 204], 5727: [32, 267, 162, 24, 250, 107, 139, 203], 5728: [39], 5729: [244], 5730: [268, 110], 5731: [128, 257, 243, 133, 247], 5732: [83], 5733: [83], 5734: [148], 5735: [187], 5736: [28], 5737: [93], 5738: [269], 5739: [244], 5740: [217, 195], 5741: [80, 133, 263, 235, 253, 254], 5742: [42], 5743: [251], 5744: [47], 5745: [203], 5746: [267], 5747: [144], 5748: [51], 5749: [222], 5750: [256, 274, 67, 259, 109, 221], 5751: [96, 211], 5752: [211], 5753: [96, 211], 5754: [240], 5755: [257, 4], 5756: [220, 246, 263], 5757: [78], 5758: [177, 209, 134, 121, 202, 204, 14, 271], 5759: [175], 5760: [175], 5761: [0, 2, 3, 4, 260, 6, 7, 261, 262, 264, 267, 13, 14, 271, 272, 17, 273, 20, 21, 22, 23, 24, 276, 27, 30, 31, 34, 35, 37, 38, 41, 42, 44, 46, 48, 50, 51, 52, 53, 55, 61, 62, 65, 67, 69, 71, 73, 74, 75, 79, 81, 83, 84, 85, 86, 89, 91, 92, 93, 95, 100, 109, 110, 111, 117, 120, 121, 122, 129, 133, 134, 135, 136, 137, 139, 140, 141, 144, 145, 149, 151, 154, 157, 160, 161, 162, 164, 169, 170, 171, 172, 173, 177, 180, 182, 188, 191, 196, 197, 198, 199, 202, 204, 205, 207, 208, 209, 210, 211, 213, 215, 217, 218, 220, 223, 227, 231, 233, 235, 241, 242, 247, 248, 250, 252, 255]}\n"
     ]
    }
   ],
   "source": [
    "corpus = list(df_new['tokenized_desc'])\n",
    "voc = create_vocabulary(corpus)\n",
    "\n",
    "inverted_index(corpus,voc)\n",
    "\n",
    "new_dict = np.load('inverted_index.npy', allow_pickle='TRUE')\n",
    "print(new_dict)"
   ]
  },
  {
   "cell_type": "code",
   "execution_count": 73,
   "metadata": {},
   "outputs": [
    {
     "data": {
      "text/html": [
       "<div>\n",
       "<style scoped>\n",
       "    .dataframe tbody tr th:only-of-type {\n",
       "        vertical-align: middle;\n",
       "    }\n",
       "\n",
       "    .dataframe tbody tr th {\n",
       "        vertical-align: top;\n",
       "    }\n",
       "\n",
       "    .dataframe thead th {\n",
       "        text-align: right;\n",
       "    }\n",
       "</style>\n",
       "<table border=\"1\" class=\"dataframe\">\n",
       "  <thead>\n",
       "    <tr style=\"text-align: right;\">\n",
       "      <th></th>\n",
       "      <th>term_id</th>\n",
       "      <th>term</th>\n",
       "    </tr>\n",
       "  </thead>\n",
       "  <tbody>\n",
       "    <tr>\n",
       "      <td>0</td>\n",
       "      <td>0</td>\n",
       "      <td>''</td>\n",
       "    </tr>\n",
       "    <tr>\n",
       "      <td>1</td>\n",
       "      <td>1</td>\n",
       "      <td>'05</td>\n",
       "    </tr>\n",
       "    <tr>\n",
       "      <td>2</td>\n",
       "      <td>2</td>\n",
       "      <td>'ll</td>\n",
       "    </tr>\n",
       "    <tr>\n",
       "      <td>3</td>\n",
       "      <td>3</td>\n",
       "      <td>'re</td>\n",
       "    </tr>\n",
       "    <tr>\n",
       "      <td>4</td>\n",
       "      <td>4</td>\n",
       "      <td>'s</td>\n",
       "    </tr>\n",
       "    <tr>\n",
       "      <td>...</td>\n",
       "      <td>...</td>\n",
       "      <td>...</td>\n",
       "    </tr>\n",
       "    <tr>\n",
       "      <td>5757</td>\n",
       "      <td>5757</td>\n",
       "      <td>zoldyck.hunt</td>\n",
       "    </tr>\n",
       "    <tr>\n",
       "      <td>5758</td>\n",
       "      <td>5758</td>\n",
       "      <td>â€</td>\n",
       "    </tr>\n",
       "    <tr>\n",
       "      <td>5759</td>\n",
       "      <td>5759</td>\n",
       "      <td>â€œa</td>\n",
       "    </tr>\n",
       "    <tr>\n",
       "      <td>5760</td>\n",
       "      <td>5760</td>\n",
       "      <td>â€�</td>\n",
       "    </tr>\n",
       "    <tr>\n",
       "      <td>5761</td>\n",
       "      <td>5761</td>\n",
       "      <td>”</td>\n",
       "    </tr>\n",
       "  </tbody>\n",
       "</table>\n",
       "<p>5762 rows × 2 columns</p>\n",
       "</div>"
      ],
      "text/plain": [
       "      term_id          term\n",
       "0           0            ''\n",
       "1           1           '05\n",
       "2           2           'll\n",
       "3           3           're\n",
       "4           4            's\n",
       "...       ...           ...\n",
       "5757     5757  zoldyck.hunt\n",
       "5758     5758            â€\n",
       "5759     5759          â€œa\n",
       "5760     5760           â€�\n",
       "5761     5761             ”\n",
       "\n",
       "[5762 rows x 2 columns]"
      ]
     },
     "execution_count": 73,
     "metadata": {},
     "output_type": "execute_result"
    }
   ],
   "source": [
    "voc"
   ]
  },
  {
   "cell_type": "markdown",
   "metadata": {},
   "source": [
    "## 5. Algorithmic question\n",
    "You consult for a personal trainer who has a *back-to-back sequence* of requests for appointments. A sequence of requests is of the form\n",
    "    > 30, 40, 25, 50, 30, 20\n",
    "where each number is the time that the person who makes the appointment wants to spend.\n",
    "You need to accept some requests, however you need a break between them, so you cannot accept two consecutive requests. For example, `[30, 50, 20]` is an acceptable solution (of duration *100*), but `[30, 40, 50, 20]` is not, because *30* and *40* are two consecutive appointments. Your goal is to provide to the personal trainer a schedule that maximizes the total length of the accepted appointments. For example, in the previous instance, the optimal solution is `[40, 50, 20]`, of total duration *110*.\n",
    "1. Write an algorithm that computes the acceptable solution with the longest possible duration.\n",
    "2. Implement a program that given in input an instance in the form given above, gives the optimal solution.\n"
   ]
  },
  {
   "cell_type": "markdown",
   "metadata": {},
   "source": [
    "### 1. Write an algorithm that computes the acceptable solution with the longest possible duration.\n",
    "\n",
    "##### Here we consider that all values in the instance are unique and len(instance) = n\n",
    "\n",
    "To compute the acceptable solution with the longest possible duration, we have to follow several steps :\n",
    "1. Compute every possible solution : So for that, list all sublists which represent each possible list of appointments.\n",
    "2. For each sublist, tell if it is acceptable or not, so if there are two consecutive appointments or not.\n",
    "3. Compute the total duration of each acceptable solution.\n",
    "4. Finally, return the solution which correspond to the maximum duration.\n",
    "\n",
    "```\n",
    "Input: \n",
    "    instance: list of length n\n",
    "\n",
    "function optimal_solution(instance):\n",
    "    n=len(instance)\n",
    "    for i=0 to n: \n",
    "        sublists = sublists + [all sublists with i elements]\n",
    "    \n",
    "    acceptable_solutions=[all element of sublists which are acceptable]\n",
    "    \n",
    "    durations = [duration of each element of acceptable_solutions]\n",
    "    max_duration = max(durations)\n",
    "    optimal_solutions = [sublists of instance with total duration == max_durations]\n",
    "    \n",
    "    return optimal_solutions, max_duration\n",
    "```"
   ]
  },
  {
   "cell_type": "markdown",
   "metadata": {},
   "source": [
    "### 2. Implement a program that given in input an instance in the form given above, gives the optimal solution.\n",
    "\n",
    "First of all, we create a function ```is_acceptable(solution, instance)``` that says if a solution is acceptable or not, i.e. there is not two consecutive requests of the instance in the solution.\n",
    "\n",
    "Then, the ```longest_acceptable_duration(instance)``` compute all possible sublists of the instance, test it with the function ```is_acceptable(solution, instance)```, sum every acceptable list (to compute the duration of each acceptable solution) and return the maximum. "
   ]
  },
  {
   "cell_type": "code",
   "execution_count": 142,
   "metadata": {},
   "outputs": [],
   "source": [
    "def is_acceptable(solution, instance):\n",
    "    res=True \n",
    "    for x,y in zip(solution[:-1],solution[1:]):\n",
    "        i= instance.index(x)\n",
    "        #index1 = np.where(np.array(instance) == x)\n",
    "        #for i in index[0]:\n",
    "        #if the next element is y \n",
    "        if instance[i+1] == y:\n",
    "            res = False\n",
    "    return res\n",
    "\n",
    "def optimal_solution(instance):\n",
    "    sublists=[]\n",
    "    \n",
    "    for i in range(1, len(instance)+1):\n",
    "        sublists+=[list(x) for x in combinations(instance, i)]\n",
    "        \n",
    "    mask = [is_acceptable(solution, instance) for solution in sublists]\n",
    "    acceptable_sol = np.array(sublists)[mask]\n",
    "    \n",
    "    durations = [sum(L) for L in acceptable_sol]\n",
    "    max_duration = max(durations)\n",
    "    \n",
    "    index_optimal_solutions = np.where(np.array(durations)==max_duration)\n",
    "    \n",
    "    return list(np.array(acceptable_sol)[index_optimal_solutions]), max_duration"
   ]
  },
  {
   "cell_type": "code",
   "execution_count": 143,
   "metadata": {},
   "outputs": [
    {
     "name": "stdout",
     "output_type": "stream",
     "text": [
      "[[40, 50, 20]] 110\n"
     ]
    }
   ],
   "source": [
    "instance = [30, 40, 25, 50, 30, 20]\n",
    "optimal_solutions, max_duration = optimal_solution(instance)\n",
    "print(optimal_solutions, max_duration)"
   ]
  }
 ],
 "metadata": {
  "colab": {
   "collapsed_sections": [],
   "name": "adm_hm3.ipynb",
   "provenance": []
  },
  "kernelspec": {
   "display_name": "Python 3",
   "language": "python",
   "name": "python3"
  },
  "language_info": {
   "codemirror_mode": {
    "name": "ipython",
    "version": 3
   },
   "file_extension": ".py",
   "mimetype": "text/x-python",
   "name": "python",
   "nbconvert_exporter": "python",
   "pygments_lexer": "ipython3",
   "version": "3.8.8"
  }
 },
 "nbformat": 4,
 "nbformat_minor": 1
}
