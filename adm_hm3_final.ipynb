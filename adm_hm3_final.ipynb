{
 "cells": [
  {
   "cell_type": "markdown",
   "metadata": {},
   "source": [
    "# Homework 3 - What is the best anime in the world?"
   ]
  },
  {
   "cell_type": "code",
   "execution_count": 2,
   "metadata": {
    "id": "1vpHmGKKVr3y"
   },
   "outputs": [
    {
     "name": "stderr",
     "output_type": "stream",
     "text": [
      "C:\\Users\\aurel\\Downloads\\Anaconda3\\lib\\site-packages\\sklearn\\feature_extraction\\image.py:167: DeprecationWarning: `np.int` is a deprecated alias for the builtin `int`. To silence this warning, use `int` by itself. Doing this will not modify any behavior and is safe. When replacing `np.int`, you may wish to use e.g. `np.int64` or `np.int32` to specify the precision. If you wish to review your current use, check the release note link for additional information.\n",
      "Deprecated in NumPy 1.20; for more details and guidance: https://numpy.org/devdocs/release/1.20.0-notes.html#deprecations\n",
      "  dtype=np.int):\n",
      "C:\\Users\\aurel\\Downloads\\Anaconda3\\lib\\site-packages\\sklearn\\linear_model\\least_angle.py:30: DeprecationWarning: `np.float` is a deprecated alias for the builtin `float`. To silence this warning, use `float` by itself. Doing this will not modify any behavior and is safe. If you specifically wanted the numpy scalar type, use `np.float64` here.\n",
      "Deprecated in NumPy 1.20; for more details and guidance: https://numpy.org/devdocs/release/1.20.0-notes.html#deprecations\n",
      "  method='lar', copy_X=True, eps=np.finfo(np.float).eps,\n",
      "C:\\Users\\aurel\\Downloads\\Anaconda3\\lib\\site-packages\\sklearn\\linear_model\\least_angle.py:167: DeprecationWarning: `np.float` is a deprecated alias for the builtin `float`. To silence this warning, use `float` by itself. Doing this will not modify any behavior and is safe. If you specifically wanted the numpy scalar type, use `np.float64` here.\n",
      "Deprecated in NumPy 1.20; for more details and guidance: https://numpy.org/devdocs/release/1.20.0-notes.html#deprecations\n",
      "  method='lar', copy_X=True, eps=np.finfo(np.float).eps,\n",
      "C:\\Users\\aurel\\Downloads\\Anaconda3\\lib\\site-packages\\sklearn\\linear_model\\least_angle.py:284: DeprecationWarning: `np.float` is a deprecated alias for the builtin `float`. To silence this warning, use `float` by itself. Doing this will not modify any behavior and is safe. If you specifically wanted the numpy scalar type, use `np.float64` here.\n",
      "Deprecated in NumPy 1.20; for more details and guidance: https://numpy.org/devdocs/release/1.20.0-notes.html#deprecations\n",
      "  eps=np.finfo(np.float).eps, copy_Gram=True, verbose=0,\n",
      "C:\\Users\\aurel\\Downloads\\Anaconda3\\lib\\site-packages\\sklearn\\linear_model\\least_angle.py:862: DeprecationWarning: `np.float` is a deprecated alias for the builtin `float`. To silence this warning, use `float` by itself. Doing this will not modify any behavior and is safe. If you specifically wanted the numpy scalar type, use `np.float64` here.\n",
      "Deprecated in NumPy 1.20; for more details and guidance: https://numpy.org/devdocs/release/1.20.0-notes.html#deprecations\n",
      "  eps=np.finfo(np.float).eps, copy_X=True, fit_path=True,\n",
      "C:\\Users\\aurel\\Downloads\\Anaconda3\\lib\\site-packages\\sklearn\\linear_model\\least_angle.py:1101: DeprecationWarning: `np.float` is a deprecated alias for the builtin `float`. To silence this warning, use `float` by itself. Doing this will not modify any behavior and is safe. If you specifically wanted the numpy scalar type, use `np.float64` here.\n",
      "Deprecated in NumPy 1.20; for more details and guidance: https://numpy.org/devdocs/release/1.20.0-notes.html#deprecations\n",
      "  eps=np.finfo(np.float).eps, copy_X=True, fit_path=True,\n",
      "C:\\Users\\aurel\\Downloads\\Anaconda3\\lib\\site-packages\\sklearn\\linear_model\\least_angle.py:1127: DeprecationWarning: `np.float` is a deprecated alias for the builtin `float`. To silence this warning, use `float` by itself. Doing this will not modify any behavior and is safe. If you specifically wanted the numpy scalar type, use `np.float64` here.\n",
      "Deprecated in NumPy 1.20; for more details and guidance: https://numpy.org/devdocs/release/1.20.0-notes.html#deprecations\n",
      "  eps=np.finfo(np.float).eps, positive=False):\n",
      "C:\\Users\\aurel\\Downloads\\Anaconda3\\lib\\site-packages\\sklearn\\linear_model\\least_angle.py:1362: DeprecationWarning: `np.float` is a deprecated alias for the builtin `float`. To silence this warning, use `float` by itself. Doing this will not modify any behavior and is safe. If you specifically wanted the numpy scalar type, use `np.float64` here.\n",
      "Deprecated in NumPy 1.20; for more details and guidance: https://numpy.org/devdocs/release/1.20.0-notes.html#deprecations\n",
      "  max_n_alphas=1000, n_jobs=None, eps=np.finfo(np.float).eps,\n",
      "C:\\Users\\aurel\\Downloads\\Anaconda3\\lib\\site-packages\\sklearn\\linear_model\\least_angle.py:1602: DeprecationWarning: `np.float` is a deprecated alias for the builtin `float`. To silence this warning, use `float` by itself. Doing this will not modify any behavior and is safe. If you specifically wanted the numpy scalar type, use `np.float64` here.\n",
      "Deprecated in NumPy 1.20; for more details and guidance: https://numpy.org/devdocs/release/1.20.0-notes.html#deprecations\n",
      "  max_n_alphas=1000, n_jobs=None, eps=np.finfo(np.float).eps,\n",
      "C:\\Users\\aurel\\Downloads\\Anaconda3\\lib\\site-packages\\sklearn\\linear_model\\least_angle.py:1738: DeprecationWarning: `np.float` is a deprecated alias for the builtin `float`. To silence this warning, use `float` by itself. Doing this will not modify any behavior and is safe. If you specifically wanted the numpy scalar type, use `np.float64` here.\n",
      "Deprecated in NumPy 1.20; for more details and guidance: https://numpy.org/devdocs/release/1.20.0-notes.html#deprecations\n",
      "  eps=np.finfo(np.float).eps, copy_X=True, positive=False):\n"
     ]
    },
    {
     "ename": "IndentationError",
     "evalue": "expected an indented block (utilities.py, line 21)",
     "output_type": "error",
     "traceback": [
      "Traceback \u001b[1;36m(most recent call last)\u001b[0m:\n",
      "  File \u001b[0;32m\"C:\\Users\\aurel\\Downloads\\Anaconda3\\lib\\site-packages\\IPython\\core\\interactiveshell.py\"\u001b[0m, line \u001b[0;32m3326\u001b[0m, in \u001b[0;35mrun_code\u001b[0m\n    exec(code_obj, self.user_global_ns, self.user_ns)\n",
      "\u001b[1;36m  File \u001b[1;32m\"<ipython-input-2-efb259039870>\"\u001b[1;36m, line \u001b[1;32m15\u001b[1;36m, in \u001b[1;35m<module>\u001b[1;36m\u001b[0m\n\u001b[1;33m    from utilities import *\u001b[0m\n",
      "\u001b[1;36m  File \u001b[1;32m\"C:\\Users\\aurel\\OneDrive\\Bureau\\IMT\\3ème année IMT\\0_Cours Sapienza\\ADM\\Homework\\Homework 3\\0_github\\ADM_HM3\\utilities.py\"\u001b[1;36m, line \u001b[1;32m21\u001b[0m\n\u001b[1;33m    waits an incremental amount of time before making a new one.\"\"\"\u001b[0m\n\u001b[1;37m                                                                   \n^\u001b[0m\n\u001b[1;31mIndentationError\u001b[0m\u001b[1;31m:\u001b[0m expected an indented block\n"
     ]
    }
   ],
   "source": [
    "import requests\n",
    "from bs4 import BeautifulSoup as bs\n",
    "import os\n",
    "import pickle\n",
    "import numpy as np\n",
    "import time\n",
    "import re\n",
    "import datetime as dt \n",
    "import csv\n",
    "import pandas as pd\n",
    "import nltk\n",
    "from nltk.corpus import stopwords\n",
    "import string\n",
    "import heapq\n",
    "from utilities import *"
   ]
  },
  {
   "cell_type": "markdown",
   "metadata": {},
   "source": [
    "## 1. Data collection\n",
    "\n",
    "### 1.1. Get the list of animes"
   ]
  },
  {
   "cell_type": "markdown",
   "metadata": {},
   "source": [
    "First, we obtain the urls for the top 20000 animes listed in the top anime series tier list. This is done across approximately 400 pages. Once we've collected all the urls, we save them in a txt file."
   ]
  },
  {
   "cell_type": "code",
   "execution_count": 3,
   "metadata": {
    "colab": {
     "base_uri": "https://localhost:8080/"
    },
    "id": "pdJbPl0CWPPq",
    "outputId": "b98b3450-05af-4830-d7dc-e08e66c56092"
   },
   "outputs": [
    {
     "name": "stdout",
     "output_type": "stream",
     "text": [
      "Loading urls...\n",
      "Done!\n"
     ]
    }
   ],
   "source": [
    "if \"urls.txt\" not in os.listdir():\n",
    "    urls = take_n_urls(20000)\n",
    "    # Since the output of this step has to be a txt file, here we write one with each\n",
    "    # url separated by a newline\n",
    "    with open(\"urls.txt\", \"w\") as file:\n",
    "        file.write(\"\\n\".join(urls_str))\n",
    "else:\n",
    "    with open(\"urls.txt\", \"r\", encoding=\"utf8\") as file:\n",
    "        print(\"Loading urls...\")\n",
    "        urls = file.read().split(\"\\n\")\n",
    "        print(\"Done!\")"
   ]
  },
  {
   "cell_type": "markdown",
   "metadata": {},
   "source": [
    "We end up with 19131 urls."
   ]
  },
  {
   "cell_type": "code",
   "execution_count": 4,
   "metadata": {
    "colab": {
     "base_uri": "https://localhost:8080/"
    },
    "id": "BIe7cbwc_zOt",
    "outputId": "268a24bd-5649-4cce-ff7d-5e9cdf87d09a"
   },
   "outputs": [
    {
     "name": "stdout",
     "output_type": "stream",
     "text": [
      "19130\n"
     ]
    }
   ],
   "source": [
    "# We check the lenght of our list of URL which is actually 19103 instead of 20000 as it is said in the homework. \n",
    "\n",
    "print(len(urls)) "
   ]
  },
  {
   "cell_type": "code",
   "execution_count": 5,
   "metadata": {
    "colab": {
     "base_uri": "https://localhost:8080/"
    },
    "id": "BIe7cbwc_zOt",
    "outputId": "268a24bd-5649-4cce-ff7d-5e9cdf87d09a"
   },
   "outputs": [],
   "source": [
    "urls_str = list(map(str, urls))"
   ]
  },
  {
   "cell_type": "markdown",
   "metadata": {},
   "source": [
    "### 1.2. Crawl animes"
   ]
  },
  {
   "cell_type": "markdown",
   "metadata": {},
   "source": [
    "We then proceeded to save the htmls for each of this urls.\n",
    "After approximately 175 requests the website blocks any further requests so we added some checks to the status_code of each request in order to wait some time if we had been locked out. We also designed a system than allowed for multiple members of our team to automatically continue the collection of html pages from where it was left off at the last git push.\n",
    "\n",
    "##### Further details on our strategy for these issues are in the documentation of the function (```utilities.py``` file)."
   ]
  },
  {
   "cell_type": "code",
   "execution_count": 4,
   "metadata": {},
   "outputs": [],
   "source": [
    "# Here we create the directory where the html pages will be stored\n",
    "if \"html_pages\" not in os.listdir():\n",
    "    os.mkdir(\"html_pages\")"
   ]
  },
  {
   "cell_type": "code",
   "execution_count": 5,
   "metadata": {},
   "outputs": [
    {
     "name": "stdout",
     "output_type": "stream",
     "text": [
      "Starting from anime #19130\n"
     ]
    }
   ],
   "source": [
    "save_html_pages(urls)"
   ]
  },
  {
   "cell_type": "markdown",
   "metadata": {},
   "source": [
    "### 1.3 Parse downloaded pages\n",
    "\n",
    "Then we proceeded to create tsv files for each anime with the fields recommended in the homework description.\n",
    "\n",
    "1. Anime Name (to save as `animeTitle`): String\n",
    "2. Anime Type (to save as `animeType`): String\n",
    "3. Number of episode (to save as `animeNumEpisode`): Integer\n",
    "4. Release and End Dates of anime (to save as `releaseDate` and `endDate`): Convert both release and end date into datetime format.\n",
    "5. Number of members (to save as `animeNumMembers`): Integer\n",
    "6. Score (to save as `animeScore`): Float\n",
    "7. Users (to save as `animeUsers`): Integer\n",
    "8. Rank (to save as `animeRank`): Integer\n",
    "9. Popularity (to save as `animePopularity`): Integer\n",
    "10. Synopsis (to save as `animeDescription`): String\n",
    "11. Related Anime (to save as `animeRelated`): Extract all the related animes, but only keep unique values and those that have a hyperlink associated to them. List of strings.\n",
    "12. Characters (to save as `animeCharacters`): List of strings.\n",
    "13. Voices (to save as `animeVoices`): List of strings\n",
    "14. Staff (to save as `animeStaff`): Include the staff name and their responsibility/task in a list of lists.\n"
   ]
  },
  {
   "cell_type": "code",
   "execution_count": 6,
   "metadata": {},
   "outputs": [],
   "source": [
    "# Here we create the directory where the tsv files will be stored\n",
    "if \"tsv_files\" not in os.listdir():\n",
    "    os.mkdir(\"tsv_files\")\n",
    "    for i in range(len(urls)):\n",
    "        collect_info(i) #you can find details in utilities.py "
   ]
  },
  {
   "cell_type": "markdown",
   "metadata": {},
   "source": [
    "## 2. Search Engine"
   ]
  },
  {
   "cell_type": "markdown",
   "metadata": {},
   "source": [
    "### 2.0. Pre-processing\n",
    "\n",
    "1. Removing stopwords\n",
    "2. Removing punctuation\n",
    "3. Stemming\n",
    "4. Anything else you think it's needed"
   ]
  },
  {
   "cell_type": "markdown",
   "metadata": {},
   "source": [
    "Our next step consisted in merging all the tsvs in a single dataframe and then preprocessing the synopsis for each anime. This preprocessing consisted in tokenizing the words with nltk, removing punctuation and stopwords and then stemming the results. The stemming was achieved specifically through the Porter stemmer, but the function is also able to perform the same process with the Lancaster stemmer.\n",
    "<br>\n",
    "The dataframe with the preprocessed synopsis is saved as a binary file for further use, while the original dataframe is saved as a regular csv."
   ]
  },
  {
   "cell_type": "code",
   "execution_count": 8,
   "metadata": {},
   "outputs": [],
   "source": [
    "path = \"./tsv_files/\"\n",
    "colnames = [\"animeTitle\", \"animeType\", \"animeNumEpisode\", \"releaseDate\", \"endDate\", \"animeNumMembers\",\n",
    "            \"animeScore\", \"animeUsers\", \"animeRank\", \"animePopularity\", \"animeDescription\", \"animeRelated\",\n",
    "            \"animeCharacters\", \"animeVoices\", \"animeStaff\"]\n",
    "\n",
    "if \"html_df.csv\" not in os.listdir():\n",
    "    df = merge_tsvs(path, colnames)\n",
    "    # Save our df in csv format\n",
    "    df.to_csv(\"./html_df.csv\")\n",
    "else:\n",
    "    df = pd.read_csv(\"html_df.csv\")"
   ]
  },
  {
   "cell_type": "code",
   "execution_count": 9,
   "metadata": {},
   "outputs": [],
   "source": [
    "# create (or load if it already exists) a copy of our dataframe with an extra column containing the preprocessed synopsis\n",
    "if \"df_with_tokens.p\" not in os.listdir():\n",
    "    df_new = df.assign(tokenized_desc=df[\"animeDescription\"].apply(lambda x: process_text(x)))\n",
    "    with open(\"df_with_tokens.p\", \"wb\") as file:\n",
    "        pickle.dump(df_new, file)\n",
    "else:\n",
    "    with open(\"df_with_tokens.p\", \"rb\") as file:\n",
    "        df_new = pickle.load(file)"
   ]
  },
  {
   "cell_type": "code",
   "execution_count": 10,
   "metadata": {},
   "outputs": [
    {
     "name": "stdout",
     "output_type": "stream",
     "text": [
      "<class 'pandas.core.frame.DataFrame'>\n",
      "RangeIndex: 19130 entries, 0 to 19129\n",
      "Data columns (total 16 columns):\n",
      " #   Column            Non-Null Count  Dtype  \n",
      "---  ------            --------------  -----  \n",
      " 0   animeTitle        19130 non-null  object \n",
      " 1   animeType         19130 non-null  object \n",
      " 2   animeNumEpisode   18620 non-null  float64\n",
      " 3   releaseDate       18760 non-null  object \n",
      " 4   endDate           8451 non-null   object \n",
      " 5   animeNumMembers   19130 non-null  int64  \n",
      " 6   animeScore        13436 non-null  float64\n",
      " 7   animeUsers        13436 non-null  float64\n",
      " 8   animeRank         17307 non-null  float64\n",
      " 9   animePopularity   19130 non-null  int64  \n",
      " 10  animeDescription  19130 non-null  object \n",
      " 11  animeRelated      12706 non-null  object \n",
      " 12  animeCharacters   19130 non-null  object \n",
      " 13  animeVoices       19130 non-null  object \n",
      " 14  animeStaff        10247 non-null  object \n",
      " 15  tokenized_desc    19130 non-null  object \n",
      "dtypes: float64(4), int64(2), object(10)\n",
      "memory usage: 2.3+ MB\n"
     ]
    }
   ],
   "source": [
    "df_new.info()"
   ]
  },
  {
   "cell_type": "markdown",
   "metadata": {},
   "source": [
    "### 2.1. Conjunctive query\n",
    "#### 2.1.1) Create your index!\n",
    "\n",
    "Now we create a vocabulary file that maps each word to an integer (\"term_id\").\n",
    "We also create an inverted index that for each term_id maps to the documents that contain that word, according to the following format:\n",
    "\n",
    "```\n",
    "{\n",
    "term_id_1:[document_1, document_2, document_4],\n",
    "term_id_2:[document_1, document_3, document_5, document_6],\n",
    "...}\n",
    "```\n",
    "\n",
    "where _document\\_i_ is the *id* of a document that contains the word.\n"
   ]
  },
  {
   "cell_type": "markdown",
   "metadata": {},
   "source": [
    "##### You can find the documentation of those functions in ```utilities.py```"
   ]
  },
  {
   "cell_type": "code",
   "execution_count": 11,
   "metadata": {},
   "outputs": [
    {
     "name": "stdout",
     "output_type": "stream",
     "text": [
      "Downloading corpus... Done\n",
      "Downloading vocabulary... Done\n",
      "Downloading inverted index... Done\n"
     ]
    }
   ],
   "source": [
    "#define the names of the interesting files \n",
    "name_voc_file = \"vocabulary.pkl\"\n",
    "name_file_corpus = 'df_with_tokens.p'\n",
    "name_inv_ind_file = \"inverted_index.pkl\"\n",
    "\n",
    "#download the corpus and the vocabulary\n",
    "corpus = download_corpus(name_file_corpus)\n",
    "voc = download_voc(corpus, name_voc_file)\n",
    "inv_ind = download_inverted_index(corpus,voc, name_inv_ind_file)"
   ]
  },
  {
   "cell_type": "markdown",
   "metadata": {},
   "source": [
    "#### 2.1.2) Execute the query\n",
    "\n",
    "Next we created a search engine that, given a query, returns the documents that contain all the words in the query.\n",
    "<br><br>\n",
    "Specifically, for each documents, as per homework specifications, we return:\n",
    "\n",
    "* `animeTitle`\n",
    "* `animeDescription`\n",
    "* `Url`"
   ]
  },
  {
   "cell_type": "markdown",
   "metadata": {},
   "source": [
    "Here the query is get with an ```input()``` method. We test our search engine on the query \"saiyan race\":"
   ]
  },
  {
   "cell_type": "markdown",
   "metadata": {},
   "source": [
    "##### You can find the documentation of this function in ```utilities.py```"
   ]
  },
  {
   "cell_type": "code",
   "execution_count": 22,
   "metadata": {},
   "outputs": [
    {
     "name": "stdout",
     "output_type": "stream",
     "text": [
      "What is your query ?saiyan race\n"
     ]
    },
    {
     "data": {
      "text/html": [
       "<div>\n",
       "<style scoped>\n",
       "    .dataframe tbody tr th:only-of-type {\n",
       "        vertical-align: middle;\n",
       "    }\n",
       "\n",
       "    .dataframe tbody tr th {\n",
       "        vertical-align: top;\n",
       "    }\n",
       "\n",
       "    .dataframe thead th {\n",
       "        text-align: right;\n",
       "    }\n",
       "</style>\n",
       "<table border=\"1\" class=\"dataframe\">\n",
       "  <thead>\n",
       "    <tr style=\"text-align: right;\">\n",
       "      <th></th>\n",
       "      <th>animeTitle</th>\n",
       "      <th>animeDescription</th>\n",
       "      <th>Url</th>\n",
       "    </tr>\n",
       "  </thead>\n",
       "  <tbody>\n",
       "    <tr>\n",
       "      <th>364</th>\n",
       "      <td>Dragon Ball Z</td>\n",
       "      <td>Five years after winning the World Martial Art...</td>\n",
       "      <td>https://myanimelist.net/anime/813/Dragon_Ball_Z</td>\n",
       "    </tr>\n",
       "    <tr>\n",
       "      <th>401</th>\n",
       "      <td>Dragon Ball Super: Broly</td>\n",
       "      <td>Forty-one years ago on Planet Vegeta, home of ...</td>\n",
       "      <td>https://myanimelist.net/anime/36946/Dragon_Bal...</td>\n",
       "    </tr>\n",
       "    <tr>\n",
       "      <th>1035</th>\n",
       "      <td>Dragon Ball Kai</td>\n",
       "      <td>Five years after the events of Dragon Ball, ma...</td>\n",
       "      <td>https://myanimelist.net/anime/6033/Dragon_Ball...</td>\n",
       "    </tr>\n",
       "    <tr>\n",
       "      <th>1467</th>\n",
       "      <td>Dragon Ball Z Special 1: Tatta Hitori no Saish...</td>\n",
       "      <td>Bardock, Son Goku's father, is a low-ranking S...</td>\n",
       "      <td>https://myanimelist.net/anime/986/Dragon_Ball_...</td>\n",
       "    </tr>\n",
       "    <tr>\n",
       "      <th>1961</th>\n",
       "      <td>Dragon Ball Super</td>\n",
       "      <td>Seven years after the events of Dragon Ball Z,...</td>\n",
       "      <td>https://myanimelist.net/anime/30694/Dragon_Bal...</td>\n",
       "    </tr>\n",
       "    <tr>\n",
       "      <th>2015</th>\n",
       "      <td>Dragon Ball Z Movie 14: Kami to Kami</td>\n",
       "      <td>Following the defeat of a great adversary, Gok...</td>\n",
       "      <td>https://myanimelist.net/anime/14837/Dragon_Bal...</td>\n",
       "    </tr>\n",
       "    <tr>\n",
       "      <th>2296</th>\n",
       "      <td>Dragon Ball Z Movie 08: Moetsukiro!! Nessen, R...</td>\n",
       "      <td>As Goku investigates the destruction of the So...</td>\n",
       "      <td>https://myanimelist.net/anime/901/Dragon_Ball_...</td>\n",
       "    </tr>\n",
       "    <tr>\n",
       "      <th>4339</th>\n",
       "      <td>Dragon Ball: Ossu! Kaettekita Son Gokuu to Nak...</td>\n",
       "      <td>Based on an original concept by the original a...</td>\n",
       "      <td>https://myanimelist.net/anime/5152/Dragon_Ball...</td>\n",
       "    </tr>\n",
       "    <tr>\n",
       "      <th>4673</th>\n",
       "      <td>Dragon Ball Z Movie 10: Kiken na Futari! Super...</td>\n",
       "      <td>After his loss to Goku, Broly crash lands and ...</td>\n",
       "      <td>https://myanimelist.net/anime/903/Dragon_Ball_...</td>\n",
       "    </tr>\n",
       "    <tr>\n",
       "      <th>5664</th>\n",
       "      <td>Dragon Ball Z: Summer Vacation Special</td>\n",
       "      <td>One peaceful afternoon, the Son family and fri...</td>\n",
       "      <td>https://myanimelist.net/anime/22695/Dragon_Bal...</td>\n",
       "    </tr>\n",
       "    <tr>\n",
       "      <th>6092</th>\n",
       "      <td>Dragon Ball Z: Zenbu Misemasu Toshi Wasure Dra...</td>\n",
       "      <td>In this film, which is believed to take place ...</td>\n",
       "      <td>https://myanimelist.net/anime/22699/Dragon_Bal...</td>\n",
       "    </tr>\n",
       "    <tr>\n",
       "      <th>6560</th>\n",
       "      <td>Galo Sengen</td>\n",
       "      <td>Galo Sengen (\"Galish Man GAL\" in English / GAL...</td>\n",
       "      <td>https://myanimelist.net/anime/20929/Galo_Sengen</td>\n",
       "    </tr>\n",
       "    <tr>\n",
       "      <th>8969</th>\n",
       "      <td>Dragon Ball Z: The Real 4-D at Super Tenkaichi...</td>\n",
       "      <td>Dragon Ball Z: The Real 4-D at Super Tenkaichi...</td>\n",
       "      <td>https://myanimelist.net/anime/42449/Dragon_Bal...</td>\n",
       "    </tr>\n",
       "    <tr>\n",
       "      <th>9229</th>\n",
       "      <td>Dragon Ball Z Movie 11: Super Senshi Gekiha!! ...</td>\n",
       "      <td>Jaga Bada, Mr. Satan's old sparring partner, h...</td>\n",
       "      <td>https://myanimelist.net/anime/904/Dragon_Ball_...</td>\n",
       "    </tr>\n",
       "  </tbody>\n",
       "</table>\n",
       "</div>"
      ],
      "text/plain": [
       "                                             animeTitle  \\\n",
       "364                                       Dragon Ball Z   \n",
       "401                            Dragon Ball Super: Broly   \n",
       "1035                                    Dragon Ball Kai   \n",
       "1467  Dragon Ball Z Special 1: Tatta Hitori no Saish...   \n",
       "1961                                  Dragon Ball Super   \n",
       "2015               Dragon Ball Z Movie 14: Kami to Kami   \n",
       "2296  Dragon Ball Z Movie 08: Moetsukiro!! Nessen, R...   \n",
       "4339  Dragon Ball: Ossu! Kaettekita Son Gokuu to Nak...   \n",
       "4673  Dragon Ball Z Movie 10: Kiken na Futari! Super...   \n",
       "5664             Dragon Ball Z: Summer Vacation Special   \n",
       "6092  Dragon Ball Z: Zenbu Misemasu Toshi Wasure Dra...   \n",
       "6560                                        Galo Sengen   \n",
       "8969  Dragon Ball Z: The Real 4-D at Super Tenkaichi...   \n",
       "9229  Dragon Ball Z Movie 11: Super Senshi Gekiha!! ...   \n",
       "\n",
       "                                       animeDescription  \\\n",
       "364   Five years after winning the World Martial Art...   \n",
       "401   Forty-one years ago on Planet Vegeta, home of ...   \n",
       "1035  Five years after the events of Dragon Ball, ma...   \n",
       "1467  Bardock, Son Goku's father, is a low-ranking S...   \n",
       "1961  Seven years after the events of Dragon Ball Z,...   \n",
       "2015  Following the defeat of a great adversary, Gok...   \n",
       "2296  As Goku investigates the destruction of the So...   \n",
       "4339  Based on an original concept by the original a...   \n",
       "4673  After his loss to Goku, Broly crash lands and ...   \n",
       "5664  One peaceful afternoon, the Son family and fri...   \n",
       "6092  In this film, which is believed to take place ...   \n",
       "6560  Galo Sengen (\"Galish Man GAL\" in English / GAL...   \n",
       "8969  Dragon Ball Z: The Real 4-D at Super Tenkaichi...   \n",
       "9229  Jaga Bada, Mr. Satan's old sparring partner, h...   \n",
       "\n",
       "                                                    Url  \n",
       "364     https://myanimelist.net/anime/813/Dragon_Ball_Z  \n",
       "401   https://myanimelist.net/anime/36946/Dragon_Bal...  \n",
       "1035  https://myanimelist.net/anime/6033/Dragon_Ball...  \n",
       "1467  https://myanimelist.net/anime/986/Dragon_Ball_...  \n",
       "1961  https://myanimelist.net/anime/30694/Dragon_Bal...  \n",
       "2015  https://myanimelist.net/anime/14837/Dragon_Bal...  \n",
       "2296  https://myanimelist.net/anime/901/Dragon_Ball_...  \n",
       "4339  https://myanimelist.net/anime/5152/Dragon_Ball...  \n",
       "4673  https://myanimelist.net/anime/903/Dragon_Ball_...  \n",
       "5664  https://myanimelist.net/anime/22695/Dragon_Bal...  \n",
       "6092  https://myanimelist.net/anime/22699/Dragon_Bal...  \n",
       "6560    https://myanimelist.net/anime/20929/Galo_Sengen  \n",
       "8969  https://myanimelist.net/anime/42449/Dragon_Bal...  \n",
       "9229  https://myanimelist.net/anime/904/Dragon_Ball_...  "
      ]
     },
     "execution_count": 22,
     "metadata": {},
     "output_type": "execute_result"
    }
   ],
   "source": [
    "search_engine_1(voc, inv_ind, urls)"
   ]
  },
  {
   "cell_type": "markdown",
   "metadata": {},
   "source": [
    "### 2.2) Conjunctive query & Ranking score\n",
    "#### 2.2.1) Inverted index"
   ]
  },
  {
   "cell_type": "markdown",
   "metadata": {},
   "source": [
    "We created several functions that helped us achieve the goal of this exercise. \n",
    "<br><br>\n",
    "First, we created a function that calculates the tfidf score for each word and document provided. This function returns not only the tfidf, but also, to achieve slightly faster computational times, the idf scores since they do not depend on the specific document at hand and can be computed just once for each word.\n",
    "<br><br>\n",
    "We also created another inverted index that stores for each term_id not only the documents that include that word, but also their respective tfidf scores.\n",
    "<br><br>\n",
    "Finally, using this inverted index, our search engine retrieves the documents that satisfy all the words in a query, computes the cosine distance between their tfidf and the one from the query (which is treated as its own document), reorganize them in a max-heap structure according to the cosine similarity score, and returns the top k results (if less than k results are available for that specific query, it returns all the results it finds).\n",
    "\n",
    "For each output we display the fields animeTitle, animeDescription, Url and similarity score."
   ]
  },
  {
   "cell_type": "markdown",
   "metadata": {},
   "source": [
    "##### You can find the documentation of those functions in ```utilities.py```"
   ]
  },
  {
   "cell_type": "code",
   "execution_count": 13,
   "metadata": {
    "scrolled": false
   },
   "outputs": [
    {
     "name": "stdout",
     "output_type": "stream",
     "text": [
      "Downloading inverted index tf.idf... Done\n"
     ]
    }
   ],
   "source": [
    "ii_2, idfs = download_inverted_index_tfidf(corpus,voc, \"inverted_index_2.p\", \"idfs.p\")"
   ]
  },
  {
   "cell_type": "markdown",
   "metadata": {},
   "source": [
    "Here we first test it with the query \"sayian goku vegeta\": (k=10)"
   ]
  },
  {
   "cell_type": "code",
   "execution_count": 28,
   "metadata": {},
   "outputs": [
    {
     "data": {
      "text/html": [
       "<div>\n",
       "<style scoped>\n",
       "    .dataframe tbody tr th:only-of-type {\n",
       "        vertical-align: middle;\n",
       "    }\n",
       "\n",
       "    .dataframe tbody tr th {\n",
       "        vertical-align: top;\n",
       "    }\n",
       "\n",
       "    .dataframe thead th {\n",
       "        text-align: right;\n",
       "    }\n",
       "</style>\n",
       "<table border=\"1\" class=\"dataframe\">\n",
       "  <thead>\n",
       "    <tr style=\"text-align: right;\">\n",
       "      <th></th>\n",
       "      <th>animeTitle</th>\n",
       "      <th>animeDescription</th>\n",
       "      <th>Url</th>\n",
       "      <th>Similarity</th>\n",
       "    </tr>\n",
       "  </thead>\n",
       "  <tbody>\n",
       "    <tr>\n",
       "      <th>4798</th>\n",
       "      <td>Dragon Ball Z: Saiya-jin Zetsumetsu Keikaku</td>\n",
       "      <td>Dr. Raichii is the only Tsufurujin (the race e...</td>\n",
       "      <td>https://myanimelist.net/anime/984/Dragon_Ball_...</td>\n",
       "      <td>0.996483</td>\n",
       "    </tr>\n",
       "    <tr>\n",
       "      <th>2935</th>\n",
       "      <td>Dragon Ball: Episode of Bardock</td>\n",
       "      <td>Shown at Jump Festa 2012, held in December, 20...</td>\n",
       "      <td>https://myanimelist.net/anime/12231/Dragon_Bal...</td>\n",
       "      <td>0.996483</td>\n",
       "    </tr>\n",
       "    <tr>\n",
       "      <th>3338</th>\n",
       "      <td>Dragon Ball Z Movie 09: Ginga Girigiri!! Bucch...</td>\n",
       "      <td>Mr. Money is holding another Tenka'ichi Budoka...</td>\n",
       "      <td>https://myanimelist.net/anime/902/Dragon_Ball_...</td>\n",
       "      <td>0.996483</td>\n",
       "    </tr>\n",
       "    <tr>\n",
       "      <th>2296</th>\n",
       "      <td>Dragon Ball Z Movie 08: Moetsukiro!! Nessen, R...</td>\n",
       "      <td>As Goku investigates the destruction of the So...</td>\n",
       "      <td>https://myanimelist.net/anime/901/Dragon_Ball_...</td>\n",
       "      <td>0.971844</td>\n",
       "    </tr>\n",
       "    <tr>\n",
       "      <th>8034</th>\n",
       "      <td>Dragon Ball Z: The Real 4-D</td>\n",
       "      <td>Goku and Frieza may have battled in the manga ...</td>\n",
       "      <td>https://myanimelist.net/anime/33947/Dragon_Bal...</td>\n",
       "      <td>0.918850</td>\n",
       "    </tr>\n",
       "    <tr>\n",
       "      <th>4413</th>\n",
       "      <td>Dragon Ball Z Movie 07: Kyokugen Battle!! Sand...</td>\n",
       "      <td>Dr. Gero's Androids #13, #14, and #15 are awak...</td>\n",
       "      <td>https://myanimelist.net/anime/900/Dragon_Ball_...</td>\n",
       "      <td>0.853809</td>\n",
       "    </tr>\n",
       "  </tbody>\n",
       "</table>\n",
       "</div>"
      ],
      "text/plain": [
       "                                             animeTitle  \\\n",
       "4798        Dragon Ball Z: Saiya-jin Zetsumetsu Keikaku   \n",
       "2935                    Dragon Ball: Episode of Bardock   \n",
       "3338  Dragon Ball Z Movie 09: Ginga Girigiri!! Bucch...   \n",
       "2296  Dragon Ball Z Movie 08: Moetsukiro!! Nessen, R...   \n",
       "8034                        Dragon Ball Z: The Real 4-D   \n",
       "4413  Dragon Ball Z Movie 07: Kyokugen Battle!! Sand...   \n",
       "\n",
       "                                       animeDescription  \\\n",
       "4798  Dr. Raichii is the only Tsufurujin (the race e...   \n",
       "2935  Shown at Jump Festa 2012, held in December, 20...   \n",
       "3338  Mr. Money is holding another Tenka'ichi Budoka...   \n",
       "2296  As Goku investigates the destruction of the So...   \n",
       "8034  Goku and Frieza may have battled in the manga ...   \n",
       "4413  Dr. Gero's Androids #13, #14, and #15 are awak...   \n",
       "\n",
       "                                                    Url  Similarity  \n",
       "4798  https://myanimelist.net/anime/984/Dragon_Ball_...    0.996483  \n",
       "2935  https://myanimelist.net/anime/12231/Dragon_Bal...    0.996483  \n",
       "3338  https://myanimelist.net/anime/902/Dragon_Ball_...    0.996483  \n",
       "2296  https://myanimelist.net/anime/901/Dragon_Ball_...    0.971844  \n",
       "8034  https://myanimelist.net/anime/33947/Dragon_Bal...    0.918850  \n",
       "4413  https://myanimelist.net/anime/900/Dragon_Ball_...    0.853809  "
      ]
     },
     "execution_count": 28,
     "metadata": {},
     "output_type": "execute_result"
    }
   ],
   "source": [
    "query = \"sayian goku vegeta\"\n",
    "output = search_k_matches(query, corpus, voc, ii_2, idfs, urls)\n",
    "output"
   ]
  },
  {
   "cell_type": "markdown",
   "metadata": {},
   "source": [
    "And then we test it against the keywords \"ranma urusei\" which are two characters from two different animes that only meet in a special crossover episode called \"It's a Rumic World\". We can see that the search engine correctly gives this result as the best match, followed by another Ranma 1/2 episode. No other results satisfy this query."
   ]
  },
  {
   "cell_type": "code",
   "execution_count": 29,
   "metadata": {},
   "outputs": [],
   "source": [
    "query = \"ranma urusei\"\n",
    "output = search_k_matches(query, corpus, voc, ii_2, idfs, urls)"
   ]
  },
  {
   "cell_type": "code",
   "execution_count": 30,
   "metadata": {},
   "outputs": [
    {
     "data": {
      "text/html": [
       "<div>\n",
       "<style scoped>\n",
       "    .dataframe tbody tr th:only-of-type {\n",
       "        vertical-align: middle;\n",
       "    }\n",
       "\n",
       "    .dataframe tbody tr th {\n",
       "        vertical-align: top;\n",
       "    }\n",
       "\n",
       "    .dataframe thead th {\n",
       "        text-align: right;\n",
       "    }\n",
       "</style>\n",
       "<table border=\"1\" class=\"dataframe\">\n",
       "  <thead>\n",
       "    <tr style=\"text-align: right;\">\n",
       "      <th></th>\n",
       "      <th>animeTitle</th>\n",
       "      <th>animeDescription</th>\n",
       "      <th>Url</th>\n",
       "      <th>Similarity</th>\n",
       "    </tr>\n",
       "  </thead>\n",
       "  <tbody>\n",
       "    <tr>\n",
       "      <th>4286</th>\n",
       "      <td>It's a Rumic World: 50th Anniversary Weekly★Sh...</td>\n",
       "      <td>The characters from Ranma 1/2, Urusei Yatsura,...</td>\n",
       "      <td>https://myanimelist.net/anime/6566/Its_a_Rumic...</td>\n",
       "      <td>0.997792</td>\n",
       "    </tr>\n",
       "    <tr>\n",
       "      <th>1160</th>\n",
       "      <td>Ranma ½ Super</td>\n",
       "      <td>Super OVA 1: Based on a story from vol. 27 of ...</td>\n",
       "      <td>https://myanimelist.net/anime/1011/Ranma_½_Super</td>\n",
       "      <td>0.910875</td>\n",
       "    </tr>\n",
       "  </tbody>\n",
       "</table>\n",
       "</div>"
      ],
      "text/plain": [
       "                                             animeTitle  \\\n",
       "4286  It's a Rumic World: 50th Anniversary Weekly★Sh...   \n",
       "1160                                      Ranma ½ Super   \n",
       "\n",
       "                                       animeDescription  \\\n",
       "4286  The characters from Ranma 1/2, Urusei Yatsura,...   \n",
       "1160  Super OVA 1: Based on a story from vol. 27 of ...   \n",
       "\n",
       "                                                    Url  Similarity  \n",
       "4286  https://myanimelist.net/anime/6566/Its_a_Rumic...    0.997792  \n",
       "1160   https://myanimelist.net/anime/1011/Ranma_½_Super    0.910875  "
      ]
     },
     "execution_count": 30,
     "metadata": {},
     "output_type": "execute_result"
    }
   ],
   "source": [
    "output"
   ]
  },
  {
   "cell_type": "markdown",
   "metadata": {},
   "source": [
    "## 3. Define a new score!\n"
   ]
  },
  {
   "cell_type": "markdown",
   "metadata": {},
   "source": [
    "For this exercise we designed an algorithm that allows the user to specify certain parameters (specifically, **year of release**, **voice actors**, **characters**, **related animes** and **type of episode**) in addition to the main query, in order to get better results for the search.\n",
    "<br><br>\n",
    "Specifically, the user can submit the query in one of two ways: either directly in the format \"query \\[parameter1=x, parameter2=y...\\]\" or, if the string is not provided, through a form that collects the data for each field and then assembles the same string so that the inner logic of the algorithm doesn't change regardless of the way the query is collected.\n",
    "<br><br>\n",
    "The function process_query then collects each field and returns a dictionary containing all the relevant information.\n",
    "<br><br>\n",
    "We then proceed to evaluate the cosine distance between the tfidf scores of each document including all the words in the query and the query itself as we did before, but we also assess whether the fields specified in the query match with those of the documents we analyzed and we accordingly create a specific vector of booleans called vector_parameters.\n",
    "\n",
    "This vector is then used to compute the Tanimoto Distance with the query (we assume for the query a vector of all 1s).\n",
    "\n",
    "The reason why we adopted a specific distance measure for the parameters rather than using the cosine distance is that the latter performs very poorly on boolean vectors.\n",
    "\n",
    "Finally, we average the cosine distance computed on the tfidf scores and the Tanimoto distance computed on the parameters and obtain a single score, which is then used to again organize the results in a max-heap structure and return the top k results.\n",
    "\n",
    "It's important to notice that since the Tanimoto distance is computed across five different parameters, each parameter weighs 1/5 of the total score and thus does not have the potential, alone, to overturn a match in the main query.\n",
    "\n",
    "This concept will be made more clear in the following examples."
   ]
  },
  {
   "cell_type": "markdown",
   "metadata": {},
   "source": [
    "##### You can find the documentation of those functions in ```utilities.py```"
   ]
  },
  {
   "cell_type": "markdown",
   "metadata": {},
   "source": [
    "***First Experiment***\n",
    "<br><br>\n",
    "For our first example we use the main query \"ranma urusei\" which should point more to #4286 (because that episode features both characters), and we provide the correct year and genre. \n",
    "\n",
    "Everything else is either wrong or missing. We end up with a similarity of approximately 80%."
   ]
  },
  {
   "cell_type": "code",
   "execution_count": 31,
   "metadata": {},
   "outputs": [
    {
     "data": {
      "text/html": [
       "<div>\n",
       "<style scoped>\n",
       "    .dataframe tbody tr th:only-of-type {\n",
       "        vertical-align: middle;\n",
       "    }\n",
       "\n",
       "    .dataframe tbody tr th {\n",
       "        vertical-align: top;\n",
       "    }\n",
       "\n",
       "    .dataframe thead th {\n",
       "        text-align: right;\n",
       "    }\n",
       "</style>\n",
       "<table border=\"1\" class=\"dataframe\">\n",
       "  <thead>\n",
       "    <tr style=\"text-align: right;\">\n",
       "      <th></th>\n",
       "      <th>animeTitle</th>\n",
       "      <th>animeDescription</th>\n",
       "      <th>Url</th>\n",
       "      <th>Similarity</th>\n",
       "    </tr>\n",
       "  </thead>\n",
       "  <tbody>\n",
       "    <tr>\n",
       "      <th>4286</th>\n",
       "      <td>It's a Rumic World: 50th Anniversary Weekly★Sh...</td>\n",
       "      <td>The characters from Ranma 1/2, Urusei Yatsura,...</td>\n",
       "      <td>https://myanimelist.net/anime/6566/Its_a_Rumic...</td>\n",
       "      <td>0.798896</td>\n",
       "    </tr>\n",
       "    <tr>\n",
       "      <th>1160</th>\n",
       "      <td>Ranma ½ Super</td>\n",
       "      <td>Super OVA 1: Based on a story from vol. 27 of ...</td>\n",
       "      <td>https://myanimelist.net/anime/1011/Ranma_½_Super</td>\n",
       "      <td>0.555438</td>\n",
       "    </tr>\n",
       "  </tbody>\n",
       "</table>\n",
       "</div>"
      ],
      "text/plain": [
       "                                             animeTitle  \\\n",
       "4286  It's a Rumic World: 50th Anniversary Weekly★Sh...   \n",
       "1160                                      Ranma ½ Super   \n",
       "\n",
       "                                       animeDescription  \\\n",
       "4286  The characters from Ranma 1/2, Urusei Yatsura,...   \n",
       "1160  Super OVA 1: Based on a story from vol. 27 of ...   \n",
       "\n",
       "                                                    Url  Similarity  \n",
       "4286  https://myanimelist.net/anime/6566/Its_a_Rumic...    0.798896  \n",
       "1160   https://myanimelist.net/anime/1011/Ranma_½_Super    0.555438  "
      ]
     },
     "execution_count": 31,
     "metadata": {},
     "output_type": "execute_result"
    }
   ],
   "source": [
    "# example with query provided\n",
    "query = \"ranma urusei [year=2008, type=special, voices=(gianni), related=(gemelli del destino), characters=(ranma)]\"\n",
    "search_k_matches_2(corpus, voc, ii_2, idfs, urls, query=query)"
   ]
  },
  {
   "cell_type": "markdown",
   "metadata": {},
   "source": [
    "***Second experiment***\n",
    "\n",
    "Now we keep the same main query but we put the year for the other episode. \n",
    "\n",
    "This should raise the similarity for #1160 and lower the one for #4286. This is exactly what happens, but since the cosine similarity has more weight than the single coefficients for the Tanimoto (so the parameters), the top result is still the one that better matches the main query \"ranma urusei\"."
   ]
  },
  {
   "cell_type": "code",
   "execution_count": 32,
   "metadata": {},
   "outputs": [
    {
     "data": {
      "text/html": [
       "<div>\n",
       "<style scoped>\n",
       "    .dataframe tbody tr th:only-of-type {\n",
       "        vertical-align: middle;\n",
       "    }\n",
       "\n",
       "    .dataframe tbody tr th {\n",
       "        vertical-align: top;\n",
       "    }\n",
       "\n",
       "    .dataframe thead th {\n",
       "        text-align: right;\n",
       "    }\n",
       "</style>\n",
       "<table border=\"1\" class=\"dataframe\">\n",
       "  <thead>\n",
       "    <tr style=\"text-align: right;\">\n",
       "      <th></th>\n",
       "      <th>animeTitle</th>\n",
       "      <th>animeDescription</th>\n",
       "      <th>Url</th>\n",
       "      <th>Similarity</th>\n",
       "    </tr>\n",
       "  </thead>\n",
       "  <tbody>\n",
       "    <tr>\n",
       "      <th>4286</th>\n",
       "      <td>It's a Rumic World: 50th Anniversary Weekly★Sh...</td>\n",
       "      <td>The characters from Ranma 1/2, Urusei Yatsura,...</td>\n",
       "      <td>https://myanimelist.net/anime/6566/Its_a_Rumic...</td>\n",
       "      <td>0.698896</td>\n",
       "    </tr>\n",
       "    <tr>\n",
       "      <th>1160</th>\n",
       "      <td>Ranma ½ Super</td>\n",
       "      <td>Super OVA 1: Based on a story from vol. 27 of ...</td>\n",
       "      <td>https://myanimelist.net/anime/1011/Ranma_½_Super</td>\n",
       "      <td>0.655438</td>\n",
       "    </tr>\n",
       "  </tbody>\n",
       "</table>\n",
       "</div>"
      ],
      "text/plain": [
       "                                             animeTitle  \\\n",
       "4286  It's a Rumic World: 50th Anniversary Weekly★Sh...   \n",
       "1160                                      Ranma ½ Super   \n",
       "\n",
       "                                       animeDescription  \\\n",
       "4286  The characters from Ranma 1/2, Urusei Yatsura,...   \n",
       "1160  Super OVA 1: Based on a story from vol. 27 of ...   \n",
       "\n",
       "                                                    Url  Similarity  \n",
       "4286  https://myanimelist.net/anime/6566/Its_a_Rumic...    0.698896  \n",
       "1160   https://myanimelist.net/anime/1011/Ranma_½_Super    0.655438  "
      ]
     },
     "execution_count": 32,
     "metadata": {},
     "output_type": "execute_result"
    }
   ],
   "source": [
    "query = \"ranma urusei [year=1995, type=special, voices=(gianni), related=(gemelli del destino), characters=(ranma)]\"\n",
    "search_k_matches_2(corpus, voc, ii_2, idfs, urls, query=query)"
   ]
  },
  {
   "cell_type": "markdown",
   "metadata": {},
   "source": [
    "***Third experiment***\n",
    "\n",
    "Now we enter also the anyme type of the other episode. \n",
    "\n",
    "At this point, since we have two parameters pointing toward #1160, the order is inverted and we get #1160 as the first result. Again, this makes sense because at this point the query seems to match more #1160 than #4286."
   ]
  },
  {
   "cell_type": "code",
   "execution_count": 33,
   "metadata": {},
   "outputs": [
    {
     "data": {
      "text/html": [
       "<div>\n",
       "<style scoped>\n",
       "    .dataframe tbody tr th:only-of-type {\n",
       "        vertical-align: middle;\n",
       "    }\n",
       "\n",
       "    .dataframe tbody tr th {\n",
       "        vertical-align: top;\n",
       "    }\n",
       "\n",
       "    .dataframe thead th {\n",
       "        text-align: right;\n",
       "    }\n",
       "</style>\n",
       "<table border=\"1\" class=\"dataframe\">\n",
       "  <thead>\n",
       "    <tr style=\"text-align: right;\">\n",
       "      <th></th>\n",
       "      <th>animeTitle</th>\n",
       "      <th>animeDescription</th>\n",
       "      <th>Url</th>\n",
       "      <th>Similarity</th>\n",
       "    </tr>\n",
       "  </thead>\n",
       "  <tbody>\n",
       "    <tr>\n",
       "      <th>1160</th>\n",
       "      <td>Ranma ½ Super</td>\n",
       "      <td>Super OVA 1: Based on a story from vol. 27 of ...</td>\n",
       "      <td>https://myanimelist.net/anime/1011/Ranma_½_Super</td>\n",
       "      <td>0.755438</td>\n",
       "    </tr>\n",
       "    <tr>\n",
       "      <th>4286</th>\n",
       "      <td>It's a Rumic World: 50th Anniversary Weekly★Sh...</td>\n",
       "      <td>The characters from Ranma 1/2, Urusei Yatsura,...</td>\n",
       "      <td>https://myanimelist.net/anime/6566/Its_a_Rumic...</td>\n",
       "      <td>0.598896</td>\n",
       "    </tr>\n",
       "  </tbody>\n",
       "</table>\n",
       "</div>"
      ],
      "text/plain": [
       "                                             animeTitle  \\\n",
       "1160                                      Ranma ½ Super   \n",
       "4286  It's a Rumic World: 50th Anniversary Weekly★Sh...   \n",
       "\n",
       "                                       animeDescription  \\\n",
       "1160  Super OVA 1: Based on a story from vol. 27 of ...   \n",
       "4286  The characters from Ranma 1/2, Urusei Yatsura,...   \n",
       "\n",
       "                                                    Url  Similarity  \n",
       "1160   https://myanimelist.net/anime/1011/Ranma_½_Super    0.755438  \n",
       "4286  https://myanimelist.net/anime/6566/Its_a_Rumic...    0.598896  "
      ]
     },
     "execution_count": 33,
     "metadata": {},
     "output_type": "execute_result"
    }
   ],
   "source": [
    "query = \"ranma urusei [year=1995, type=ova, voices=(gianni), related=(gemelli del destino), characters=(ranma)]\"\n",
    "search_k_matches_2(corpus, voc, ii_2, idfs, urls, query=query)"
   ]
  },
  {
   "cell_type": "markdown",
   "metadata": {},
   "source": [
    "***Query retrieval via form***\n",
    "\n",
    "Here is an example of the query retrieval via form"
   ]
  },
  {
   "cell_type": "code",
   "execution_count": 21,
   "metadata": {
    "scrolled": true
   },
   "outputs": [
    {
     "name": "stdout",
     "output_type": "stream",
     "text": [
      "Enter your query: ranma urusei\n",
      "Year it was released: 2008\n",
      "Type of anime: special\n",
      "Voice actors: gianni\n",
      "Characters: sandro\n",
      "Related animes: \n"
     ]
    },
    {
     "data": {
      "text/html": [
       "<div>\n",
       "<style scoped>\n",
       "    .dataframe tbody tr th:only-of-type {\n",
       "        vertical-align: middle;\n",
       "    }\n",
       "\n",
       "    .dataframe tbody tr th {\n",
       "        vertical-align: top;\n",
       "    }\n",
       "\n",
       "    .dataframe thead th {\n",
       "        text-align: right;\n",
       "    }\n",
       "</style>\n",
       "<table border=\"1\" class=\"dataframe\">\n",
       "  <thead>\n",
       "    <tr style=\"text-align: right;\">\n",
       "      <th></th>\n",
       "      <th>animeTitle</th>\n",
       "      <th>animeDescription</th>\n",
       "      <th>Url</th>\n",
       "      <th>Similarity</th>\n",
       "    </tr>\n",
       "  </thead>\n",
       "  <tbody>\n",
       "    <tr>\n",
       "      <th>4286</th>\n",
       "      <td>It's a Rumic World: 50th Anniversary Weekly★Sh...</td>\n",
       "      <td>The characters from Ranma 1/2, Urusei Yatsura,...</td>\n",
       "      <td>https://myanimelist.net/anime/6566/Its_a_Rumic...</td>\n",
       "      <td>0.748896</td>\n",
       "    </tr>\n",
       "    <tr>\n",
       "      <th>1160</th>\n",
       "      <td>Ranma ½ Super</td>\n",
       "      <td>Super OVA 1: Based on a story from vol. 27 of ...</td>\n",
       "      <td>https://myanimelist.net/anime/1011/Ranma_½_Super</td>\n",
       "      <td>0.455438</td>\n",
       "    </tr>\n",
       "  </tbody>\n",
       "</table>\n",
       "</div>"
      ],
      "text/plain": [
       "                                             animeTitle  \\\n",
       "4286  It's a Rumic World: 50th Anniversary Weekly★Sh...   \n",
       "1160                                      Ranma ½ Super   \n",
       "\n",
       "                                       animeDescription  \\\n",
       "4286  The characters from Ranma 1/2, Urusei Yatsura,...   \n",
       "1160  Super OVA 1: Based on a story from vol. 27 of ...   \n",
       "\n",
       "                                                    Url  Similarity  \n",
       "4286  https://myanimelist.net/anime/6566/Its_a_Rumic...    0.748896  \n",
       "1160   https://myanimelist.net/anime/1011/Ranma_½_Super    0.455438  "
      ]
     },
     "execution_count": 21,
     "metadata": {},
     "output_type": "execute_result"
    }
   ],
   "source": [
    "# example with query via form\n",
    "search_k_matches_2(corpus, voc, ii_2, idfs, urls)"
   ]
  },
  {
   "cell_type": "markdown",
   "metadata": {},
   "source": [
    "## 5. Algorithmic question\n",
    "\n",
    "##### Problem :\n",
    "You consult for a personal trainer who has a *back-to-back sequence* of requests for appointments. A sequence of requests is of the form\n",
    "    > 30, 40, 25, 50, 30, 20\n",
    "where each number is the time that the person who makes the appointment wants to spend.\n",
    "You need to accept some requests, however you need a break between them, so you cannot accept two consecutive requests. For example, `[30, 50, 20]` is an acceptable solution (of duration *100*), but `[30, 40, 50, 20]` is not, because *30* and *40* are two consecutive appointments. Your goal is to provide to the personal trainer a schedule that maximizes the total length of the accepted appointments. For example, in the previous instance, the optimal solution is `[40, 50, 20]`, of total duration *110*."
   ]
  },
  {
   "cell_type": "markdown",
   "metadata": {},
   "source": [
    "### 1. Write an algorithm that computes the acceptable solution with the longest possible duration.\n",
    "\n",
    "##### Here we consider that all values in the instance are unique and len(instance) = n\n",
    "\n",
    "To compute the acceptable solution with the longest possible duration, we have to follow several steps :\n",
    "1. Compute every possible solution : So for that, list all sublists which represent each possible list of appointments.\n",
    "2. For each sublist, tell if it is acceptable or not, so if there are two consecutive appointments or not.\n",
    "3. Compute the total duration of each acceptable solution.\n",
    "4. Finally, return the solution which correspond to the maximum duration.\n",
    "\n",
    "```\n",
    "Input: \n",
    "    instance: list of length n\n",
    "\n",
    "function optimal_solution(instance):\n",
    "    n=len(instance)\n",
    "    for i=0 to n: \n",
    "        sublists = sublists + [all sublists with i elements]\n",
    "    \n",
    "    acceptable_solutions=[all element of sublists which are acceptable]\n",
    "    \n",
    "    durations = [duration of each element of acceptable_solutions]\n",
    "    max_duration = max(durations)\n",
    "    optimal_solutions = [sublists of instance with total duration == max_durations]\n",
    "    \n",
    "    return optimal_solutions, max_duration\n",
    "```"
   ]
  },
  {
   "cell_type": "markdown",
   "metadata": {},
   "source": [
    "### 2. Implement a program that given in input an instance in the form given above, gives the optimal solution.\n",
    "\n",
    "First of all, we create a function ```is_acceptable(solution, instance)``` that says if a solution is acceptable or not, i.e. there is not two consecutive requests of the instance in the solution.\n",
    "\n",
    "Then, the ```longest_acceptable_duration(instance)``` compute all possible sublists of the instance, test it with the function ```is_acceptable(solution, instance)```, sum every acceptable list (to compute the duration of each acceptable solution) and return the maximum. "
   ]
  },
  {
   "cell_type": "code",
   "execution_count": 142,
   "metadata": {},
   "outputs": [],
   "source": [
    "def is_acceptable(solution, instance):\n",
    "    res=True \n",
    "    for x,y in zip(solution[:-1],solution[1:]):\n",
    "        i= instance.index(x)\n",
    "        #if the next element is y \n",
    "        if instance[i+1] == y:\n",
    "            res = False\n",
    "    return res\n",
    "\n",
    "def optimal_solution(instance):\n",
    "    sublists=[]\n",
    "    \n",
    "    for i in range(1, len(instance)+1):\n",
    "        sublists+=[list(x) for x in combinations(instance, i)]\n",
    "        \n",
    "    mask = [is_acceptable(solution, instance) for solution in sublists]\n",
    "    acceptable_sol = np.array(sublists)[mask]\n",
    "    \n",
    "    durations = [sum(L) for L in acceptable_sol]\n",
    "    max_duration = max(durations)\n",
    "    \n",
    "    index_optimal_solutions = np.where(np.array(durations)==max_duration)\n",
    "    \n",
    "    return list(np.array(acceptable_sol)[index_optimal_solutions]), max_duration"
   ]
  },
  {
   "cell_type": "code",
   "execution_count": 143,
   "metadata": {},
   "outputs": [
    {
     "name": "stdout",
     "output_type": "stream",
     "text": [
      "[[40, 50, 20]] 110\n"
     ]
    }
   ],
   "source": [
    "instance = [30, 40, 25, 50, 30, 20]\n",
    "optimal_solutions, max_duration = optimal_solution(instance)\n",
    "print(optimal_solutions, max_duration)"
   ]
  }
 ],
 "metadata": {
  "colab": {
   "collapsed_sections": [],
   "name": "adm_hm3.ipynb",
   "provenance": []
  },
  "kernelspec": {
   "display_name": "Python 3",
   "language": "python",
   "name": "python3"
  },
  "language_info": {
   "codemirror_mode": {
    "name": "ipython",
    "version": 3
   },
   "file_extension": ".py",
   "mimetype": "text/x-python",
   "name": "python",
   "nbconvert_exporter": "python",
   "pygments_lexer": "ipython3",
   "version": "3.7.4"
  }
 },
 "nbformat": 4,
 "nbformat_minor": 1
}
